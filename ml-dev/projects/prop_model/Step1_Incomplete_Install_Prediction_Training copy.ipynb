{
 "cells": [
  {
   "cell_type": "markdown",
   "id": "7062e484-defb-4668-b0f7-2a769cabf9fb",
   "metadata": {},
   "source": [
    "# Incomplete Installation Prediction: Model Training"
   ]
  },
  {
   "cell_type": "markdown",
   "id": "25485852-f001-4187-ac21-54505096486e",
   "metadata": {},
   "source": [
    "**Package Versions Required** \\\n",
    "`numpy` v. 1.18.5 \\\n",
    "`pandas` v. 1.1.1 \\\n",
    "`seaborn` v. 0.10.1\n",
    "\n",
    "`google-cloud-bigquery` v. 1.26.1 \\\n",
    "`google-auth`: 1.21.1 \\\n",
    "`google-cloud-bigquery-storage`: 1.0.0 \\\n",
    "`google-cloud-storage`: 1.30.0 \\\n",
    "`google-cloud-core`: 1.3.0 \\\n",
    "`google-api-core`: 1.22.2 \\\n",
    "`google-resumable-media`: 0.7.1 \\\n",
    "`google-auth-oauthlib`: 0.4.1\n",
    "\n",
    "`scikit-learn` v. 0.23.2 \\\n",
    "`xgboost`: 1.6.1 \\\n",
    "`mlxtend`: 0.19.0"
   ]
  },
  {
   "cell_type": "code",
   "execution_count": null,
   "id": "f0ee2c43",
   "metadata": {},
   "outputs": [
    {
     "name": "stdout",
     "output_type": "stream",
     "text": [
      "Requirement already satisfied: category_encoders in d:\\xtremeanalytics\\github_ml\\venv\\lib\\site-packages (2.6.3)Note: you may need to restart the kernel to use updated packages.\n"
     ]
    },
    {
     "name": "stderr",
     "output_type": "stream",
     "text": [
      "\n",
      "[notice] A new release of pip is available: 23.0.1 -> 24.2\n",
      "[notice] To update, run: python.exe -m pip install --upgrade pip\n"
     ]
    },
    {
     "name": "stdout",
     "output_type": "stream",
     "text": [
      "\n",
      "Requirement already satisfied: scikit-learn>=0.20.0 in d:\\xtremeanalytics\\github_ml\\venv\\lib\\site-packages (from category_encoders) (1.3.2)\n",
      "Requirement already satisfied: numpy>=1.14.0 in d:\\xtremeanalytics\\github_ml\\venv\\lib\\site-packages (from category_encoders) (1.24.4)\n",
      "Requirement already satisfied: patsy>=0.5.1 in d:\\xtremeanalytics\\github_ml\\venv\\lib\\site-packages (from category_encoders) (0.5.6)\n",
      "Requirement already satisfied: importlib-resources in d:\\xtremeanalytics\\github_ml\\venv\\lib\\site-packages (from category_encoders) (6.4.4)\n",
      "Requirement already satisfied: pandas>=1.0.5 in d:\\xtremeanalytics\\github_ml\\venv\\lib\\site-packages (from category_encoders) (2.0.3)\n",
      "Requirement already satisfied: scipy>=1.0.0 in d:\\xtremeanalytics\\github_ml\\venv\\lib\\site-packages (from category_encoders) (1.10.1)\n",
      "Requirement already satisfied: statsmodels>=0.9.0 in d:\\xtremeanalytics\\github_ml\\venv\\lib\\site-packages (from category_encoders) (0.14.1)\n",
      "Requirement already satisfied: tzdata>=2022.1 in d:\\xtremeanalytics\\github_ml\\venv\\lib\\site-packages (from pandas>=1.0.5->category_encoders) (2024.1)\n",
      "Requirement already satisfied: python-dateutil>=2.8.2 in d:\\xtremeanalytics\\github_ml\\venv\\lib\\site-packages (from pandas>=1.0.5->category_encoders) (2.9.0.post0)\n",
      "Requirement already satisfied: pytz>=2020.1 in d:\\xtremeanalytics\\github_ml\\venv\\lib\\site-packages (from pandas>=1.0.5->category_encoders) (2024.1)\n",
      "Requirement already satisfied: six in d:\\xtremeanalytics\\github_ml\\venv\\lib\\site-packages (from patsy>=0.5.1->category_encoders) (1.16.0)\n",
      "Requirement already satisfied: threadpoolctl>=2.0.0 in d:\\xtremeanalytics\\github_ml\\venv\\lib\\site-packages (from scikit-learn>=0.20.0->category_encoders) (3.5.0)\n",
      "Requirement already satisfied: joblib>=1.1.1 in d:\\xtremeanalytics\\github_ml\\venv\\lib\\site-packages (from scikit-learn>=0.20.0->category_encoders) (1.4.2)\n",
      "Requirement already satisfied: packaging>=21.3 in d:\\xtremeanalytics\\github_ml\\venv\\lib\\site-packages (from statsmodels>=0.9.0->category_encoders) (23.2)\n",
      "Requirement already satisfied: zipp>=3.1.0 in d:\\xtremeanalytics\\github_ml\\venv\\lib\\site-packages (from importlib-resources->category_encoders) (3.20.0)\n"
     ]
    }
   ],
   "source": [
    "pip install category_encoders"
   ]
  },
  {
   "cell_type": "code",
   "execution_count": 1,
   "id": "0a528c17-065d-4d6c-9165-c05db58484c3",
   "metadata": {
    "tags": []
   },
   "outputs": [],
   "source": [
    "# import all the required dependecnies and modules\n",
    "\n",
    "from sklearn.pipeline import Pipeline, make_pipeline, FeatureUnion\n",
    "import pandas as pd\n",
    "pd.options.mode.chained_assignment = None  # default='warn'\n",
    "import numpy as np\n",
    "import matplotlib\n",
    "%matplotlib inline\n",
    "import seaborn as sns\n",
    "import matplotlib.pyplot as plt\n",
    "#sns.set_theme(style=\"whitegrid\")\n",
    "from sklearn.preprocessing import OneHotEncoder\n",
    "from sklearn.preprocessing import MinMaxScaler\n",
    "from sklearn.model_selection import train_test_split\n",
    "import time\n",
    "import pickle\n",
    "from google.cloud import bigquery\n",
    "from google.oauth2 import service_account\n",
    "# from google.cloud import bigquery_storage_v1\n",
    "import string\n",
    "import xgboost as xgb\n",
    "import importlib\n",
    "import utility as pp\n",
    "import category_encoders as ce\n",
    "import warnings\n",
    "warnings.filterwarnings(\"ignore\")"
   ]
  },
  {
   "cell_type": "markdown",
   "id": "fbf4fd27-3f51-4022-a937-5570d1357dba",
   "metadata": {},
   "source": [
    "## Read the training data for specific month from BQ"
   ]
  },
  {
   "cell_type": "code",
   "execution_count": 2,
   "id": "931b2115",
   "metadata": {},
   "outputs": [],
   "source": [
    "import os\n",
    "os.environ['gcp_service_account'] = 'ascendant-epoch-432900-m8-e97fb3b60497.json'"
   ]
  },
  {
   "cell_type": "code",
   "execution_count": 3,
   "id": "a3d5d1e1",
   "metadata": {},
   "outputs": [],
   "source": [
    "import json\n",
    "# service_account_info = json.loads('ascendant-epoch-432900-m8-e97fb3b60497.json')\n",
    "\n",
    "with open('ascendant-epoch-432900-m8-e97fb3b60497.json', 'r') as f:\n",
    "        service_account_info = json.load(f)\n",
    "credentials = service_account.Credentials.from_service_account_info(\n",
    "    service_account_info\n",
    ")\n",
    "client = bigquery.Client(credentials=credentials)"
   ]
  },
  {
   "cell_type": "code",
   "execution_count": 4,
   "id": "434cd6f1-ab96-40c9-9780-b3710c86fc1f",
   "metadata": {
    "tags": []
   },
   "outputs": [],
   "source": [
    "project_id = \"ascendant-epoch-432900-m8\"\n",
    "dataset_id = \"prop_model\"\n",
    "table_id = \"churn_train_v1\""
   ]
  },
  {
   "cell_type": "code",
   "execution_count": 54,
   "id": "2146d3c6",
   "metadata": {},
   "outputs": [
    {
     "name": "stdout",
     "output_type": "stream",
     "text": [
      "DataFrame shape: (4250, 20)\n",
      "  state  account_length      area_code  international_plan  voice_mail_plan  \\\n",
      "0    KS              70  area_code_408               False            False   \n",
      "1    VT             165  area_code_510               False            False   \n",
      "2    MO             106  area_code_415               False            False   \n",
      "3    WI              62  area_code_415               False            False   \n",
      "4    KS              70  area_code_415               False            False   \n",
      "\n",
      "   number_vmail_messages  total_day_minutes  total_day_calls  \\\n",
      "0                      0              232.1              122   \n",
      "1                      0              242.9              126   \n",
      "2                      0              114.4              104   \n",
      "3                      0              281.0               66   \n",
      "4                      0              222.8              114   \n",
      "\n",
      "   total_day_charge  total_eve_minutes  total_eve_calls  total_eve_charge  \\\n",
      "0             39.46              292.3              112             24.85   \n",
      "1             41.29              209.8               65             17.83   \n",
      "2             19.45               78.3              101              6.66   \n",
      "3             47.77              160.6              108             13.65   \n",
      "4             37.88              215.9              113             18.35   \n",
      "\n",
      "   total_night_minutes  total_night_calls  total_night_charge  \\\n",
      "0                201.2                112                9.05   \n",
      "1                228.4                126               10.28   \n",
      "2                232.7                 78               10.47   \n",
      "3                 77.9                 74                3.51   \n",
      "4                223.5                122               10.06   \n",
      "\n",
      "   total_intl_minutes  total_intl_calls  total_intl_charge  \\\n",
      "0                 0.0                 0                0.0   \n",
      "1                 0.0                 0                0.0   \n",
      "2                 0.0                 0                0.0   \n",
      "3                 0.0                 0                0.0   \n",
      "4                 0.0                 0                0.0   \n",
      "\n",
      "   number_customer_service_calls  churn  \n",
      "0                              3  False  \n",
      "1                              1  False  \n",
      "2                              2  False  \n",
      "3                              1  False  \n",
      "4                              1  False  \n"
     ]
    }
   ],
   "source": [
    "from google.cloud import bigquery\n",
    "import pandas as pd\n",
    "\n",
    "# Set your project ID\n",
    "project_id = \"ascendant-epoch-432900-m8\"\n",
    "\n",
    "# Initialize the BigQuery client\n",
    "# client = bigquery.Client(project=project_id)\n",
    "\n",
    "# Define your query\n",
    "query = \"\"\"\n",
    "    SELECT\n",
    "      *\n",
    "    FROM\n",
    "      `ascendant-epoch-432900-m8.prop_model.churn_train_v1`\n",
    "    \n",
    "\"\"\"\n",
    "\n",
    "# Run the query\n",
    "query_job = client.query(query)\n",
    "\n",
    "# Fetch the results as a pandas DataFrame\n",
    "df = query_job.to_dataframe()\n",
    "\n",
    "# Print the shape of the DataFrame\n",
    "print(f\"DataFrame shape: {df.shape}\")\n",
    "\n",
    "# Display the first few rows\n",
    "print(df.head())\n",
    "\n",
    "\n",
    "df['ID'] = np.arange(1000, 1000 + len(df))"
   ]
  },
  {
   "cell_type": "code",
   "execution_count": 11,
   "id": "d528b146",
   "metadata": {},
   "outputs": [
    {
     "name": "stdout",
     "output_type": "stream",
     "text": [
      "DataFrame shape: (750, 20)\n",
      "    id state  account_length      area_code  international_plan  \\\n",
      "0  687    AL             123  area_code_415               False   \n",
      "1  567    VA             144  area_code_415               False   \n",
      "2  614    SC              94  area_code_408               False   \n",
      "3  736    NM             155  area_code_415               False   \n",
      "4   67    MS             150  area_code_510               False   \n",
      "\n",
      "   voice_mail_plan  number_vmail_messages  total_day_minutes  total_day_calls  \\\n",
      "0            False                      0              132.6              100   \n",
      "1            False                      0               97.9              119   \n",
      "2            False                      0              229.2              103   \n",
      "3            False                      0              281.6              103   \n",
      "4            False                      0              126.0               99   \n",
      "\n",
      "   total_day_charge  total_eve_minutes  total_eve_calls  total_eve_charge  \\\n",
      "0             22.54              198.8              102             16.90   \n",
      "1             16.64              171.3               88             14.56   \n",
      "2             38.96              163.9              133             13.93   \n",
      "3             47.87              152.7               82             12.98   \n",
      "4             21.42              238.5               73             20.27   \n",
      "\n",
      "   total_night_minutes  total_night_calls  total_night_charge  \\\n",
      "0                168.9                105                7.60   \n",
      "1                169.9                 83                7.65   \n",
      "2                190.1                 67                8.55   \n",
      "3                196.8                 86                8.86   \n",
      "4                285.1                100               12.83   \n",
      "\n",
      "   total_intl_minutes  total_intl_calls  total_intl_charge  \\\n",
      "0                 0.0                 0               0.00   \n",
      "1                 7.4                 4               2.00   \n",
      "2                 7.4                 6               2.00   \n",
      "3                 7.4                 3               2.00   \n",
      "4                10.2                 6               2.75   \n",
      "\n",
      "   number_customer_service_calls  \n",
      "0                              1  \n",
      "1                              0  \n",
      "2                              3  \n",
      "3                              2  \n",
      "4                              3  \n"
     ]
    }
   ],
   "source": [
    "from google.cloud import bigquery\n",
    "import pandas as pd\n",
    "\n",
    "# Set your project ID\n",
    "project_id = \"ascendant-epoch-432900-m8\"\n",
    "\n",
    "# Initialize the BigQuery client\n",
    "# client = bigquery.Client(project=project_id)\n",
    "\n",
    "# Define your query\n",
    "query = \"\"\"\n",
    "    SELECT\n",
    "      *\n",
    "    FROM\n",
    "      `ascendant-epoch-432900-m8.prop_model.churn_test_v1`\n",
    "    \n",
    "\"\"\"\n",
    "\n",
    "# Run the query\n",
    "query_job = client.query(query)\n",
    "\n",
    "# Fetch the results as a pandas DataFrame\n",
    "df_test = query_job.to_dataframe()\n",
    "\n",
    "# Print the shape of the DataFrame\n",
    "print(f\"DataFrame shape: {df_test.shape}\")\n",
    "\n",
    "# Display the first few rows\n",
    "print(df_test.head())\n",
    "\n",
    "\n",
    "df_test['ID'] = np.arange(2000, 2000 + len(df_test))"
   ]
  },
  {
   "cell_type": "code",
   "execution_count": 78,
   "id": "d2af8901-782c-4a75-9ca5-f9591be31f8d",
   "metadata": {
    "tags": []
   },
   "outputs": [],
   "source": [
    "raw_data_res = pd.concat([df, df_test], ignore_index=True)\n",
    "raw_data_res = raw_data_res.drop(columns = 'id')"
   ]
  },
  {
   "cell_type": "code",
   "execution_count": 79,
   "id": "0de9da32",
   "metadata": {},
   "outputs": [],
   "source": [
    "raw_data_res['churn'] = raw_data_res['churn'].fillna(False)"
   ]
  },
  {
   "cell_type": "code",
   "execution_count": 80,
   "id": "0853e882",
   "metadata": {},
   "outputs": [],
   "source": [
    "raw_data_res['churn'] = raw_data_res['churn'].astype(int)"
   ]
  },
  {
   "cell_type": "code",
   "execution_count": 81,
   "id": "5b18a552",
   "metadata": {},
   "outputs": [],
   "source": [
    "raw_data_res = raw_data_res.rename(columns={'churn': \"Churn\"})"
   ]
  },
  {
   "cell_type": "code",
   "execution_count": 136,
   "id": "8a681b16",
   "metadata": {},
   "outputs": [],
   "source": [
    "raw_data_res.to_csv(\"new_churn.csv\")"
   ]
  },
  {
   "cell_type": "markdown",
   "id": "3b6ce17c",
   "metadata": {},
   "source": [
    "## Defining X and y Columns for Modeling"
   ]
  },
  {
   "cell_type": "code",
   "execution_count": 82,
   "id": "cedb5ffb-d390-4565-a43e-969a6e8893d0",
   "metadata": {
    "tags": []
   },
   "outputs": [
    {
     "name": "stdout",
     "output_type": "stream",
     "text": [
      "Total customers:  5000\n",
      "churners:  598\n",
      "churn rate rate %:  11.96\n"
     ]
    }
   ],
   "source": [
    "print('Total customers: ', raw_data_res.shape[0])\n",
    "print('churners: ',raw_data_res['Churn'].sum())\n",
    "print('churn rate rate %: ', round(raw_data_res[\"Churn\"].value_counts(normalize = True)[1] * 100,2))"
   ]
  },
  {
   "cell_type": "code",
   "execution_count": 83,
   "id": "a478ec27-4071-49a0-936a-f11ac2c0d8cc",
   "metadata": {
    "tags": []
   },
   "outputs": [
    {
     "data": {
      "text/plain": [
       "Churn\n",
       "0    4402\n",
       "1     598\n",
       "Name: count, dtype: int64"
      ]
     },
     "execution_count": 83,
     "metadata": {},
     "output_type": "execute_result"
    }
   ],
   "source": [
    "raw_data_res['Churn'].value_counts()"
   ]
  },
  {
   "cell_type": "code",
   "execution_count": 84,
   "id": "2a2689de",
   "metadata": {},
   "outputs": [
    {
     "data": {
      "text/plain": [
       "Churn\n",
       "0    0.8804\n",
       "1    0.1196\n",
       "Name: proportion, dtype: float64"
      ]
     },
     "execution_count": 84,
     "metadata": {},
     "output_type": "execute_result"
    }
   ],
   "source": [
    "raw_data_res['Churn'].value_counts(normalize = True)"
   ]
  },
  {
   "cell_type": "code",
   "execution_count": 85,
   "id": "4e155001",
   "metadata": {},
   "outputs": [
    {
     "data": {
      "text/plain": [
       "(5000, 21)"
      ]
     },
     "execution_count": 85,
     "metadata": {},
     "output_type": "execute_result"
    }
   ],
   "source": [
    "raw_data_res.shape"
   ]
  },
  {
   "cell_type": "code",
   "execution_count": 86,
   "id": "8cdbcfda",
   "metadata": {},
   "outputs": [],
   "source": [
    "# import pandas as pd\n",
    "\n",
    "# # Assuming 'df' is your DataFrame and 'column_name' is the problematic column\n",
    "# raw_data_res['TotalCharges'] = pd.to_numeric(raw_data_res['TotalCharges'], errors='coerce')\n",
    "# import numpy as np\n",
    "\n",
    "# raw_data_res['TotalCharges'] = raw_data_res['TotalCharges'].replace('', np.nan)\n",
    "# raw_data_res['TotalCharges'] = raw_data_res['TotalCharges'].astype(float)"
   ]
  },
  {
   "cell_type": "code",
   "execution_count": 87,
   "id": "72217576",
   "metadata": {},
   "outputs": [],
   "source": [
    "not_use = ['ID', 'Churn']\n",
    "id = ['ID']\n",
    "target = ['Churn']"
   ]
  },
  {
   "cell_type": "code",
   "execution_count": 88,
   "id": "fec93422",
   "metadata": {},
   "outputs": [],
   "source": [
    "cat_col = []\n",
    "num_col = []\n",
    "\n",
    "for col in raw_data_res.columns:\n",
    "    if raw_data_res[col].dtypes == 'object':\n",
    "        cat_col.append(col)\n",
    "    elif col not in target:\n",
    "        num_col.append(col)"
   ]
  },
  {
   "cell_type": "code",
   "execution_count": 89,
   "id": "5e8f2077",
   "metadata": {},
   "outputs": [
    {
     "name": "stdout",
     "output_type": "stream",
     "text": [
      "total cat cols:  2\n",
      "total num cols:  18\n"
     ]
    }
   ],
   "source": [
    "print(\"total cat cols: \", len(cat_col))\n",
    "print(\"total num cols: \", len(num_col))"
   ]
  },
  {
   "cell_type": "code",
   "execution_count": 90,
   "id": "26826d09",
   "metadata": {},
   "outputs": [
    {
     "name": "stdout",
     "output_type": "stream",
     "text": [
      "Column: state\n",
      "Number of unique values: 51\n",
      "Unique values: ['KS' 'VT' 'MO' 'WI' 'OH' 'VA' 'FL' 'ND' 'NY' 'NM' 'MA' 'CA' 'SC' 'MS'\n",
      " 'MN' 'NE' 'DC' 'NC' 'WA' 'CO' 'MD' 'OK' 'IN' 'AR' 'DE' 'TN' 'PA' 'SD'\n",
      " 'CT' 'RI' 'HI' 'ID' 'KY' 'AL' 'IA' 'IL' 'WV' 'TX' 'MT' 'UT' 'LA' 'NV'\n",
      " 'ME' 'OR' 'NJ' 'WY' 'AZ' 'NH' 'AK' 'GA' 'MI']\n",
      "Value counts:\n",
      "state\n",
      "WV    158\n",
      "MN    125\n",
      "AL    124\n",
      "ID    119\n",
      "VA    118\n",
      "TX    116\n",
      "OH    116\n",
      "WY    115\n",
      "OR    114\n",
      "NY    114\n",
      "UT    112\n",
      "NJ    112\n",
      "WI    106\n",
      "MI    103\n",
      "MA    103\n",
      "ME    103\n",
      "MD    102\n",
      "VT    101\n",
      "MT     99\n",
      "KY     99\n",
      "RI     99\n",
      "CT     99\n",
      "KS     99\n",
      "MS     99\n",
      "WA     98\n",
      "IN     98\n",
      "CO     96\n",
      "NH     95\n",
      "DE     94\n",
      "MO     93\n",
      "AR     92\n",
      "SC     91\n",
      "NM     91\n",
      "NC     91\n",
      "NV     90\n",
      "FL     90\n",
      "OK     90\n",
      "AZ     89\n",
      "TN     89\n",
      "NE     88\n",
      "IL     88\n",
      "ND     88\n",
      "DC     88\n",
      "HI     86\n",
      "SD     85\n",
      "GA     83\n",
      "LA     82\n",
      "PA     77\n",
      "AK     72\n",
      "IA     69\n",
      "CA     52\n",
      "Name: count, dtype: int64\n",
      "Value counts normalized:\n",
      "state\n",
      "WV    0.0316\n",
      "MN    0.0250\n",
      "AL    0.0248\n",
      "ID    0.0238\n",
      "VA    0.0236\n",
      "TX    0.0232\n",
      "OH    0.0232\n",
      "WY    0.0230\n",
      "OR    0.0228\n",
      "NY    0.0228\n",
      "UT    0.0224\n",
      "NJ    0.0224\n",
      "WI    0.0212\n",
      "MI    0.0206\n",
      "MA    0.0206\n",
      "ME    0.0206\n",
      "MD    0.0204\n",
      "VT    0.0202\n",
      "MT    0.0198\n",
      "KY    0.0198\n",
      "RI    0.0198\n",
      "CT    0.0198\n",
      "KS    0.0198\n",
      "MS    0.0198\n",
      "WA    0.0196\n",
      "IN    0.0196\n",
      "CO    0.0192\n",
      "NH    0.0190\n",
      "DE    0.0188\n",
      "MO    0.0186\n",
      "AR    0.0184\n",
      "SC    0.0182\n",
      "NM    0.0182\n",
      "NC    0.0182\n",
      "NV    0.0180\n",
      "FL    0.0180\n",
      "OK    0.0180\n",
      "AZ    0.0178\n",
      "TN    0.0178\n",
      "NE    0.0176\n",
      "IL    0.0176\n",
      "ND    0.0176\n",
      "DC    0.0176\n",
      "HI    0.0172\n",
      "SD    0.0170\n",
      "GA    0.0166\n",
      "LA    0.0164\n",
      "PA    0.0154\n",
      "AK    0.0144\n",
      "IA    0.0138\n",
      "CA    0.0104\n",
      "Name: proportion, dtype: float64\n",
      "--------------------------------------------------\n",
      "Column: area_code\n",
      "Number of unique values: 3\n",
      "Unique values: ['area_code_408' 'area_code_510' 'area_code_415']\n",
      "Value counts:\n",
      "area_code\n",
      "area_code_415    2495\n",
      "area_code_408    1259\n",
      "area_code_510    1246\n",
      "Name: count, dtype: int64\n",
      "Value counts normalized:\n",
      "area_code\n",
      "area_code_415    0.4990\n",
      "area_code_408    0.2518\n",
      "area_code_510    0.2492\n",
      "Name: proportion, dtype: float64\n",
      "--------------------------------------------------\n"
     ]
    }
   ],
   "source": [
    "for col in cat_col:\n",
    "    if (col not in not_use) and (col not in target):\n",
    "        unique_values = raw_data_res[col].unique()\n",
    "        print(f\"Column: {col}\")\n",
    "        print(f\"Number of unique values: {len(unique_values)}\")\n",
    "        print(f\"Unique values: {unique_values}\")\n",
    "        print(f\"Value counts:\\n{raw_data_res[col].value_counts()}\")\n",
    "        print(f\"Value counts normalized:\\n{raw_data_res[col].value_counts(normalize = True)}\")\n",
    "        print(\"-\" * 50)  # Separator for readability"
   ]
  },
  {
   "cell_type": "code",
   "execution_count": 91,
   "id": "5a44c72b",
   "metadata": {},
   "outputs": [],
   "source": [
    "# raw_data_res['TotalCharges'].isna().any()"
   ]
  },
  {
   "cell_type": "code",
   "execution_count": 92,
   "id": "6c636525",
   "metadata": {},
   "outputs": [],
   "source": [
    "all_col = cat_col + num_col"
   ]
  },
  {
   "cell_type": "code",
   "execution_count": 93,
   "id": "e065e9ba",
   "metadata": {},
   "outputs": [
    {
     "data": {
      "text/plain": [
       "['account_length',\n",
       " 'international_plan',\n",
       " 'voice_mail_plan',\n",
       " 'number_vmail_messages',\n",
       " 'total_day_minutes',\n",
       " 'total_day_calls',\n",
       " 'total_day_charge',\n",
       " 'total_eve_minutes',\n",
       " 'total_eve_calls',\n",
       " 'total_eve_charge',\n",
       " 'total_night_minutes',\n",
       " 'total_night_calls',\n",
       " 'total_night_charge',\n",
       " 'total_intl_minutes',\n",
       " 'total_intl_calls',\n",
       " 'total_intl_charge',\n",
       " 'number_customer_service_calls',\n",
       " 'ID']"
      ]
     },
     "execution_count": 93,
     "metadata": {},
     "output_type": "execute_result"
    }
   ],
   "source": [
    "num_col"
   ]
  },
  {
   "cell_type": "markdown",
   "id": "b032dc68",
   "metadata": {},
   "source": [
    "## Preprocessing"
   ]
  },
  {
   "cell_type": "code",
   "execution_count": 94,
   "id": "21bd7151",
   "metadata": {},
   "outputs": [
    {
     "data": {
      "text/plain": [
       "(5000, 20)"
      ]
     },
     "execution_count": 94,
     "metadata": {},
     "output_type": "execute_result"
    }
   ],
   "source": [
    "raw_data_res_v1 = raw_data_res[all_col]\n",
    "raw_data_res_v1.shape"
   ]
  },
  {
   "cell_type": "code",
   "execution_count": 95,
   "id": "916213ee",
   "metadata": {},
   "outputs": [],
   "source": [
    "# Defining independent and target features\n",
    "X = raw_data_res_v1.copy()\n",
    "y = raw_data_res['Churn']"
   ]
  },
  {
   "cell_type": "code",
   "execution_count": 96,
   "id": "b659e9fc",
   "metadata": {},
   "outputs": [
    {
     "name": "stdout",
     "output_type": "stream",
     "text": [
      "**************************************************\n",
      "Pre-Processing: SimpleImputer\n",
      "**************************************************\n",
      "**************************************************\n",
      "Pre-Processing: SimpleImputer\n",
      "**************************************************\n",
      "**************************************************\n",
      "Feature Engineering: Remove_ConstantFeatures\n",
      "**************************************************\n",
      "- It will remove features with 1 unique value(s).\n",
      "\n",
      "[] []\n",
      "0 features with 1 or fewer unique value(s)\n",
      "(5000, 20)\n"
     ]
    },
    {
     "data": {
      "text/html": [
       "<div>\n",
       "<style scoped>\n",
       "    .dataframe tbody tr th:only-of-type {\n",
       "        vertical-align: middle;\n",
       "    }\n",
       "\n",
       "    .dataframe tbody tr th {\n",
       "        vertical-align: top;\n",
       "    }\n",
       "\n",
       "    .dataframe thead th {\n",
       "        text-align: right;\n",
       "    }\n",
       "</style>\n",
       "<table border=\"1\" class=\"dataframe\">\n",
       "  <thead>\n",
       "    <tr style=\"text-align: right;\">\n",
       "      <th></th>\n",
       "      <th>ID</th>\n",
       "      <th>account_length</th>\n",
       "      <th>area_code</th>\n",
       "      <th>international_plan</th>\n",
       "      <th>number_customer_service_calls</th>\n",
       "      <th>number_vmail_messages</th>\n",
       "      <th>state</th>\n",
       "      <th>total_day_calls</th>\n",
       "      <th>total_day_charge</th>\n",
       "      <th>total_day_minutes</th>\n",
       "      <th>total_eve_calls</th>\n",
       "      <th>total_eve_charge</th>\n",
       "      <th>total_eve_minutes</th>\n",
       "      <th>total_intl_calls</th>\n",
       "      <th>total_intl_charge</th>\n",
       "      <th>total_intl_minutes</th>\n",
       "      <th>total_night_calls</th>\n",
       "      <th>total_night_charge</th>\n",
       "      <th>total_night_minutes</th>\n",
       "      <th>voice_mail_plan</th>\n",
       "    </tr>\n",
       "  </thead>\n",
       "  <tbody>\n",
       "    <tr>\n",
       "      <th>0</th>\n",
       "      <td>1000</td>\n",
       "      <td>70</td>\n",
       "      <td>area_code_408</td>\n",
       "      <td>0</td>\n",
       "      <td>3</td>\n",
       "      <td>0</td>\n",
       "      <td>KS</td>\n",
       "      <td>122</td>\n",
       "      <td>39</td>\n",
       "      <td>232</td>\n",
       "      <td>112</td>\n",
       "      <td>24</td>\n",
       "      <td>292</td>\n",
       "      <td>0</td>\n",
       "      <td>0</td>\n",
       "      <td>0</td>\n",
       "      <td>112</td>\n",
       "      <td>9</td>\n",
       "      <td>201</td>\n",
       "      <td>0</td>\n",
       "    </tr>\n",
       "    <tr>\n",
       "      <th>1</th>\n",
       "      <td>1001</td>\n",
       "      <td>165</td>\n",
       "      <td>area_code_510</td>\n",
       "      <td>0</td>\n",
       "      <td>1</td>\n",
       "      <td>0</td>\n",
       "      <td>VT</td>\n",
       "      <td>126</td>\n",
       "      <td>41</td>\n",
       "      <td>242</td>\n",
       "      <td>65</td>\n",
       "      <td>17</td>\n",
       "      <td>209</td>\n",
       "      <td>0</td>\n",
       "      <td>0</td>\n",
       "      <td>0</td>\n",
       "      <td>126</td>\n",
       "      <td>10</td>\n",
       "      <td>228</td>\n",
       "      <td>0</td>\n",
       "    </tr>\n",
       "    <tr>\n",
       "      <th>2</th>\n",
       "      <td>1002</td>\n",
       "      <td>106</td>\n",
       "      <td>area_code_415</td>\n",
       "      <td>0</td>\n",
       "      <td>2</td>\n",
       "      <td>0</td>\n",
       "      <td>MO</td>\n",
       "      <td>104</td>\n",
       "      <td>19</td>\n",
       "      <td>114</td>\n",
       "      <td>101</td>\n",
       "      <td>6</td>\n",
       "      <td>78</td>\n",
       "      <td>0</td>\n",
       "      <td>0</td>\n",
       "      <td>0</td>\n",
       "      <td>78</td>\n",
       "      <td>10</td>\n",
       "      <td>232</td>\n",
       "      <td>0</td>\n",
       "    </tr>\n",
       "    <tr>\n",
       "      <th>3</th>\n",
       "      <td>1003</td>\n",
       "      <td>62</td>\n",
       "      <td>area_code_415</td>\n",
       "      <td>0</td>\n",
       "      <td>1</td>\n",
       "      <td>0</td>\n",
       "      <td>WI</td>\n",
       "      <td>66</td>\n",
       "      <td>47</td>\n",
       "      <td>281</td>\n",
       "      <td>108</td>\n",
       "      <td>13</td>\n",
       "      <td>160</td>\n",
       "      <td>0</td>\n",
       "      <td>0</td>\n",
       "      <td>0</td>\n",
       "      <td>74</td>\n",
       "      <td>3</td>\n",
       "      <td>77</td>\n",
       "      <td>0</td>\n",
       "    </tr>\n",
       "    <tr>\n",
       "      <th>4</th>\n",
       "      <td>1004</td>\n",
       "      <td>70</td>\n",
       "      <td>area_code_415</td>\n",
       "      <td>0</td>\n",
       "      <td>1</td>\n",
       "      <td>0</td>\n",
       "      <td>KS</td>\n",
       "      <td>114</td>\n",
       "      <td>37</td>\n",
       "      <td>222</td>\n",
       "      <td>113</td>\n",
       "      <td>18</td>\n",
       "      <td>215</td>\n",
       "      <td>0</td>\n",
       "      <td>0</td>\n",
       "      <td>0</td>\n",
       "      <td>122</td>\n",
       "      <td>10</td>\n",
       "      <td>223</td>\n",
       "      <td>0</td>\n",
       "    </tr>\n",
       "  </tbody>\n",
       "</table>\n",
       "</div>"
      ],
      "text/plain": [
       "     ID  account_length      area_code  international_plan  \\\n",
       "0  1000              70  area_code_408                   0   \n",
       "1  1001             165  area_code_510                   0   \n",
       "2  1002             106  area_code_415                   0   \n",
       "3  1003              62  area_code_415                   0   \n",
       "4  1004              70  area_code_415                   0   \n",
       "\n",
       "   number_customer_service_calls  number_vmail_messages state  \\\n",
       "0                              3                      0    KS   \n",
       "1                              1                      0    VT   \n",
       "2                              2                      0    MO   \n",
       "3                              1                      0    WI   \n",
       "4                              1                      0    KS   \n",
       "\n",
       "   total_day_calls  total_day_charge  total_day_minutes  total_eve_calls  \\\n",
       "0              122                39                232              112   \n",
       "1              126                41                242               65   \n",
       "2              104                19                114              101   \n",
       "3               66                47                281              108   \n",
       "4              114                37                222              113   \n",
       "\n",
       "   total_eve_charge  total_eve_minutes  total_intl_calls  total_intl_charge  \\\n",
       "0                24                292                 0                  0   \n",
       "1                17                209                 0                  0   \n",
       "2                 6                 78                 0                  0   \n",
       "3                13                160                 0                  0   \n",
       "4                18                215                 0                  0   \n",
       "\n",
       "   total_intl_minutes  total_night_calls  total_night_charge  \\\n",
       "0                   0                112                   9   \n",
       "1                   0                126                  10   \n",
       "2                   0                 78                  10   \n",
       "3                   0                 74                   3   \n",
       "4                   0                122                  10   \n",
       "\n",
       "   total_night_minutes  voice_mail_plan  \n",
       "0                  201                0  \n",
       "1                  228                0  \n",
       "2                  232                0  \n",
       "3                   77                0  \n",
       "4                  223                0  "
      ]
     },
     "execution_count": 96,
     "metadata": {},
     "output_type": "execute_result"
    }
   ],
   "source": [
    "importlib.reload(pp)\n",
    "Pipe_PP = Pipeline([\n",
    "                    \n",
    "                    # Demo Data\n",
    "                    ('Imputation_demo_col', pp.SimpleImputer(features = cat_col, strategy='constant', missing_values=np.nan,fill_value= 'None')),\n",
    "                    \n",
    "                    # Comp and Sevices Col\n",
    "                    ('Imputation_comp_col', pp.SimpleImputer(features = num_col, strategy='constant', missing_values=np.nan,fill_value= 0)),\n",
    "#                     ('Imputation_comp_service_col', pp.SimpleImputer(features = comp_service_col, strategy='constant', missing_values=np.nan,fill_value= 'None')),\n",
    "                    \n",
    "#                     # other_col\n",
    "#                     ('Imputation_other_cat_col', pp.SimpleImputer(features = other_cat_col, strategy='constant', missing_values=np.nan,fill_value= 'None')),\n",
    "#                     ('Imputation_other_num_col', pp.SimpleImputer(features = other_num_col, strategy='constant', missing_values=np.nan,fill_value= 0)),\n",
    "                    \n",
    "                    \n",
    "#                     # All Columns \n",
    "#                     ('RareCategory', pp.RareCategoryEncoder(features_CAT_ = rare_col, category_min_pct=0.001, category_max_count=10)), #Droping levels that has very low proportion\n",
    "                    ('Constant1', pp.Remove_ConstantFeatures(unique_threshold=1, missing_threshold=0.00)), # \n",
    "                    # ('Num_Col_Covar', pp.Num_Col_Covar(X=X,  y = y, outcome_field = 'incomplete_flag'))\n",
    "                  ])\n",
    "# fit_transform()\n",
    "X_PP = Pipe_PP.fit_transform(X)\n",
    "print(X_PP.shape)\n",
    "X_PP.head()"
   ]
  },
  {
   "cell_type": "markdown",
   "id": "71efc243",
   "metadata": {},
   "source": [
    "## Feature Engineering"
   ]
  },
  {
   "cell_type": "code",
   "execution_count": 97,
   "id": "0927865b",
   "metadata": {},
   "outputs": [
    {
     "data": {
      "text/plain": [
       "Index(['ID', 'account_length', 'area_code', 'international_plan',\n",
       "       'number_customer_service_calls', 'number_vmail_messages', 'state',\n",
       "       'total_day_calls', 'total_day_charge', 'total_day_minutes',\n",
       "       'total_eve_calls', 'total_eve_charge', 'total_eve_minutes',\n",
       "       'total_intl_calls', 'total_intl_charge', 'total_intl_minutes',\n",
       "       'total_night_calls', 'total_night_charge', 'total_night_minutes',\n",
       "       'voice_mail_plan'],\n",
       "      dtype='object')"
      ]
     },
     "execution_count": 97,
     "metadata": {},
     "output_type": "execute_result"
    }
   ],
   "source": [
    "X_PP.columns"
   ]
  },
  {
   "cell_type": "code",
   "execution_count": 98,
   "id": "da8d1eda",
   "metadata": {},
   "outputs": [
    {
     "name": "stdout",
     "output_type": "stream",
     "text": [
      "**************************************************\n",
      "Feature Engineering: OHE Encoding for categorical features\n",
      "**************************************************\n",
      "Before OHE encoding: (5000, 20)\n",
      "(5000, 29)\n"
     ]
    },
    {
     "data": {
      "text/html": [
       "<div>\n",
       "<style scoped>\n",
       "    .dataframe tbody tr th:only-of-type {\n",
       "        vertical-align: middle;\n",
       "    }\n",
       "\n",
       "    .dataframe tbody tr th {\n",
       "        vertical-align: top;\n",
       "    }\n",
       "\n",
       "    .dataframe thead th {\n",
       "        text-align: right;\n",
       "    }\n",
       "</style>\n",
       "<table border=\"1\" class=\"dataframe\">\n",
       "  <thead>\n",
       "    <tr style=\"text-align: right;\">\n",
       "      <th></th>\n",
       "      <th>ID</th>\n",
       "      <th>account_length</th>\n",
       "      <th>international_plan</th>\n",
       "      <th>number_customer_service_calls</th>\n",
       "      <th>number_vmail_messages</th>\n",
       "      <th>total_day_calls</th>\n",
       "      <th>total_day_charge</th>\n",
       "      <th>total_day_minutes</th>\n",
       "      <th>total_eve_calls</th>\n",
       "      <th>total_eve_charge</th>\n",
       "      <th>...</th>\n",
       "      <th>area_code_area_code_510</th>\n",
       "      <th>state_ID</th>\n",
       "      <th>state_MN</th>\n",
       "      <th>state_OH</th>\n",
       "      <th>state_OR</th>\n",
       "      <th>state_TX</th>\n",
       "      <th>state_VA</th>\n",
       "      <th>state_WV</th>\n",
       "      <th>state_WY</th>\n",
       "      <th>state_infrequent_sklearn</th>\n",
       "    </tr>\n",
       "  </thead>\n",
       "  <tbody>\n",
       "    <tr>\n",
       "      <th>0</th>\n",
       "      <td>1000</td>\n",
       "      <td>70</td>\n",
       "      <td>0</td>\n",
       "      <td>3</td>\n",
       "      <td>0</td>\n",
       "      <td>122</td>\n",
       "      <td>39</td>\n",
       "      <td>232</td>\n",
       "      <td>112</td>\n",
       "      <td>24</td>\n",
       "      <td>...</td>\n",
       "      <td>0.0</td>\n",
       "      <td>0.0</td>\n",
       "      <td>0.0</td>\n",
       "      <td>0.0</td>\n",
       "      <td>0.0</td>\n",
       "      <td>0.0</td>\n",
       "      <td>0.0</td>\n",
       "      <td>0.0</td>\n",
       "      <td>0.0</td>\n",
       "      <td>1.0</td>\n",
       "    </tr>\n",
       "    <tr>\n",
       "      <th>1</th>\n",
       "      <td>1001</td>\n",
       "      <td>165</td>\n",
       "      <td>0</td>\n",
       "      <td>1</td>\n",
       "      <td>0</td>\n",
       "      <td>126</td>\n",
       "      <td>41</td>\n",
       "      <td>242</td>\n",
       "      <td>65</td>\n",
       "      <td>17</td>\n",
       "      <td>...</td>\n",
       "      <td>1.0</td>\n",
       "      <td>0.0</td>\n",
       "      <td>0.0</td>\n",
       "      <td>0.0</td>\n",
       "      <td>0.0</td>\n",
       "      <td>0.0</td>\n",
       "      <td>0.0</td>\n",
       "      <td>0.0</td>\n",
       "      <td>0.0</td>\n",
       "      <td>1.0</td>\n",
       "    </tr>\n",
       "    <tr>\n",
       "      <th>2</th>\n",
       "      <td>1002</td>\n",
       "      <td>106</td>\n",
       "      <td>0</td>\n",
       "      <td>2</td>\n",
       "      <td>0</td>\n",
       "      <td>104</td>\n",
       "      <td>19</td>\n",
       "      <td>114</td>\n",
       "      <td>101</td>\n",
       "      <td>6</td>\n",
       "      <td>...</td>\n",
       "      <td>0.0</td>\n",
       "      <td>0.0</td>\n",
       "      <td>0.0</td>\n",
       "      <td>0.0</td>\n",
       "      <td>0.0</td>\n",
       "      <td>0.0</td>\n",
       "      <td>0.0</td>\n",
       "      <td>0.0</td>\n",
       "      <td>0.0</td>\n",
       "      <td>1.0</td>\n",
       "    </tr>\n",
       "    <tr>\n",
       "      <th>3</th>\n",
       "      <td>1003</td>\n",
       "      <td>62</td>\n",
       "      <td>0</td>\n",
       "      <td>1</td>\n",
       "      <td>0</td>\n",
       "      <td>66</td>\n",
       "      <td>47</td>\n",
       "      <td>281</td>\n",
       "      <td>108</td>\n",
       "      <td>13</td>\n",
       "      <td>...</td>\n",
       "      <td>0.0</td>\n",
       "      <td>0.0</td>\n",
       "      <td>0.0</td>\n",
       "      <td>0.0</td>\n",
       "      <td>0.0</td>\n",
       "      <td>0.0</td>\n",
       "      <td>0.0</td>\n",
       "      <td>0.0</td>\n",
       "      <td>0.0</td>\n",
       "      <td>1.0</td>\n",
       "    </tr>\n",
       "    <tr>\n",
       "      <th>4</th>\n",
       "      <td>1004</td>\n",
       "      <td>70</td>\n",
       "      <td>0</td>\n",
       "      <td>1</td>\n",
       "      <td>0</td>\n",
       "      <td>114</td>\n",
       "      <td>37</td>\n",
       "      <td>222</td>\n",
       "      <td>113</td>\n",
       "      <td>18</td>\n",
       "      <td>...</td>\n",
       "      <td>0.0</td>\n",
       "      <td>0.0</td>\n",
       "      <td>0.0</td>\n",
       "      <td>0.0</td>\n",
       "      <td>0.0</td>\n",
       "      <td>0.0</td>\n",
       "      <td>0.0</td>\n",
       "      <td>0.0</td>\n",
       "      <td>0.0</td>\n",
       "      <td>1.0</td>\n",
       "    </tr>\n",
       "  </tbody>\n",
       "</table>\n",
       "<p>5 rows × 29 columns</p>\n",
       "</div>"
      ],
      "text/plain": [
       "     ID  account_length  international_plan  number_customer_service_calls  \\\n",
       "0  1000              70                   0                              3   \n",
       "1  1001             165                   0                              1   \n",
       "2  1002             106                   0                              2   \n",
       "3  1003              62                   0                              1   \n",
       "4  1004              70                   0                              1   \n",
       "\n",
       "   number_vmail_messages  total_day_calls  total_day_charge  \\\n",
       "0                      0              122                39   \n",
       "1                      0              126                41   \n",
       "2                      0              104                19   \n",
       "3                      0               66                47   \n",
       "4                      0              114                37   \n",
       "\n",
       "   total_day_minutes  total_eve_calls  total_eve_charge  ...  \\\n",
       "0                232              112                24  ...   \n",
       "1                242               65                17  ...   \n",
       "2                114              101                 6  ...   \n",
       "3                281              108                13  ...   \n",
       "4                222              113                18  ...   \n",
       "\n",
       "   area_code_area_code_510  state_ID  state_MN  state_OH  state_OR  state_TX  \\\n",
       "0                      0.0       0.0       0.0       0.0       0.0       0.0   \n",
       "1                      1.0       0.0       0.0       0.0       0.0       0.0   \n",
       "2                      0.0       0.0       0.0       0.0       0.0       0.0   \n",
       "3                      0.0       0.0       0.0       0.0       0.0       0.0   \n",
       "4                      0.0       0.0       0.0       0.0       0.0       0.0   \n",
       "\n",
       "   state_VA  state_WV  state_WY  state_infrequent_sklearn  \n",
       "0       0.0       0.0       0.0                       1.0  \n",
       "1       0.0       0.0       0.0                       1.0  \n",
       "2       0.0       0.0       0.0                       1.0  \n",
       "3       0.0       0.0       0.0                       1.0  \n",
       "4       0.0       0.0       0.0                       1.0  \n",
       "\n",
       "[5 rows x 29 columns]"
      ]
     },
     "execution_count": 98,
     "metadata": {},
     "output_type": "execute_result"
    }
   ],
   "source": [
    "import importlib\n",
    "importlib.reload(pp)\n",
    "Pipe_FE = Pipeline([\n",
    "                   # ('Num_Col_Covar', pp.Num_Col_Covar(X=X_PP,  y = y, outcome_field = 'incomplete_instal')),\n",
    "                   ('OHE_Encoding', pp.OHE_Encoding(X=X_PP, model_type = 'Train')),# Removing correlated Numerical Features\n",
    "                   # ('WOE_Encoding', pp.WOE_Encoding( y = y)), #Weight Of Evidence Encoding for all Cat Columns - may change this to PCA\n",
    "                   # ('Vif_Feature_Select', pp.Vif_Feature_Select(VIF_threshold = 3)), # Variance Inflation Factor for Feature Selection\n",
    "                   \n",
    "                  ])\n",
    "\n",
    "\n",
    "# fit_transform()\n",
    "X_FE = Pipe_FE.fit_transform(X_PP, y)\n",
    "print(X_FE.shape)\n",
    "X_FE.head()"
   ]
  },
  {
   "cell_type": "markdown",
   "id": "25f78418",
   "metadata": {},
   "source": [
    "## Test-Train Split"
   ]
  },
  {
   "cell_type": "code",
   "execution_count": 99,
   "id": "03691256",
   "metadata": {},
   "outputs": [
    {
     "data": {
      "text/plain": [
       "Index(['ID', 'account_length', 'international_plan',\n",
       "       'number_customer_service_calls', 'number_vmail_messages',\n",
       "       'total_day_calls', 'total_day_charge', 'total_day_minutes',\n",
       "       'total_eve_calls', 'total_eve_charge', 'total_eve_minutes',\n",
       "       'total_intl_calls', 'total_intl_charge', 'total_intl_minutes',\n",
       "       'total_night_calls', 'total_night_charge', 'total_night_minutes',\n",
       "       'voice_mail_plan', 'area_code_area_code_415', 'area_code_area_code_510',\n",
       "       'state_ID', 'state_MN', 'state_OH', 'state_OR', 'state_TX', 'state_VA',\n",
       "       'state_WV', 'state_WY', 'state_infrequent_sklearn'],\n",
       "      dtype='object')"
      ]
     },
     "execution_count": 99,
     "metadata": {},
     "output_type": "execute_result"
    }
   ],
   "source": [
    "X_FE.columns"
   ]
  },
  {
   "cell_type": "code",
   "execution_count": 100,
   "id": "47f77f0c",
   "metadata": {},
   "outputs": [
    {
     "name": "stdout",
     "output_type": "stream",
     "text": [
      "X_train shape :  (3750, 29)\n",
      "y_train shape :  (3750,)\n",
      "X_test shape  :  (1250, 29)\n",
      "y_test shape  :  (1250,)\n",
      "Disconnects in y_test :  149\n"
     ]
    }
   ],
   "source": [
    "X_train, X_test, y_train, y_test = train_test_split(X_FE, y, test_size=0.25, stratify = y, random_state=24)\n",
    "\n",
    "print('X_train shape : ', X_train.shape)\n",
    "print('y_train shape : ', y_train.shape)\n",
    "\n",
    "print('X_test shape  : ', X_test.shape)\n",
    "print('y_test shape  : ', y_test.shape)\n",
    "\n",
    "print('Disconnects in y_test : ', y_test.sum())"
   ]
  },
  {
   "cell_type": "code",
   "execution_count": 101,
   "id": "654c7289-c646-4cfb-a1a8-4e19ceb4bf3b",
   "metadata": {
    "tags": []
   },
   "outputs": [],
   "source": [
    "# Converting all columns to float type, for compatibility with XGBoost\n",
    "for i in X_train:\n",
    "    X_train[i] = X_train[i].astype('float')\n",
    "for i in X_test:\n",
    "    X_test[i] = X_test[i].astype('float')\n",
    "# for i in X_PP_woe:\n",
    "#     X_PP_woe[i] = X_PP_woe[i].astype('float')"
   ]
  },
  {
   "cell_type": "markdown",
   "id": "00eeb29a-b468-476d-a690-a2c9611152ac",
   "metadata": {},
   "source": [
    "## XGBoost Feature Importance"
   ]
  },
  {
   "cell_type": "code",
   "execution_count": 102,
   "id": "b475637e-d303-44cc-85d1-1976e5f62864",
   "metadata": {
    "tags": []
   },
   "outputs": [
    {
     "data": {
      "text/plain": [
       "7.351893095768374"
      ]
     },
     "execution_count": 102,
     "metadata": {},
     "output_type": "execute_result"
    }
   ],
   "source": [
    "# Calculate the ratio of negative class to positive class\n",
    "ratio = float(y_train.value_counts()[0] / y_train.value_counts()[1])\n",
    "ratio"
   ]
  },
  {
   "cell_type": "code",
   "execution_count": 103,
   "id": "214bb733-be8d-4709-8706-9dcdf526087b",
   "metadata": {
    "tags": []
   },
   "outputs": [
    {
     "name": "stdout",
     "output_type": "stream",
     "text": [
      "**************************************************\n",
      "get best hyper parameters\n",
      "\n",
      "time_spend: 14.064240217208862\n"
     ]
    }
   ],
   "source": [
    "### get important fetures\n",
    "start=time.time()\n",
    "### get best hyper parameters\n",
    "best_model = pp.grid_search(X_train, y_train, cv =  3, ratio = ratio)\n",
    "end=time.time()\n",
    "print (\"time_spend: \"+str(end-start))"
   ]
  },
  {
   "cell_type": "code",
   "execution_count": 104,
   "id": "133c0278-7e9a-428d-bee2-4f300d6b9f38",
   "metadata": {
    "tags": []
   },
   "outputs": [
    {
     "data": {
      "image/png": "[encoded data removed]",
      "text/plain": [
       "<Figure size 1500x600 with 1 Axes>"
      ]
     },
     "metadata": {},
     "output_type": "display_data"
    }
   ],
   "source": [
    "feature_importances_df = pd.DataFrame()\n",
    "feature_importances_df['feature'] = X_train.columns\n",
    "feature_importances_df['Importance'] = best_model.feature_importances_\n",
    "feature_importances_df  = feature_importances_df.sort_values('Importance', ascending=False)\n",
    "feature_importances_df['ranking_importance'] = np.arange(1, feature_importances_df.shape[0]+1, 1)\n",
    "\n",
    "plt.figure(figsize = (15,6))\n",
    "sns.lineplot(data = feature_importances_df, x = 'ranking_importance', y = 'Importance')\n",
    "plt.show()"
   ]
  },
  {
   "cell_type": "code",
   "execution_count": 105,
   "id": "27c3f728-e02f-4c08-afdb-bff870c0ff47",
   "metadata": {
    "tags": []
   },
   "outputs": [
    {
     "data": {
      "text/html": [
       "<div>\n",
       "<style scoped>\n",
       "    .dataframe tbody tr th:only-of-type {\n",
       "        vertical-align: middle;\n",
       "    }\n",
       "\n",
       "    .dataframe tbody tr th {\n",
       "        vertical-align: top;\n",
       "    }\n",
       "\n",
       "    .dataframe thead th {\n",
       "        text-align: right;\n",
       "    }\n",
       "</style>\n",
       "<table border=\"1\" class=\"dataframe\">\n",
       "  <thead>\n",
       "    <tr style=\"text-align: right;\">\n",
       "      <th></th>\n",
       "      <th>feature</th>\n",
       "      <th>Importance</th>\n",
       "      <th>ranking_importance</th>\n",
       "    </tr>\n",
       "  </thead>\n",
       "  <tbody>\n",
       "    <tr>\n",
       "      <th>2</th>\n",
       "      <td>international_plan</td>\n",
       "      <td>0.156956</td>\n",
       "      <td>1</td>\n",
       "    </tr>\n",
       "    <tr>\n",
       "      <th>3</th>\n",
       "      <td>number_customer_service_calls</td>\n",
       "      <td>0.112266</td>\n",
       "      <td>2</td>\n",
       "    </tr>\n",
       "    <tr>\n",
       "      <th>17</th>\n",
       "      <td>voice_mail_plan</td>\n",
       "      <td>0.070966</td>\n",
       "      <td>3</td>\n",
       "    </tr>\n",
       "    <tr>\n",
       "      <th>7</th>\n",
       "      <td>total_day_minutes</td>\n",
       "      <td>0.062436</td>\n",
       "      <td>4</td>\n",
       "    </tr>\n",
       "    <tr>\n",
       "      <th>22</th>\n",
       "      <td>state_OH</td>\n",
       "      <td>0.062089</td>\n",
       "      <td>5</td>\n",
       "    </tr>\n",
       "    <tr>\n",
       "      <th>6</th>\n",
       "      <td>total_day_charge</td>\n",
       "      <td>0.049785</td>\n",
       "      <td>6</td>\n",
       "    </tr>\n",
       "    <tr>\n",
       "      <th>27</th>\n",
       "      <td>state_WY</td>\n",
       "      <td>0.044234</td>\n",
       "      <td>7</td>\n",
       "    </tr>\n",
       "    <tr>\n",
       "      <th>13</th>\n",
       "      <td>total_intl_minutes</td>\n",
       "      <td>0.040473</td>\n",
       "      <td>8</td>\n",
       "    </tr>\n",
       "    <tr>\n",
       "      <th>4</th>\n",
       "      <td>number_vmail_messages</td>\n",
       "      <td>0.035666</td>\n",
       "      <td>9</td>\n",
       "    </tr>\n",
       "    <tr>\n",
       "      <th>20</th>\n",
       "      <td>state_ID</td>\n",
       "      <td>0.031911</td>\n",
       "      <td>10</td>\n",
       "    </tr>\n",
       "    <tr>\n",
       "      <th>12</th>\n",
       "      <td>total_intl_charge</td>\n",
       "      <td>0.030782</td>\n",
       "      <td>11</td>\n",
       "    </tr>\n",
       "    <tr>\n",
       "      <th>10</th>\n",
       "      <td>total_eve_minutes</td>\n",
       "      <td>0.028646</td>\n",
       "      <td>12</td>\n",
       "    </tr>\n",
       "    <tr>\n",
       "      <th>9</th>\n",
       "      <td>total_eve_charge</td>\n",
       "      <td>0.025446</td>\n",
       "      <td>13</td>\n",
       "    </tr>\n",
       "    <tr>\n",
       "      <th>11</th>\n",
       "      <td>total_intl_calls</td>\n",
       "      <td>0.023955</td>\n",
       "      <td>14</td>\n",
       "    </tr>\n",
       "    <tr>\n",
       "      <th>26</th>\n",
       "      <td>state_WV</td>\n",
       "      <td>0.023563</td>\n",
       "      <td>15</td>\n",
       "    </tr>\n",
       "    <tr>\n",
       "      <th>1</th>\n",
       "      <td>account_length</td>\n",
       "      <td>0.019542</td>\n",
       "      <td>16</td>\n",
       "    </tr>\n",
       "    <tr>\n",
       "      <th>0</th>\n",
       "      <td>ID</td>\n",
       "      <td>0.019298</td>\n",
       "      <td>17</td>\n",
       "    </tr>\n",
       "    <tr>\n",
       "      <th>14</th>\n",
       "      <td>total_night_calls</td>\n",
       "      <td>0.019114</td>\n",
       "      <td>18</td>\n",
       "    </tr>\n",
       "    <tr>\n",
       "      <th>5</th>\n",
       "      <td>total_day_calls</td>\n",
       "      <td>0.016284</td>\n",
       "      <td>19</td>\n",
       "    </tr>\n",
       "    <tr>\n",
       "      <th>16</th>\n",
       "      <td>total_night_minutes</td>\n",
       "      <td>0.016163</td>\n",
       "      <td>20</td>\n",
       "    </tr>\n",
       "    <tr>\n",
       "      <th>21</th>\n",
       "      <td>state_MN</td>\n",
       "      <td>0.015844</td>\n",
       "      <td>21</td>\n",
       "    </tr>\n",
       "    <tr>\n",
       "      <th>15</th>\n",
       "      <td>total_night_charge</td>\n",
       "      <td>0.014801</td>\n",
       "      <td>22</td>\n",
       "    </tr>\n",
       "    <tr>\n",
       "      <th>19</th>\n",
       "      <td>area_code_area_code_510</td>\n",
       "      <td>0.014430</td>\n",
       "      <td>23</td>\n",
       "    </tr>\n",
       "    <tr>\n",
       "      <th>25</th>\n",
       "      <td>state_VA</td>\n",
       "      <td>0.014227</td>\n",
       "      <td>24</td>\n",
       "    </tr>\n",
       "    <tr>\n",
       "      <th>24</th>\n",
       "      <td>state_TX</td>\n",
       "      <td>0.013394</td>\n",
       "      <td>25</td>\n",
       "    </tr>\n",
       "    <tr>\n",
       "      <th>8</th>\n",
       "      <td>total_eve_calls</td>\n",
       "      <td>0.013182</td>\n",
       "      <td>26</td>\n",
       "    </tr>\n",
       "    <tr>\n",
       "      <th>28</th>\n",
       "      <td>state_infrequent_sklearn</td>\n",
       "      <td>0.012066</td>\n",
       "      <td>27</td>\n",
       "    </tr>\n",
       "    <tr>\n",
       "      <th>18</th>\n",
       "      <td>area_code_area_code_415</td>\n",
       "      <td>0.007697</td>\n",
       "      <td>28</td>\n",
       "    </tr>\n",
       "    <tr>\n",
       "      <th>23</th>\n",
       "      <td>state_OR</td>\n",
       "      <td>0.004784</td>\n",
       "      <td>29</td>\n",
       "    </tr>\n",
       "  </tbody>\n",
       "</table>\n",
       "</div>"
      ],
      "text/plain": [
       "                          feature  Importance  ranking_importance\n",
       "2              international_plan    0.156956                   1\n",
       "3   number_customer_service_calls    0.112266                   2\n",
       "17                voice_mail_plan    0.070966                   3\n",
       "7               total_day_minutes    0.062436                   4\n",
       "22                       state_OH    0.062089                   5\n",
       "6                total_day_charge    0.049785                   6\n",
       "27                       state_WY    0.044234                   7\n",
       "13             total_intl_minutes    0.040473                   8\n",
       "4           number_vmail_messages    0.035666                   9\n",
       "20                       state_ID    0.031911                  10\n",
       "12              total_intl_charge    0.030782                  11\n",
       "10              total_eve_minutes    0.028646                  12\n",
       "9                total_eve_charge    0.025446                  13\n",
       "11               total_intl_calls    0.023955                  14\n",
       "26                       state_WV    0.023563                  15\n",
       "1                  account_length    0.019542                  16\n",
       "0                              ID    0.019298                  17\n",
       "14              total_night_calls    0.019114                  18\n",
       "5                 total_day_calls    0.016284                  19\n",
       "16            total_night_minutes    0.016163                  20\n",
       "21                       state_MN    0.015844                  21\n",
       "15             total_night_charge    0.014801                  22\n",
       "19        area_code_area_code_510    0.014430                  23\n",
       "25                       state_VA    0.014227                  24\n",
       "24                       state_TX    0.013394                  25\n",
       "8                 total_eve_calls    0.013182                  26\n",
       "28       state_infrequent_sklearn    0.012066                  27\n",
       "18        area_code_area_code_415    0.007697                  28\n",
       "23                       state_OR    0.004784                  29"
      ]
     },
     "execution_count": 105,
     "metadata": {},
     "output_type": "execute_result"
    }
   ],
   "source": [
    "feature_importances_df"
   ]
  },
  {
   "cell_type": "code",
   "execution_count": 106,
   "id": "b2afa1f4-d3e4-4c74-88a9-aba3c80ffb63",
   "metadata": {
    "tags": []
   },
   "outputs": [
    {
     "name": "stdout",
     "output_type": "stream",
     "text": [
      "11 features at or below threshold of 70%\n"
     ]
    },
    {
     "data": {
      "text/html": [
       "<div>\n",
       "<style scoped>\n",
       "    .dataframe tbody tr th:only-of-type {\n",
       "        vertical-align: middle;\n",
       "    }\n",
       "\n",
       "    .dataframe tbody tr th {\n",
       "        vertical-align: top;\n",
       "    }\n",
       "\n",
       "    .dataframe thead th {\n",
       "        text-align: right;\n",
       "    }\n",
       "</style>\n",
       "<table border=\"1\" class=\"dataframe\">\n",
       "  <thead>\n",
       "    <tr style=\"text-align: right;\">\n",
       "      <th></th>\n",
       "      <th>feature</th>\n",
       "      <th>Importance</th>\n",
       "      <th>ranking_importance</th>\n",
       "      <th>Importance_cumsum</th>\n",
       "    </tr>\n",
       "  </thead>\n",
       "  <tbody>\n",
       "    <tr>\n",
       "      <th>2</th>\n",
       "      <td>international_plan</td>\n",
       "      <td>0.156956</td>\n",
       "      <td>1</td>\n",
       "      <td>0.156956</td>\n",
       "    </tr>\n",
       "    <tr>\n",
       "      <th>3</th>\n",
       "      <td>number_customer_service_calls</td>\n",
       "      <td>0.112266</td>\n",
       "      <td>2</td>\n",
       "      <td>0.269222</td>\n",
       "    </tr>\n",
       "    <tr>\n",
       "      <th>17</th>\n",
       "      <td>voice_mail_plan</td>\n",
       "      <td>0.070966</td>\n",
       "      <td>3</td>\n",
       "      <td>0.340188</td>\n",
       "    </tr>\n",
       "    <tr>\n",
       "      <th>7</th>\n",
       "      <td>total_day_minutes</td>\n",
       "      <td>0.062436</td>\n",
       "      <td>4</td>\n",
       "      <td>0.402625</td>\n",
       "    </tr>\n",
       "    <tr>\n",
       "      <th>22</th>\n",
       "      <td>state_OH</td>\n",
       "      <td>0.062089</td>\n",
       "      <td>5</td>\n",
       "      <td>0.464714</td>\n",
       "    </tr>\n",
       "  </tbody>\n",
       "</table>\n",
       "</div>"
      ],
      "text/plain": [
       "                          feature  Importance  ranking_importance  \\\n",
       "2              international_plan    0.156956                   1   \n",
       "3   number_customer_service_calls    0.112266                   2   \n",
       "17                voice_mail_plan    0.070966                   3   \n",
       "7               total_day_minutes    0.062436                   4   \n",
       "22                       state_OH    0.062089                   5   \n",
       "\n",
       "    Importance_cumsum  \n",
       "2            0.156956  \n",
       "3            0.269222  \n",
       "17           0.340188  \n",
       "7            0.402625  \n",
       "22           0.464714  "
      ]
     },
     "metadata": {},
     "output_type": "display_data"
    },
    {
     "data": {
      "text/html": [
       "<div>\n",
       "<style scoped>\n",
       "    .dataframe tbody tr th:only-of-type {\n",
       "        vertical-align: middle;\n",
       "    }\n",
       "\n",
       "    .dataframe tbody tr th {\n",
       "        vertical-align: top;\n",
       "    }\n",
       "\n",
       "    .dataframe thead th {\n",
       "        text-align: right;\n",
       "    }\n",
       "</style>\n",
       "<table border=\"1\" class=\"dataframe\">\n",
       "  <thead>\n",
       "    <tr style=\"text-align: right;\">\n",
       "      <th></th>\n",
       "      <th>feature</th>\n",
       "      <th>Importance</th>\n",
       "      <th>ranking_importance</th>\n",
       "      <th>Importance_cumsum</th>\n",
       "    </tr>\n",
       "  </thead>\n",
       "  <tbody>\n",
       "    <tr>\n",
       "      <th>27</th>\n",
       "      <td>state_WY</td>\n",
       "      <td>0.044234</td>\n",
       "      <td>7</td>\n",
       "      <td>0.558733</td>\n",
       "    </tr>\n",
       "    <tr>\n",
       "      <th>13</th>\n",
       "      <td>total_intl_minutes</td>\n",
       "      <td>0.040473</td>\n",
       "      <td>8</td>\n",
       "      <td>0.599206</td>\n",
       "    </tr>\n",
       "    <tr>\n",
       "      <th>4</th>\n",
       "      <td>number_vmail_messages</td>\n",
       "      <td>0.035666</td>\n",
       "      <td>9</td>\n",
       "      <td>0.634872</td>\n",
       "    </tr>\n",
       "    <tr>\n",
       "      <th>20</th>\n",
       "      <td>state_ID</td>\n",
       "      <td>0.031911</td>\n",
       "      <td>10</td>\n",
       "      <td>0.666783</td>\n",
       "    </tr>\n",
       "    <tr>\n",
       "      <th>12</th>\n",
       "      <td>total_intl_charge</td>\n",
       "      <td>0.030782</td>\n",
       "      <td>11</td>\n",
       "      <td>0.697565</td>\n",
       "    </tr>\n",
       "  </tbody>\n",
       "</table>\n",
       "</div>"
      ],
      "text/plain": [
       "                  feature  Importance  ranking_importance  Importance_cumsum\n",
       "27               state_WY    0.044234                   7           0.558733\n",
       "13     total_intl_minutes    0.040473                   8           0.599206\n",
       "4   number_vmail_messages    0.035666                   9           0.634872\n",
       "20               state_ID    0.031911                  10           0.666783\n",
       "12      total_intl_charge    0.030782                  11           0.697565"
      ]
     },
     "execution_count": 106,
     "metadata": {},
     "output_type": "execute_result"
    }
   ],
   "source": [
    "feature_importances_df['Importance_cumsum'] = feature_importances_df['Importance'].cumsum()\n",
    "\n",
    "# can set importance_threshold to appropriate percentage of cumulative Importance that you want to cutoff features at\n",
    "importance_threshold = 0.70\n",
    "print(len(feature_importances_df[round(feature_importances_df['Importance_cumsum'], 2) <= importance_threshold]), 'features at or below threshold of', str(int(round(importance_threshold * 100, 0))) + '%')\n",
    "display(feature_importances_df[round(feature_importances_df['Importance_cumsum'], 2) <= importance_threshold].head(5))\n",
    "feature_importances_df[round(feature_importances_df['Importance_cumsum'], 2) <= importance_threshold].tail(5)"
   ]
  },
  {
   "cell_type": "code",
   "execution_count": 107,
   "id": "657ba41b-0ea7-4a2b-9206-dbaf4053f063",
   "metadata": {
    "tags": []
   },
   "outputs": [
    {
     "data": {
      "text/plain": [
       "11"
      ]
     },
     "execution_count": 107,
     "metadata": {},
     "output_type": "execute_result"
    }
   ],
   "source": [
    "best_nb = len(feature_importances_df[round(feature_importances_df['Importance_cumsum'], 2) <= importance_threshold]) \n",
    "best_features = list(feature_importances_df[0:best_nb]['feature'])\n",
    "len(best_features)"
   ]
  },
  {
   "cell_type": "markdown",
   "id": "10dce934",
   "metadata": {},
   "source": [
    "## Down Sampling"
   ]
  },
  {
   "cell_type": "code",
   "execution_count": 70,
   "id": "8b653e51",
   "metadata": {},
   "outputs": [],
   "source": [
    "X_FE.columns = X_FE.columns.str.split('.').str[0]\n",
    "import importlib\n",
    "Pipe_Mod = Pipeline([\n",
    "            ('Down Sampling', pp.Down_Sampling(target='Churn'))\n",
    "            ])"
   ]
  },
  {
   "cell_type": "code",
   "execution_count": 71,
   "id": "5538df7b",
   "metadata": {},
   "outputs": [
    {
     "name": "stdout",
     "output_type": "stream",
     "text": [
      "**************************************************\n",
      "Down Sampling**************************************************\n"
     ]
    }
   ],
   "source": [
    "X_train_down, y_train_down = Pipe_Mod.fit_transform(pd.concat([X_train, y_train], axis = 1), y = None)"
   ]
  },
  {
   "cell_type": "markdown",
   "id": "88c1a0c0-34d3-49f2-aa30-64a32d042e21",
   "metadata": {},
   "source": [
    "## Model Training"
   ]
  },
  {
   "cell_type": "code",
   "execution_count": 108,
   "id": "0befc0ae-469c-4a0d-8166-c1d2b860780d",
   "metadata": {
    "tags": []
   },
   "outputs": [
    {
     "data": {
      "text/plain": [
       "7.351893095768374"
      ]
     },
     "execution_count": 108,
     "metadata": {},
     "output_type": "execute_result"
    }
   ],
   "source": [
    "# Calculate the ratio of negative class to positive class\n",
    "ratio = float(y_train.value_counts()[0] / y_train.value_counts()[1])\n",
    "ratio"
   ]
  },
  {
   "cell_type": "code",
   "execution_count": 109,
   "id": "46ac878d-7ccf-4c73-a7c7-e698b2dda3bf",
   "metadata": {
    "tags": []
   },
   "outputs": [
    {
     "data": {
      "text/plain": [
       "False"
      ]
     },
     "execution_count": 109,
     "metadata": {},
     "output_type": "execute_result"
    }
   ],
   "source": [
    "'Churn' in best_features # Making sure that target is not among the independent feature's list"
   ]
  },
  {
   "cell_type": "code",
   "execution_count": 110,
   "id": "b4d26602-4146-4156-b2a5-d9ab578f03a8",
   "metadata": {
    "tags": []
   },
   "outputs": [
    {
     "name": "stdout",
     "output_type": "stream",
     "text": [
      "**************************************************\n",
      "get best hyper parameters\n",
      "\n",
      "time_spend: 8.922785758972168\n"
     ]
    }
   ],
   "source": [
    "importlib.reload(pp)\n",
    "start=time.time()\n",
    "### get best hyper parameters\n",
    "best_model_after_fs = pp.grid_search(X_train[best_features], y_train, cv =  3, ratio = ratio)\n",
    "end=time.time()\n",
    "print (\"time_spend: \"+str(end-start))"
   ]
  },
  {
   "cell_type": "code",
   "execution_count": 111,
   "id": "bca6679c-c918-4d41-8cf8-eadfcd61d803",
   "metadata": {
    "tags": []
   },
   "outputs": [
    {
     "data": {
      "text/html": [
       "<style>#sk-container-id-1 {color: black;}#sk-container-id-1 pre{padding: 0;}#sk-container-id-1 div.sk-toggleable {background-color: white;}#sk-container-id-1 label.sk-toggleable__label {cursor: pointer;display: block;width: 100%;margin-bottom: 0;padding: 0.3em;box-sizing: border-box;text-align: center;}#sk-container-id-1 label.sk-toggleable__label-arrow:before {content: \"▸\";float: left;margin-right: 0.25em;color: #696969;}#sk-container-id-1 label.sk-toggleable__label-arrow:hover:before {color: black;}#sk-container-id-1 div.sk-estimator:hover label.sk-toggleable__label-arrow:before {color: black;}#sk-container-id-1 div.sk-toggleable__content {max-height: 0;max-width: 0;overflow: hidden;text-align: left;background-color: #f0f8ff;}#sk-container-id-1 div.sk-toggleable__content pre {margin: 0.2em;color: black;border-radius: 0.25em;background-color: #f0f8ff;}#sk-container-id-1 input.sk-toggleable__control:checked~div.sk-toggleable__content {max-height: 200px;max-width: 100%;overflow: auto;}#sk-container-id-1 input.sk-toggleable__control:checked~label.sk-toggleable__label-arrow:before {content: \"▾\";}#sk-container-id-1 div.sk-estimator input.sk-toggleable__control:checked~label.sk-toggleable__label {background-color: #d4ebff;}#sk-container-id-1 div.sk-label input.sk-toggleable__control:checked~label.sk-toggleable__label {background-color: #d4ebff;}#sk-container-id-1 input.sk-hidden--visually {border: 0;clip: rect(1px 1px 1px 1px);clip: rect(1px, 1px, 1px, 1px);height: 1px;margin: -1px;overflow: hidden;padding: 0;position: absolute;width: 1px;}#sk-container-id-1 div.sk-estimator {font-family: monospace;background-color: #f0f8ff;border: 1px dotted black;border-radius: 0.25em;box-sizing: border-box;margin-bottom: 0.5em;}#sk-container-id-1 div.sk-estimator:hover {background-color: #d4ebff;}#sk-container-id-1 div.sk-parallel-item::after {content: \"\";width: 100%;border-bottom: 1px solid gray;flex-grow: 1;}#sk-container-id-1 div.sk-label:hover label.sk-toggleable__label {background-color: #d4ebff;}#sk-container-id-1 div.sk-serial::before {content: \"\";position: absolute;border-left: 1px solid gray;box-sizing: border-box;top: 0;bottom: 0;left: 50%;z-index: 0;}#sk-container-id-1 div.sk-serial {display: flex;flex-direction: column;align-items: center;background-color: white;padding-right: 0.2em;padding-left: 0.2em;position: relative;}#sk-container-id-1 div.sk-item {position: relative;z-index: 1;}#sk-container-id-1 div.sk-parallel {display: flex;align-items: stretch;justify-content: center;background-color: white;position: relative;}#sk-container-id-1 div.sk-item::before, #sk-container-id-1 div.sk-parallel-item::before {content: \"\";position: absolute;border-left: 1px solid gray;box-sizing: border-box;top: 0;bottom: 0;left: 50%;z-index: -1;}#sk-container-id-1 div.sk-parallel-item {display: flex;flex-direction: column;z-index: 1;position: relative;background-color: white;}#sk-container-id-1 div.sk-parallel-item:first-child::after {align-self: flex-end;width: 50%;}#sk-container-id-1 div.sk-parallel-item:last-child::after {align-self: flex-start;width: 50%;}#sk-container-id-1 div.sk-parallel-item:only-child::after {width: 0;}#sk-container-id-1 div.sk-dashed-wrapped {border: 1px dashed gray;margin: 0 0.4em 0.5em 0.4em;box-sizing: border-box;padding-bottom: 0.4em;background-color: white;}#sk-container-id-1 div.sk-label label {font-family: monospace;font-weight: bold;display: inline-block;line-height: 1.2em;}#sk-container-id-1 div.sk-label-container {text-align: center;}#sk-container-id-1 div.sk-container {/* jupyter's `normalize.less` sets `[hidden] { display: none; }` but bootstrap.min.css set `[hidden] { display: none !important; }` so we also need the `!important` here to be able to override the default hidden behavior on the sphinx rendered scikit-learn.org. See: https://github.com/scikit-learn/scikit-learn/issues/21755 */display: inline-block !important;position: relative;}#sk-container-id-1 div.sk-text-repr-fallback {display: none;}</style><div id=\"sk-container-id-1\" class=\"sk-top-container\"><div class=\"sk-text-repr-fallback\"><pre>XGBClassifier(base_score=0.5, booster=&#x27;gbtree&#x27;, callbacks=None,\n",
       "              colsample_bylevel=1, colsample_bynode=1, colsample_bytree=0.7,\n",
       "              early_stopping_rounds=None, enable_categorical=False, eta=0.05,\n",
       "              eval_metric=None, gamma=0.3, gpu_id=-1, grow_policy=&#x27;depthwise&#x27;,\n",
       "              importance_type=None, interaction_constraints=&#x27;&#x27;,\n",
       "              learning_rate=0.0500000007, max_bin=256, max_cat_to_onehot=4,\n",
       "              max_delta_step=0, max_depth=3, max_leaves=0, min_child_weight=1,\n",
       "              missing=nan, monotone_constraints=&#x27;()&#x27;, n_estimators=100,\n",
       "              n_jobs=-1, num_parallel_tree=1, predictor=&#x27;auto&#x27;,\n",
       "              random_state=500, reg_alpha=0, ...)</pre><b>In a Jupyter environment, please rerun this cell to show the HTML representation or trust the notebook. <br />On GitHub, the HTML representation is unable to render, please try loading this page with nbviewer.org.</b></div><div class=\"sk-container\" hidden><div class=\"sk-item\"><div class=\"sk-estimator sk-toggleable\"><input class=\"sk-toggleable__control sk-hidden--visually\" id=\"sk-estimator-id-1\" type=\"checkbox\" checked><label for=\"sk-estimator-id-1\" class=\"sk-toggleable__label sk-toggleable__label-arrow\">XGBClassifier</label><div class=\"sk-toggleable__content\"><pre>XGBClassifier(base_score=0.5, booster=&#x27;gbtree&#x27;, callbacks=None,\n",
       "              colsample_bylevel=1, colsample_bynode=1, colsample_bytree=0.7,\n",
       "              early_stopping_rounds=None, enable_categorical=False, eta=0.05,\n",
       "              eval_metric=None, gamma=0.3, gpu_id=-1, grow_policy=&#x27;depthwise&#x27;,\n",
       "              importance_type=None, interaction_constraints=&#x27;&#x27;,\n",
       "              learning_rate=0.0500000007, max_bin=256, max_cat_to_onehot=4,\n",
       "              max_delta_step=0, max_depth=3, max_leaves=0, min_child_weight=1,\n",
       "              missing=nan, monotone_constraints=&#x27;()&#x27;, n_estimators=100,\n",
       "              n_jobs=-1, num_parallel_tree=1, predictor=&#x27;auto&#x27;,\n",
       "              random_state=500, reg_alpha=0, ...)</pre></div></div></div></div></div>"
      ],
      "text/plain": [
       "XGBClassifier(base_score=0.5, booster='gbtree', callbacks=None,\n",
       "              colsample_bylevel=1, colsample_bynode=1, colsample_bytree=0.7,\n",
       "              early_stopping_rounds=None, enable_categorical=False, eta=0.05,\n",
       "              eval_metric=None, gamma=0.3, gpu_id=-1, grow_policy='depthwise',\n",
       "              importance_type=None, interaction_constraints='',\n",
       "              learning_rate=0.0500000007, max_bin=256, max_cat_to_onehot=4,\n",
       "              max_delta_step=0, max_depth=3, max_leaves=0, min_child_weight=1,\n",
       "              missing=nan, monotone_constraints='()', n_estimators=100,\n",
       "              n_jobs=-1, num_parallel_tree=1, predictor='auto',\n",
       "              random_state=500, reg_alpha=0, ...)"
      ]
     },
     "execution_count": 111,
     "metadata": {},
     "output_type": "execute_result"
    }
   ],
   "source": [
    "best_model_after_fs"
   ]
  },
  {
   "cell_type": "code",
   "execution_count": 113,
   "id": "522c07e2-bc22-47bd-afc2-2a4b54b3939c",
   "metadata": {
    "tags": []
   },
   "outputs": [],
   "source": [
    "filename = 'Outputs/telecom_churn_model_v2.sav'\n",
    "pickle.dump(best_model_after_fs, open(filename,'wb'))"
   ]
  },
  {
   "cell_type": "code",
   "execution_count": 115,
   "id": "36e13c90-df71-47ae-abf0-ea5aba221b1b",
   "metadata": {
    "tags": []
   },
   "outputs": [
    {
     "name": "stdout",
     "output_type": "stream",
     "text": [
      "11\n"
     ]
    }
   ],
   "source": [
    "# best_features = list(X_train.columns)\n",
    "\n",
    "filename = 'Outputs/best_features_v2.sav'\n",
    "pickle.dump(best_features, open(filename,'wb'))\n",
    "print(len(best_features))"
   ]
  },
  {
   "cell_type": "code",
   "execution_count": 116,
   "id": "758effca-a746-4e71-a1b6-1342cc9fd266",
   "metadata": {
    "tags": []
   },
   "outputs": [],
   "source": [
    "# filename = 'Outputs/Incomplete_Installation_prediction_best_model_v4.sav'\n",
    "# best_model_after_fs = pickle.load(open(filename, 'rb'))\n",
    "\n",
    "# filename = 'Outputs/best_features_v4.sav'\n",
    "# best_features = pickle.load(open(filename, 'rb'))"
   ]
  },
  {
   "cell_type": "code",
   "execution_count": 117,
   "id": "214b53fa-09a1-4fce-9647-82e583024512",
   "metadata": {
    "tags": []
   },
   "outputs": [],
   "source": [
    "for col in best_features:\n",
    "    if 'Churn' in col:\n",
    "        print(col)"
   ]
  },
  {
   "cell_type": "markdown",
   "id": "075d65d2-8b9c-4039-91dd-067ae5dfd5ea",
   "metadata": {
    "tags": []
   },
   "source": [
    "## Model Evaluations and Lift Analysis"
   ]
  },
  {
   "cell_type": "code",
   "execution_count": 118,
   "id": "6f851412-daff-4016-b69d-8edf3d3969d4",
   "metadata": {
    "tags": []
   },
   "outputs": [
    {
     "data": {
      "text/html": [
       "<style>#sk-container-id-2 {color: black;}#sk-container-id-2 pre{padding: 0;}#sk-container-id-2 div.sk-toggleable {background-color: white;}#sk-container-id-2 label.sk-toggleable__label {cursor: pointer;display: block;width: 100%;margin-bottom: 0;padding: 0.3em;box-sizing: border-box;text-align: center;}#sk-container-id-2 label.sk-toggleable__label-arrow:before {content: \"▸\";float: left;margin-right: 0.25em;color: #696969;}#sk-container-id-2 label.sk-toggleable__label-arrow:hover:before {color: black;}#sk-container-id-2 div.sk-estimator:hover label.sk-toggleable__label-arrow:before {color: black;}#sk-container-id-2 div.sk-toggleable__content {max-height: 0;max-width: 0;overflow: hidden;text-align: left;background-color: #f0f8ff;}#sk-container-id-2 div.sk-toggleable__content pre {margin: 0.2em;color: black;border-radius: 0.25em;background-color: #f0f8ff;}#sk-container-id-2 input.sk-toggleable__control:checked~div.sk-toggleable__content {max-height: 200px;max-width: 100%;overflow: auto;}#sk-container-id-2 input.sk-toggleable__control:checked~label.sk-toggleable__label-arrow:before {content: \"▾\";}#sk-container-id-2 div.sk-estimator input.sk-toggleable__control:checked~label.sk-toggleable__label {background-color: #d4ebff;}#sk-container-id-2 div.sk-label input.sk-toggleable__control:checked~label.sk-toggleable__label {background-color: #d4ebff;}#sk-container-id-2 input.sk-hidden--visually {border: 0;clip: rect(1px 1px 1px 1px);clip: rect(1px, 1px, 1px, 1px);height: 1px;margin: -1px;overflow: hidden;padding: 0;position: absolute;width: 1px;}#sk-container-id-2 div.sk-estimator {font-family: monospace;background-color: #f0f8ff;border: 1px dotted black;border-radius: 0.25em;box-sizing: border-box;margin-bottom: 0.5em;}#sk-container-id-2 div.sk-estimator:hover {background-color: #d4ebff;}#sk-container-id-2 div.sk-parallel-item::after {content: \"\";width: 100%;border-bottom: 1px solid gray;flex-grow: 1;}#sk-container-id-2 div.sk-label:hover label.sk-toggleable__label {background-color: #d4ebff;}#sk-container-id-2 div.sk-serial::before {content: \"\";position: absolute;border-left: 1px solid gray;box-sizing: border-box;top: 0;bottom: 0;left: 50%;z-index: 0;}#sk-container-id-2 div.sk-serial {display: flex;flex-direction: column;align-items: center;background-color: white;padding-right: 0.2em;padding-left: 0.2em;position: relative;}#sk-container-id-2 div.sk-item {position: relative;z-index: 1;}#sk-container-id-2 div.sk-parallel {display: flex;align-items: stretch;justify-content: center;background-color: white;position: relative;}#sk-container-id-2 div.sk-item::before, #sk-container-id-2 div.sk-parallel-item::before {content: \"\";position: absolute;border-left: 1px solid gray;box-sizing: border-box;top: 0;bottom: 0;left: 50%;z-index: -1;}#sk-container-id-2 div.sk-parallel-item {display: flex;flex-direction: column;z-index: 1;position: relative;background-color: white;}#sk-container-id-2 div.sk-parallel-item:first-child::after {align-self: flex-end;width: 50%;}#sk-container-id-2 div.sk-parallel-item:last-child::after {align-self: flex-start;width: 50%;}#sk-container-id-2 div.sk-parallel-item:only-child::after {width: 0;}#sk-container-id-2 div.sk-dashed-wrapped {border: 1px dashed gray;margin: 0 0.4em 0.5em 0.4em;box-sizing: border-box;padding-bottom: 0.4em;background-color: white;}#sk-container-id-2 div.sk-label label {font-family: monospace;font-weight: bold;display: inline-block;line-height: 1.2em;}#sk-container-id-2 div.sk-label-container {text-align: center;}#sk-container-id-2 div.sk-container {/* jupyter's `normalize.less` sets `[hidden] { display: none; }` but bootstrap.min.css set `[hidden] { display: none !important; }` so we also need the `!important` here to be able to override the default hidden behavior on the sphinx rendered scikit-learn.org. See: https://github.com/scikit-learn/scikit-learn/issues/21755 */display: inline-block !important;position: relative;}#sk-container-id-2 div.sk-text-repr-fallback {display: none;}</style><div id=\"sk-container-id-2\" class=\"sk-top-container\"><div class=\"sk-text-repr-fallback\"><pre>XGBClassifier(base_score=0.5, booster=&#x27;gbtree&#x27;, callbacks=None,\n",
       "              colsample_bylevel=1, colsample_bynode=1, colsample_bytree=0.7,\n",
       "              early_stopping_rounds=None, enable_categorical=False, eta=0.05,\n",
       "              eval_metric=None, gamma=0.3, gpu_id=-1, grow_policy=&#x27;depthwise&#x27;,\n",
       "              importance_type=None, interaction_constraints=&#x27;&#x27;,\n",
       "              learning_rate=0.0500000007, max_bin=256, max_cat_to_onehot=4,\n",
       "              max_delta_step=0, max_depth=3, max_leaves=0, min_child_weight=1,\n",
       "              missing=nan, monotone_constraints=&#x27;()&#x27;, n_estimators=100,\n",
       "              n_jobs=-1, num_parallel_tree=1, predictor=&#x27;auto&#x27;,\n",
       "              random_state=500, reg_alpha=0, ...)</pre><b>In a Jupyter environment, please rerun this cell to show the HTML representation or trust the notebook. <br />On GitHub, the HTML representation is unable to render, please try loading this page with nbviewer.org.</b></div><div class=\"sk-container\" hidden><div class=\"sk-item\"><div class=\"sk-estimator sk-toggleable\"><input class=\"sk-toggleable__control sk-hidden--visually\" id=\"sk-estimator-id-2\" type=\"checkbox\" checked><label for=\"sk-estimator-id-2\" class=\"sk-toggleable__label sk-toggleable__label-arrow\">XGBClassifier</label><div class=\"sk-toggleable__content\"><pre>XGBClassifier(base_score=0.5, booster=&#x27;gbtree&#x27;, callbacks=None,\n",
       "              colsample_bylevel=1, colsample_bynode=1, colsample_bytree=0.7,\n",
       "              early_stopping_rounds=None, enable_categorical=False, eta=0.05,\n",
       "              eval_metric=None, gamma=0.3, gpu_id=-1, grow_policy=&#x27;depthwise&#x27;,\n",
       "              importance_type=None, interaction_constraints=&#x27;&#x27;,\n",
       "              learning_rate=0.0500000007, max_bin=256, max_cat_to_onehot=4,\n",
       "              max_delta_step=0, max_depth=3, max_leaves=0, min_child_weight=1,\n",
       "              missing=nan, monotone_constraints=&#x27;()&#x27;, n_estimators=100,\n",
       "              n_jobs=-1, num_parallel_tree=1, predictor=&#x27;auto&#x27;,\n",
       "              random_state=500, reg_alpha=0, ...)</pre></div></div></div></div></div>"
      ],
      "text/plain": [
       "XGBClassifier(base_score=0.5, booster='gbtree', callbacks=None,\n",
       "              colsample_bylevel=1, colsample_bynode=1, colsample_bytree=0.7,\n",
       "              early_stopping_rounds=None, enable_categorical=False, eta=0.05,\n",
       "              eval_metric=None, gamma=0.3, gpu_id=-1, grow_policy='depthwise',\n",
       "              importance_type=None, interaction_constraints='',\n",
       "              learning_rate=0.0500000007, max_bin=256, max_cat_to_onehot=4,\n",
       "              max_delta_step=0, max_depth=3, max_leaves=0, min_child_weight=1,\n",
       "              missing=nan, monotone_constraints='()', n_estimators=100,\n",
       "              n_jobs=-1, num_parallel_tree=1, predictor='auto',\n",
       "              random_state=500, reg_alpha=0, ...)"
      ]
     },
     "execution_count": 118,
     "metadata": {},
     "output_type": "execute_result"
    }
   ],
   "source": [
    "best_model_after_fs"
   ]
  },
  {
   "cell_type": "code",
   "execution_count": 119,
   "id": "cb20ea2b-2a40-44b1-8537-7849b1a5a112",
   "metadata": {
    "tags": []
   },
   "outputs": [
    {
     "data": {
      "text/html": [
       "<div>\n",
       "<style scoped>\n",
       "    .dataframe tbody tr th:only-of-type {\n",
       "        vertical-align: middle;\n",
       "    }\n",
       "\n",
       "    .dataframe tbody tr th {\n",
       "        vertical-align: top;\n",
       "    }\n",
       "\n",
       "    .dataframe thead th {\n",
       "        text-align: right;\n",
       "    }\n",
       "</style>\n",
       "<table border=\"1\" class=\"dataframe\">\n",
       "  <thead>\n",
       "    <tr style=\"text-align: right;\">\n",
       "      <th></th>\n",
       "      <th>international_plan</th>\n",
       "      <th>number_customer_service_calls</th>\n",
       "      <th>voice_mail_plan</th>\n",
       "      <th>total_day_minutes</th>\n",
       "      <th>state_OH</th>\n",
       "      <th>total_day_charge</th>\n",
       "      <th>state_WY</th>\n",
       "      <th>total_intl_minutes</th>\n",
       "      <th>number_vmail_messages</th>\n",
       "      <th>state_ID</th>\n",
       "      <th>total_intl_charge</th>\n",
       "    </tr>\n",
       "  </thead>\n",
       "  <tbody>\n",
       "    <tr>\n",
       "      <th>1560</th>\n",
       "      <td>0.0</td>\n",
       "      <td>0.0</td>\n",
       "      <td>0.0</td>\n",
       "      <td>141.0</td>\n",
       "      <td>0.0</td>\n",
       "      <td>24.0</td>\n",
       "      <td>0.0</td>\n",
       "      <td>10.0</td>\n",
       "      <td>0.0</td>\n",
       "      <td>0.0</td>\n",
       "      <td>2.0</td>\n",
       "    </tr>\n",
       "    <tr>\n",
       "      <th>3819</th>\n",
       "      <td>0.0</td>\n",
       "      <td>0.0</td>\n",
       "      <td>1.0</td>\n",
       "      <td>184.0</td>\n",
       "      <td>0.0</td>\n",
       "      <td>31.0</td>\n",
       "      <td>0.0</td>\n",
       "      <td>16.0</td>\n",
       "      <td>19.0</td>\n",
       "      <td>0.0</td>\n",
       "      <td>4.0</td>\n",
       "    </tr>\n",
       "    <tr>\n",
       "      <th>3412</th>\n",
       "      <td>0.0</td>\n",
       "      <td>1.0</td>\n",
       "      <td>1.0</td>\n",
       "      <td>215.0</td>\n",
       "      <td>0.0</td>\n",
       "      <td>36.0</td>\n",
       "      <td>0.0</td>\n",
       "      <td>7.0</td>\n",
       "      <td>22.0</td>\n",
       "      <td>0.0</td>\n",
       "      <td>2.0</td>\n",
       "    </tr>\n",
       "    <tr>\n",
       "      <th>234</th>\n",
       "      <td>0.0</td>\n",
       "      <td>1.0</td>\n",
       "      <td>0.0</td>\n",
       "      <td>213.0</td>\n",
       "      <td>0.0</td>\n",
       "      <td>36.0</td>\n",
       "      <td>0.0</td>\n",
       "      <td>9.0</td>\n",
       "      <td>0.0</td>\n",
       "      <td>0.0</td>\n",
       "      <td>2.0</td>\n",
       "    </tr>\n",
       "    <tr>\n",
       "      <th>2139</th>\n",
       "      <td>0.0</td>\n",
       "      <td>3.0</td>\n",
       "      <td>0.0</td>\n",
       "      <td>174.0</td>\n",
       "      <td>0.0</td>\n",
       "      <td>29.0</td>\n",
       "      <td>0.0</td>\n",
       "      <td>9.0</td>\n",
       "      <td>0.0</td>\n",
       "      <td>0.0</td>\n",
       "      <td>2.0</td>\n",
       "    </tr>\n",
       "    <tr>\n",
       "      <th>...</th>\n",
       "      <td>...</td>\n",
       "      <td>...</td>\n",
       "      <td>...</td>\n",
       "      <td>...</td>\n",
       "      <td>...</td>\n",
       "      <td>...</td>\n",
       "      <td>...</td>\n",
       "      <td>...</td>\n",
       "      <td>...</td>\n",
       "      <td>...</td>\n",
       "      <td>...</td>\n",
       "    </tr>\n",
       "    <tr>\n",
       "      <th>4231</th>\n",
       "      <td>0.0</td>\n",
       "      <td>4.0</td>\n",
       "      <td>1.0</td>\n",
       "      <td>113.0</td>\n",
       "      <td>0.0</td>\n",
       "      <td>19.0</td>\n",
       "      <td>0.0</td>\n",
       "      <td>12.0</td>\n",
       "      <td>25.0</td>\n",
       "      <td>0.0</td>\n",
       "      <td>3.0</td>\n",
       "    </tr>\n",
       "    <tr>\n",
       "      <th>1926</th>\n",
       "      <td>0.0</td>\n",
       "      <td>0.0</td>\n",
       "      <td>0.0</td>\n",
       "      <td>132.0</td>\n",
       "      <td>0.0</td>\n",
       "      <td>22.0</td>\n",
       "      <td>0.0</td>\n",
       "      <td>5.0</td>\n",
       "      <td>0.0</td>\n",
       "      <td>0.0</td>\n",
       "      <td>1.0</td>\n",
       "    </tr>\n",
       "    <tr>\n",
       "      <th>4589</th>\n",
       "      <td>1.0</td>\n",
       "      <td>4.0</td>\n",
       "      <td>0.0</td>\n",
       "      <td>186.0</td>\n",
       "      <td>0.0</td>\n",
       "      <td>31.0</td>\n",
       "      <td>0.0</td>\n",
       "      <td>12.0</td>\n",
       "      <td>0.0</td>\n",
       "      <td>0.0</td>\n",
       "      <td>3.0</td>\n",
       "    </tr>\n",
       "    <tr>\n",
       "      <th>2459</th>\n",
       "      <td>0.0</td>\n",
       "      <td>0.0</td>\n",
       "      <td>0.0</td>\n",
       "      <td>129.0</td>\n",
       "      <td>0.0</td>\n",
       "      <td>22.0</td>\n",
       "      <td>0.0</td>\n",
       "      <td>13.0</td>\n",
       "      <td>0.0</td>\n",
       "      <td>0.0</td>\n",
       "      <td>3.0</td>\n",
       "    </tr>\n",
       "    <tr>\n",
       "      <th>4228</th>\n",
       "      <td>0.0</td>\n",
       "      <td>3.0</td>\n",
       "      <td>1.0</td>\n",
       "      <td>141.0</td>\n",
       "      <td>0.0</td>\n",
       "      <td>24.0</td>\n",
       "      <td>0.0</td>\n",
       "      <td>12.0</td>\n",
       "      <td>26.0</td>\n",
       "      <td>0.0</td>\n",
       "      <td>3.0</td>\n",
       "    </tr>\n",
       "  </tbody>\n",
       "</table>\n",
       "<p>1250 rows × 11 columns</p>\n",
       "</div>"
      ],
      "text/plain": [
       "      international_plan  number_customer_service_calls  voice_mail_plan  \\\n",
       "1560                 0.0                            0.0              0.0   \n",
       "3819                 0.0                            0.0              1.0   \n",
       "3412                 0.0                            1.0              1.0   \n",
       "234                  0.0                            1.0              0.0   \n",
       "2139                 0.0                            3.0              0.0   \n",
       "...                  ...                            ...              ...   \n",
       "4231                 0.0                            4.0              1.0   \n",
       "1926                 0.0                            0.0              0.0   \n",
       "4589                 1.0                            4.0              0.0   \n",
       "2459                 0.0                            0.0              0.0   \n",
       "4228                 0.0                            3.0              1.0   \n",
       "\n",
       "      total_day_minutes  state_OH  total_day_charge  state_WY  \\\n",
       "1560              141.0       0.0              24.0       0.0   \n",
       "3819              184.0       0.0              31.0       0.0   \n",
       "3412              215.0       0.0              36.0       0.0   \n",
       "234               213.0       0.0              36.0       0.0   \n",
       "2139              174.0       0.0              29.0       0.0   \n",
       "...                 ...       ...               ...       ...   \n",
       "4231              113.0       0.0              19.0       0.0   \n",
       "1926              132.0       0.0              22.0       0.0   \n",
       "4589              186.0       0.0              31.0       0.0   \n",
       "2459              129.0       0.0              22.0       0.0   \n",
       "4228              141.0       0.0              24.0       0.0   \n",
       "\n",
       "      total_intl_minutes  number_vmail_messages  state_ID  total_intl_charge  \n",
       "1560                10.0                    0.0       0.0                2.0  \n",
       "3819                16.0                   19.0       0.0                4.0  \n",
       "3412                 7.0                   22.0       0.0                2.0  \n",
       "234                  9.0                    0.0       0.0                2.0  \n",
       "2139                 9.0                    0.0       0.0                2.0  \n",
       "...                  ...                    ...       ...                ...  \n",
       "4231                12.0                   25.0       0.0                3.0  \n",
       "1926                 5.0                    0.0       0.0                1.0  \n",
       "4589                12.0                    0.0       0.0                3.0  \n",
       "2459                13.0                    0.0       0.0                3.0  \n",
       "4228                12.0                   26.0       0.0                3.0  \n",
       "\n",
       "[1250 rows x 11 columns]"
      ]
     },
     "execution_count": 119,
     "metadata": {},
     "output_type": "execute_result"
    }
   ],
   "source": [
    "X_test[best_features]"
   ]
  },
  {
   "cell_type": "code",
   "execution_count": 120,
   "id": "2c7f9ce2-62fe-45e3-8d97-5382e1390b78",
   "metadata": {
    "tags": []
   },
   "outputs": [
    {
     "data": {
      "image/png": "[encoded data removed]",
      "text/plain": [
       "<Figure size 1500x1000 with 1 Axes>"
      ]
     },
     "metadata": {},
     "output_type": "display_data"
    },
    {
     "data": {
      "text/plain": [
       "<Figure size 640x480 with 0 Axes>"
      ]
     },
     "metadata": {},
     "output_type": "display_data"
    }
   ],
   "source": [
    "importlib.reload(pp)\n",
    "[metrics_summary, y_test_pred, y_test_proba, y_train_proba,y_proba,y_pred] = pp.model_evaluation (best_model_after_fs,X_train[best_features], y_train, X_train[best_features], y_train, X_test[best_features], y_test, X_FE[best_features], y)"
   ]
  },
  {
   "cell_type": "code",
   "execution_count": 121,
   "id": "21b02912-5c0a-4d4a-97b0-c3a462af0ba3",
   "metadata": {
    "tags": []
   },
   "outputs": [
    {
     "data": {
      "text/html": [
       "<div>\n",
       "<style scoped>\n",
       "    .dataframe tbody tr th:only-of-type {\n",
       "        vertical-align: middle;\n",
       "    }\n",
       "\n",
       "    .dataframe tbody tr th {\n",
       "        vertical-align: top;\n",
       "    }\n",
       "\n",
       "    .dataframe thead th {\n",
       "        text-align: right;\n",
       "    }\n",
       "</style>\n",
       "<table border=\"1\" class=\"dataframe\">\n",
       "  <thead>\n",
       "    <tr style=\"text-align: right;\">\n",
       "      <th></th>\n",
       "      <th>Training down_sample</th>\n",
       "      <th>Training</th>\n",
       "      <th>Testing</th>\n",
       "    </tr>\n",
       "  </thead>\n",
       "  <tbody>\n",
       "    <tr>\n",
       "      <th>Accuracy</th>\n",
       "      <td>0.857333</td>\n",
       "      <td>0.857333</td>\n",
       "      <td>0.844000</td>\n",
       "    </tr>\n",
       "    <tr>\n",
       "      <th>Recall</th>\n",
       "      <td>0.824053</td>\n",
       "      <td>0.824053</td>\n",
       "      <td>0.751678</td>\n",
       "    </tr>\n",
       "    <tr>\n",
       "      <th>Precision</th>\n",
       "      <td>0.447942</td>\n",
       "      <td>0.447942</td>\n",
       "      <td>0.414815</td>\n",
       "    </tr>\n",
       "    <tr>\n",
       "      <th>F1-Score</th>\n",
       "      <td>0.580392</td>\n",
       "      <td>0.580392</td>\n",
       "      <td>0.534606</td>\n",
       "    </tr>\n",
       "  </tbody>\n",
       "</table>\n",
       "</div>"
      ],
      "text/plain": [
       "           Training down_sample  Training   Testing\n",
       "Accuracy               0.857333  0.857333  0.844000\n",
       "Recall                 0.824053  0.824053  0.751678\n",
       "Precision              0.447942  0.447942  0.414815\n",
       "F1-Score               0.580392  0.580392  0.534606"
      ]
     },
     "execution_count": 121,
     "metadata": {},
     "output_type": "execute_result"
    }
   ],
   "source": [
    "metrics_summary"
   ]
  },
  {
   "cell_type": "code",
   "execution_count": 122,
   "id": "8edd45ed-0c56-49b0-bd78-c4a3a74e447e",
   "metadata": {
    "tags": []
   },
   "outputs": [
    {
     "name": "stdout",
     "output_type": "stream",
     "text": [
      "0.8647202969844376\n"
     ]
    }
   ],
   "source": [
    "from sklearn import metrics\n",
    "#calculate AUC of model\n",
    "auc = metrics.roc_auc_score(y_test, y_test_proba)\n",
    "\n",
    "#print AUC score\n",
    "print(auc)"
   ]
  },
  {
   "cell_type": "code",
   "execution_count": 123,
   "id": "baf715bd",
   "metadata": {},
   "outputs": [
    {
     "data": {
      "text/plain": [
       "['ID']"
      ]
     },
     "execution_count": 123,
     "metadata": {},
     "output_type": "execute_result"
    }
   ],
   "source": [
    "id"
   ]
  },
  {
   "cell_type": "code",
   "execution_count": 125,
   "id": "6d53989d-52ec-4077-8595-5014d01e957a",
   "metadata": {
    "tags": []
   },
   "outputs": [
    {
     "data": {
      "text/html": [
       "<div>\n",
       "<style scoped>\n",
       "    .dataframe tbody tr th:only-of-type {\n",
       "        vertical-align: middle;\n",
       "    }\n",
       "\n",
       "    .dataframe tbody tr th {\n",
       "        vertical-align: top;\n",
       "    }\n",
       "\n",
       "    .dataframe thead th {\n",
       "        text-align: right;\n",
       "    }\n",
       "</style>\n",
       "<table border=\"1\" class=\"dataframe\">\n",
       "  <thead>\n",
       "    <tr style=\"text-align: right;\">\n",
       "      <th></th>\n",
       "      <th>predict</th>\n",
       "      <th>predict_prob</th>\n",
       "      <th>customerID</th>\n",
       "    </tr>\n",
       "  </thead>\n",
       "  <tbody>\n",
       "    <tr>\n",
       "      <th>0</th>\n",
       "      <td>0</td>\n",
       "      <td>0.212251</td>\n",
       "      <td>1000</td>\n",
       "    </tr>\n",
       "    <tr>\n",
       "      <th>1</th>\n",
       "      <td>0</td>\n",
       "      <td>0.202275</td>\n",
       "      <td>1001</td>\n",
       "    </tr>\n",
       "    <tr>\n",
       "      <th>2</th>\n",
       "      <td>0</td>\n",
       "      <td>0.077219</td>\n",
       "      <td>1002</td>\n",
       "    </tr>\n",
       "    <tr>\n",
       "      <th>3</th>\n",
       "      <td>1</td>\n",
       "      <td>0.745720</td>\n",
       "      <td>1003</td>\n",
       "    </tr>\n",
       "    <tr>\n",
       "      <th>4</th>\n",
       "      <td>0</td>\n",
       "      <td>0.205319</td>\n",
       "      <td>1004</td>\n",
       "    </tr>\n",
       "  </tbody>\n",
       "</table>\n",
       "</div>"
      ],
      "text/plain": [
       "   predict  predict_prob  customerID\n",
       "0        0      0.212251        1000\n",
       "1        0      0.202275        1001\n",
       "2        0      0.077219        1002\n",
       "3        1      0.745720        1003\n",
       "4        0      0.205319        1004"
      ]
     },
     "execution_count": 125,
     "metadata": {},
     "output_type": "execute_result"
    }
   ],
   "source": [
    "## Build final data\n",
    "df_predict_actual                   = pd.DataFrame()\n",
    "df_predict_actual['predict']        = y_pred\n",
    "df_predict_actual['predict_prob']   = y_proba\n",
    "df_predict_actual['customerID']         = raw_data_res['ID']\n",
    "\n",
    "df_predict_actual.head()"
   ]
  },
  {
   "cell_type": "code",
   "execution_count": 126,
   "id": "c500418d-bfa1-498b-bcf2-3a2c4bcfa220",
   "metadata": {
    "tags": []
   },
   "outputs": [
    {
     "data": {
      "text/html": [
       "<div>\n",
       "<style scoped>\n",
       "    .dataframe tbody tr th:only-of-type {\n",
       "        vertical-align: middle;\n",
       "    }\n",
       "\n",
       "    .dataframe tbody tr th {\n",
       "        vertical-align: top;\n",
       "    }\n",
       "\n",
       "    .dataframe thead th {\n",
       "        text-align: right;\n",
       "    }\n",
       "</style>\n",
       "<table border=\"1\" class=\"dataframe\">\n",
       "  <thead>\n",
       "    <tr style=\"text-align: right;\">\n",
       "      <th></th>\n",
       "      <th>customerID</th>\n",
       "      <th>Rank</th>\n",
       "    </tr>\n",
       "  </thead>\n",
       "  <tbody>\n",
       "    <tr>\n",
       "      <th>0</th>\n",
       "      <td>2830</td>\n",
       "      <td>1</td>\n",
       "    </tr>\n",
       "    <tr>\n",
       "      <th>1</th>\n",
       "      <td>3240</td>\n",
       "      <td>1</td>\n",
       "    </tr>\n",
       "    <tr>\n",
       "      <th>2</th>\n",
       "      <td>4884</td>\n",
       "      <td>1</td>\n",
       "    </tr>\n",
       "    <tr>\n",
       "      <th>3</th>\n",
       "      <td>3444</td>\n",
       "      <td>1</td>\n",
       "    </tr>\n",
       "    <tr>\n",
       "      <th>4</th>\n",
       "      <td>1180</td>\n",
       "      <td>1</td>\n",
       "    </tr>\n",
       "  </tbody>\n",
       "</table>\n",
       "</div>"
      ],
      "text/plain": [
       "   customerID  Rank\n",
       "0        2830     1\n",
       "1        3240     1\n",
       "2        4884     1\n",
       "3        3444     1\n",
       "4        1180     1"
      ]
     },
     "execution_count": 126,
     "metadata": {},
     "output_type": "execute_result"
    }
   ],
   "source": [
    "df_fixed    = df_predict_actual.sort_values(by = 'predict_prob', ascending = False).reset_index()\n",
    "sample_size = df_predict_actual.shape[0]\n",
    "\n",
    "# Segment the data into Decile size of 1\n",
    "decile_size = sample_size/100 \n",
    "df_fixed['Rank'] = ((df_predict_actual.index//decile_size)*1+1).astype('int64')\n",
    "\n",
    "# df_fixed2 = df_fixed[df_fixed['Rank'] <= 20][['chc_id', 'Rank']]\n",
    "df_fixed2 = df_fixed[['customerID', 'Rank']]\n",
    "df_fixed2.head()"
   ]
  },
  {
   "cell_type": "markdown",
   "id": "79786da0-b5e0-425c-8e52-552fc2f7ae62",
   "metadata": {},
   "source": [
    "## KS "
   ]
  },
  {
   "cell_type": "code",
   "execution_count": 127,
   "id": "bb696fd0-2aba-41d8-a2fa-711f0849cd63",
   "metadata": {
    "tags": []
   },
   "outputs": [],
   "source": [
    "test_df = pd.concat([X_test[best_features], y_test], axis = 1)\n",
    "test_df['Churn_probability'] = y_test_proba\n",
    "test_df['y_pred'] = y_test_pred"
   ]
  },
  {
   "cell_type": "code",
   "execution_count": 128,
   "id": "f1e6f63a-8adc-4b58-ba2e-24ebc29f6f25",
   "metadata": {
    "tags": []
   },
   "outputs": [
    {
     "data": {
      "text/plain": [
       "149"
      ]
     },
     "execution_count": 128,
     "metadata": {},
     "output_type": "execute_result"
    }
   ],
   "source": [
    "y_test.sum()"
   ]
  },
  {
   "cell_type": "code",
   "execution_count": 129,
   "id": "594a222b-abde-4d8d-abd9-eb057cae0669",
   "metadata": {
    "tags": []
   },
   "outputs": [
    {
     "data": {
      "text/plain": [
       "(1250, 14)"
      ]
     },
     "execution_count": 129,
     "metadata": {},
     "output_type": "execute_result"
    }
   ],
   "source": [
    "test_df.shape"
   ]
  },
  {
   "cell_type": "code",
   "execution_count": 130,
   "id": "b0062c0a",
   "metadata": {},
   "outputs": [
    {
     "data": {
      "text/plain": [
       "Churn\n",
       "0    1101\n",
       "1     149\n",
       "Name: count, dtype: int64"
      ]
     },
     "execution_count": 130,
     "metadata": {},
     "output_type": "execute_result"
    }
   ],
   "source": [
    "test_df.Churn.value_counts()"
   ]
  },
  {
   "cell_type": "code",
   "execution_count": 131,
   "id": "d6e93d7c-92e3-43fd-b825-51bc898e882e",
   "metadata": {
    "tags": []
   },
   "outputs": [],
   "source": [
    "importlib.reload(pp)\n",
    "ks_df = pp.ks(data=test_df,target=\"Churn\", prob= \"Churn_probability\")"
   ]
  },
  {
   "cell_type": "code",
   "execution_count": 132,
   "id": "885027ee",
   "metadata": {},
   "outputs": [
    {
     "data": {
      "text/html": [
       "<div>\n",
       "<style scoped>\n",
       "    .dataframe tbody tr th:only-of-type {\n",
       "        vertical-align: middle;\n",
       "    }\n",
       "\n",
       "    .dataframe tbody tr th {\n",
       "        vertical-align: top;\n",
       "    }\n",
       "\n",
       "    .dataframe thead th {\n",
       "        text-align: right;\n",
       "    }\n",
       "</style>\n",
       "<table border=\"1\" class=\"dataframe\">\n",
       "  <thead>\n",
       "    <tr style=\"text-align: right;\">\n",
       "      <th></th>\n",
       "      <th>min_prob</th>\n",
       "      <th>max_prob</th>\n",
       "      <th>events</th>\n",
       "      <th>nonevents</th>\n",
       "      <th>event_rate</th>\n",
       "      <th>nonevent_rate</th>\n",
       "      <th>cum_eventrate</th>\n",
       "      <th>cum_noneventrate</th>\n",
       "      <th>KS</th>\n",
       "    </tr>\n",
       "    <tr>\n",
       "      <th>Decile</th>\n",
       "      <th></th>\n",
       "      <th></th>\n",
       "      <th></th>\n",
       "      <th></th>\n",
       "      <th></th>\n",
       "      <th></th>\n",
       "      <th></th>\n",
       "      <th></th>\n",
       "      <th></th>\n",
       "    </tr>\n",
       "  </thead>\n",
       "  <tbody>\n",
       "    <tr>\n",
       "      <th>1</th>\n",
       "      <td>0.767571</td>\n",
       "      <td>0.973905</td>\n",
       "      <td>76</td>\n",
       "      <td>49</td>\n",
       "      <td>51.01%</td>\n",
       "      <td>4.45%</td>\n",
       "      <td>51.01%</td>\n",
       "      <td>4.45%</td>\n",
       "      <td>4.655621e-01</td>\n",
       "    </tr>\n",
       "    <tr>\n",
       "      <th>2</th>\n",
       "      <td>0.585248</td>\n",
       "      <td>0.767509</td>\n",
       "      <td>32</td>\n",
       "      <td>92</td>\n",
       "      <td>21.48%</td>\n",
       "      <td>8.36%</td>\n",
       "      <td>72.48%</td>\n",
       "      <td>12.81%</td>\n",
       "      <td>5.967668e-01</td>\n",
       "    </tr>\n",
       "    <tr>\n",
       "      <th>3</th>\n",
       "      <td>0.382598</td>\n",
       "      <td>0.580556</td>\n",
       "      <td>16</td>\n",
       "      <td>107</td>\n",
       "      <td>10.74%</td>\n",
       "      <td>9.72%</td>\n",
       "      <td>83.22%</td>\n",
       "      <td>22.52%</td>\n",
       "      <td>6.069650e-01</td>\n",
       "    </tr>\n",
       "    <tr>\n",
       "      <th>4</th>\n",
       "      <td>0.195839</td>\n",
       "      <td>0.372105</td>\n",
       "      <td>5</td>\n",
       "      <td>123</td>\n",
       "      <td>3.36%</td>\n",
       "      <td>11.17%</td>\n",
       "      <td>86.58%</td>\n",
       "      <td>33.70%</td>\n",
       "      <td>5.288054e-01</td>\n",
       "    </tr>\n",
       "    <tr>\n",
       "      <th>5</th>\n",
       "      <td>0.154954</td>\n",
       "      <td>0.195727</td>\n",
       "      <td>3</td>\n",
       "      <td>119</td>\n",
       "      <td>2.01%</td>\n",
       "      <td>10.81%</td>\n",
       "      <td>88.59%</td>\n",
       "      <td>44.50%</td>\n",
       "      <td>4.408561e-01</td>\n",
       "    </tr>\n",
       "    <tr>\n",
       "      <th>6</th>\n",
       "      <td>0.147505</td>\n",
       "      <td>0.154735</td>\n",
       "      <td>5</td>\n",
       "      <td>113</td>\n",
       "      <td>3.36%</td>\n",
       "      <td>10.26%</td>\n",
       "      <td>91.95%</td>\n",
       "      <td>54.77%</td>\n",
       "      <td>3.717792e-01</td>\n",
       "    </tr>\n",
       "    <tr>\n",
       "      <th>7</th>\n",
       "      <td>0.141426</td>\n",
       "      <td>0.147329</td>\n",
       "      <td>1</td>\n",
       "      <td>65</td>\n",
       "      <td>0.67%</td>\n",
       "      <td>5.90%</td>\n",
       "      <td>92.62%</td>\n",
       "      <td>60.67%</td>\n",
       "      <td>3.194533e-01</td>\n",
       "    </tr>\n",
       "    <tr>\n",
       "      <th>8</th>\n",
       "      <td>0.135191</td>\n",
       "      <td>0.141426</td>\n",
       "      <td>7</td>\n",
       "      <td>158</td>\n",
       "      <td>4.70%</td>\n",
       "      <td>14.35%</td>\n",
       "      <td>97.32%</td>\n",
       "      <td>75.02%</td>\n",
       "      <td>2.229273e-01</td>\n",
       "    </tr>\n",
       "    <tr>\n",
       "      <th>9</th>\n",
       "      <td>0.120683</td>\n",
       "      <td>0.134719</td>\n",
       "      <td>3</td>\n",
       "      <td>151</td>\n",
       "      <td>2.01%</td>\n",
       "      <td>13.71%</td>\n",
       "      <td>99.33%</td>\n",
       "      <td>88.74%</td>\n",
       "      <td>1.059135e-01</td>\n",
       "    </tr>\n",
       "    <tr>\n",
       "      <th>10</th>\n",
       "      <td>0.046218</td>\n",
       "      <td>0.120434</td>\n",
       "      <td>1</td>\n",
       "      <td>124</td>\n",
       "      <td>0.67%</td>\n",
       "      <td>11.26%</td>\n",
       "      <td>100.00%</td>\n",
       "      <td>100.00%</td>\n",
       "      <td>-1.110223e-16</td>\n",
       "    </tr>\n",
       "  </tbody>\n",
       "</table>\n",
       "</div>"
      ],
      "text/plain": [
       "        min_prob  max_prob  events  nonevents event_rate nonevent_rate  \\\n",
       "Decile                                                                   \n",
       "1       0.767571  0.973905      76         49     51.01%         4.45%   \n",
       "2       0.585248  0.767509      32         92     21.48%         8.36%   \n",
       "3       0.382598  0.580556      16        107     10.74%         9.72%   \n",
       "4       0.195839  0.372105       5        123      3.36%        11.17%   \n",
       "5       0.154954  0.195727       3        119      2.01%        10.81%   \n",
       "6       0.147505  0.154735       5        113      3.36%        10.26%   \n",
       "7       0.141426  0.147329       1         65      0.67%         5.90%   \n",
       "8       0.135191  0.141426       7        158      4.70%        14.35%   \n",
       "9       0.120683  0.134719       3        151      2.01%        13.71%   \n",
       "10      0.046218  0.120434       1        124      0.67%        11.26%   \n",
       "\n",
       "       cum_eventrate cum_noneventrate            KS  \n",
       "Decile                                               \n",
       "1             51.01%            4.45%  4.655621e-01  \n",
       "2             72.48%           12.81%  5.967668e-01  \n",
       "3             83.22%           22.52%  6.069650e-01  \n",
       "4             86.58%           33.70%  5.288054e-01  \n",
       "5             88.59%           44.50%  4.408561e-01  \n",
       "6             91.95%           54.77%  3.717792e-01  \n",
       "7             92.62%           60.67%  3.194533e-01  \n",
       "8             97.32%           75.02%  2.229273e-01  \n",
       "9             99.33%           88.74%  1.059135e-01  \n",
       "10           100.00%          100.00% -1.110223e-16  "
      ]
     },
     "execution_count": 132,
     "metadata": {},
     "output_type": "execute_result"
    }
   ],
   "source": [
    "ks_df"
   ]
  },
  {
   "cell_type": "code",
   "execution_count": null,
   "id": "ec0cdf3c-b81e-4374-aab9-7ec3ad6bdd4d",
   "metadata": {
    "tags": []
   },
   "outputs": [
    {
     "data": {
      "text/html": [
       "<div>\n",
       "<style scoped>\n",
       "    .dataframe tbody tr th:only-of-type {\n",
       "        vertical-align: middle;\n",
       "    }\n",
       "\n",
       "    .dataframe tbody tr th {\n",
       "        vertical-align: top;\n",
       "    }\n",
       "\n",
       "    .dataframe thead th {\n",
       "        text-align: right;\n",
       "    }\n",
       "</style>\n",
       "<table border=\"1\" class=\"dataframe\">\n",
       "  <thead>\n",
       "    <tr style=\"text-align: right;\">\n",
       "      <th></th>\n",
       "      <th>min_prob</th>\n",
       "      <th>max_prob</th>\n",
       "      <th>events</th>\n",
       "      <th>nonevents</th>\n",
       "      <th>event_rate</th>\n",
       "      <th>nonevent_rate</th>\n",
       "      <th>cum_eventrate</th>\n",
       "      <th>cum_noneventrate</th>\n",
       "      <th>KS</th>\n",
       "    </tr>\n",
       "    <tr>\n",
       "      <th>Decile</th>\n",
       "      <th></th>\n",
       "      <th></th>\n",
       "      <th></th>\n",
       "      <th></th>\n",
       "      <th></th>\n",
       "      <th></th>\n",
       "      <th></th>\n",
       "      <th></th>\n",
       "      <th></th>\n",
       "    </tr>\n",
       "  </thead>\n",
       "  <tbody>\n",
       "    <tr>\n",
       "      <th>1</th>\n",
       "      <td>0.702077</td>\n",
       "      <td>0.985995</td>\n",
       "      <td>82</td>\n",
       "      <td>334</td>\n",
       "      <td>65.08%</td>\n",
       "      <td>8.24%</td>\n",
       "      <td>65.08%</td>\n",
       "      <td>8.24%</td>\n",
       "      <td>0.568406</td>\n",
       "    </tr>\n",
       "    <tr>\n",
       "      <th>2</th>\n",
       "      <td>0.573361</td>\n",
       "      <td>0.699667</td>\n",
       "      <td>18</td>\n",
       "      <td>400</td>\n",
       "      <td>14.29%</td>\n",
       "      <td>9.87%</td>\n",
       "      <td>79.37%</td>\n",
       "      <td>18.11%</td>\n",
       "      <td>0.612595</td>\n",
       "    </tr>\n",
       "    <tr>\n",
       "      <th>3</th>\n",
       "      <td>0.503984</td>\n",
       "      <td>0.573209</td>\n",
       "      <td>15</td>\n",
       "      <td>393</td>\n",
       "      <td>11.90%</td>\n",
       "      <td>9.69%</td>\n",
       "      <td>91.27%</td>\n",
       "      <td>27.80%</td>\n",
       "      <td>0.634701</td>\n",
       "    </tr>\n",
       "    <tr>\n",
       "      <th>4</th>\n",
       "      <td>0.145940</td>\n",
       "      <td>0.503301</td>\n",
       "      <td>4</td>\n",
       "      <td>426</td>\n",
       "      <td>3.17%</td>\n",
       "      <td>10.51%</td>\n",
       "      <td>94.44%</td>\n",
       "      <td>38.31%</td>\n",
       "      <td>0.561366</td>\n",
       "    </tr>\n",
       "    <tr>\n",
       "      <th>5</th>\n",
       "      <td>0.076579</td>\n",
       "      <td>0.145418</td>\n",
       "      <td>2</td>\n",
       "      <td>412</td>\n",
       "      <td>1.59%</td>\n",
       "      <td>10.16%</td>\n",
       "      <td>96.03%</td>\n",
       "      <td>48.47%</td>\n",
       "      <td>0.475611</td>\n",
       "    </tr>\n",
       "    <tr>\n",
       "      <th>6</th>\n",
       "      <td>0.056283</td>\n",
       "      <td>0.076036</td>\n",
       "      <td>0</td>\n",
       "      <td>398</td>\n",
       "      <td>0.00%</td>\n",
       "      <td>9.82%</td>\n",
       "      <td>96.03%</td>\n",
       "      <td>58.29%</td>\n",
       "      <td>0.377436</td>\n",
       "    </tr>\n",
       "    <tr>\n",
       "      <th>7</th>\n",
       "      <td>0.044192</td>\n",
       "      <td>0.056267</td>\n",
       "      <td>1</td>\n",
       "      <td>435</td>\n",
       "      <td>0.79%</td>\n",
       "      <td>10.73%</td>\n",
       "      <td>96.83%</td>\n",
       "      <td>69.02%</td>\n",
       "      <td>0.278071</td>\n",
       "    </tr>\n",
       "    <tr>\n",
       "      <th>8</th>\n",
       "      <td>0.034204</td>\n",
       "      <td>0.044162</td>\n",
       "      <td>1</td>\n",
       "      <td>419</td>\n",
       "      <td>0.79%</td>\n",
       "      <td>10.34%</td>\n",
       "      <td>97.62%</td>\n",
       "      <td>79.35%</td>\n",
       "      <td>0.182653</td>\n",
       "    </tr>\n",
       "    <tr>\n",
       "      <th>9</th>\n",
       "      <td>0.028435</td>\n",
       "      <td>0.034155</td>\n",
       "      <td>1</td>\n",
       "      <td>393</td>\n",
       "      <td>0.79%</td>\n",
       "      <td>9.69%</td>\n",
       "      <td>98.41%</td>\n",
       "      <td>89.05%</td>\n",
       "      <td>0.093648</td>\n",
       "    </tr>\n",
       "    <tr>\n",
       "      <th>10</th>\n",
       "      <td>0.014959</td>\n",
       "      <td>0.028423</td>\n",
       "      <td>2</td>\n",
       "      <td>444</td>\n",
       "      <td>1.59%</td>\n",
       "      <td>10.95%</td>\n",
       "      <td>100.00%</td>\n",
       "      <td>100.00%</td>\n",
       "      <td>0.0</td>\n",
       "    </tr>\n",
       "  </tbody>\n",
       "</table>\n",
       "</div>"
      ],
      "text/plain": [
       "        min_prob  max_prob  events  nonevents event_rate nonevent_rate  \\\n",
       "Decile                                                                   \n",
       "1       0.702077  0.985995      82        334     65.08%         8.24%   \n",
       "2       0.573361  0.699667      18        400     14.29%         9.87%   \n",
       "3       0.503984  0.573209      15        393     11.90%         9.69%   \n",
       "4       0.145940  0.503301       4        426      3.17%        10.51%   \n",
       "5       0.076579  0.145418       2        412      1.59%        10.16%   \n",
       "6       0.056283  0.076036       0        398      0.00%         9.82%   \n",
       "7       0.044192  0.056267       1        435      0.79%        10.73%   \n",
       "8       0.034204  0.044162       1        419      0.79%        10.34%   \n",
       "9       0.028435  0.034155       1        393      0.79%         9.69%   \n",
       "10      0.014959  0.028423       2        444      1.59%        10.95%   \n",
       "\n",
       "       cum_eventrate cum_noneventrate        KS  \n",
       "Decile                                           \n",
       "1             65.08%            8.24%  0.568406  \n",
       "2             79.37%           18.11%  0.612595  \n",
       "3             91.27%           27.80%  0.634701  \n",
       "4             94.44%           38.31%  0.561366  \n",
       "5             96.03%           48.47%  0.475611  \n",
       "6             96.03%           58.29%  0.377436  \n",
       "7             96.83%           69.02%  0.278071  \n",
       "8             97.62%           79.35%  0.182653  \n",
       "9             98.41%           89.05%  0.093648  \n",
       "10           100.00%          100.00%       0.0  "
      ]
     },
     "execution_count": 63,
     "metadata": {},
     "output_type": "execute_result"
    }
   ],
   "source": [
    "ks_df"
   ]
  },
  {
   "cell_type": "markdown",
   "id": "b40b8165-8735-4ca1-9257-bd7503023c6a",
   "metadata": {},
   "source": [
    "## SHAP Feature Importance"
   ]
  },
  {
   "cell_type": "code",
   "execution_count": 133,
   "id": "c94aa200-7846-4b30-9235-68952e77db6c",
   "metadata": {
    "tags": []
   },
   "outputs": [],
   "source": [
    "import shap\n",
    "explainer = shap.Explainer(best_model_after_fs, X_test[best_features])\n",
    "shap_values = explainer(X_test[best_features])"
   ]
  },
  {
   "cell_type": "code",
   "execution_count": 134,
   "id": "2e67f13e-657b-4720-866b-cfcfea30e2f6",
   "metadata": {
    "tags": []
   },
   "outputs": [
    {
     "data": {
      "image/png": "[encoded data removed]",
      "text/plain": [
       "<Figure size 800x590 with 1 Axes>"
      ]
     },
     "metadata": {},
     "output_type": "display_data"
    }
   ],
   "source": [
    "shap.summary_plot(shap_values, X_test[best_features], plot_type= 'bar')"
   ]
  },
  {
   "cell_type": "code",
   "execution_count": 135,
   "id": "5fdd0935-8138-498d-9e39-3de5a173f5dd",
   "metadata": {
    "tags": []
   },
   "outputs": [
    {
     "data": {
      "image/png": "[encoded data removed]",
      "text/plain": [
       "<Figure size 800x590 with 2 Axes>"
      ]
     },
     "metadata": {},
     "output_type": "display_data"
    }
   ],
   "source": [
    "shap.plots.beeswarm "
   ]
  },
  {
   "cell_type": "code",
   "execution_count": 137,
   "id": "598e6548",
   "metadata": {},
   "outputs": [],
   "source": [
    "import shap"
   ]
  },
  {
   "cell_type": "code",
   "execution_count": 138,
   "id": "d7b99c1e",
   "metadata": {},
   "outputs": [],
   "source": [
    "X_display,y_display = shap.datasets.adult(display=True)"
   ]
  },
  {
   "cell_type": "code",
   "execution_count": 139,
   "id": "4d68f847",
   "metadata": {},
   "outputs": [
    {
     "data": {
      "text/html": [
       "<div>\n",
       "<style scoped>\n",
       "    .dataframe tbody tr th:only-of-type {\n",
       "        vertical-align: middle;\n",
       "    }\n",
       "\n",
       "    .dataframe tbody tr th {\n",
       "        vertical-align: top;\n",
       "    }\n",
       "\n",
       "    .dataframe thead th {\n",
       "        text-align: right;\n",
       "    }\n",
       "</style>\n",
       "<table border=\"1\" class=\"dataframe\">\n",
       "  <thead>\n",
       "    <tr style=\"text-align: right;\">\n",
       "      <th></th>\n",
       "      <th>Age</th>\n",
       "      <th>Workclass</th>\n",
       "      <th>Education-Num</th>\n",
       "      <th>Marital Status</th>\n",
       "      <th>...</th>\n",
       "      <th>Capital Gain</th>\n",
       "      <th>Capital Loss</th>\n",
       "      <th>Hours per week</th>\n",
       "      <th>Country</th>\n",
       "    </tr>\n",
       "  </thead>\n",
       "  <tbody>\n",
       "    <tr>\n",
       "      <th>0</th>\n",
       "      <td>39.0</td>\n",
       "      <td>State-gov</td>\n",
       "      <td>13.0</td>\n",
       "      <td>Never-married</td>\n",
       "      <td>...</td>\n",
       "      <td>2174.0</td>\n",
       "      <td>0.0</td>\n",
       "      <td>40.0</td>\n",
       "      <td>United-States</td>\n",
       "    </tr>\n",
       "    <tr>\n",
       "      <th>1</th>\n",
       "      <td>50.0</td>\n",
       "      <td>Self-emp-not-inc</td>\n",
       "      <td>13.0</td>\n",
       "      <td>Married-civ-spouse</td>\n",
       "      <td>...</td>\n",
       "      <td>0.0</td>\n",
       "      <td>0.0</td>\n",
       "      <td>13.0</td>\n",
       "      <td>United-States</td>\n",
       "    </tr>\n",
       "    <tr>\n",
       "      <th>2</th>\n",
       "      <td>38.0</td>\n",
       "      <td>Private</td>\n",
       "      <td>9.0</td>\n",
       "      <td>Divorced</td>\n",
       "      <td>...</td>\n",
       "      <td>0.0</td>\n",
       "      <td>0.0</td>\n",
       "      <td>40.0</td>\n",
       "      <td>United-States</td>\n",
       "    </tr>\n",
       "    <tr>\n",
       "      <th>3</th>\n",
       "      <td>53.0</td>\n",
       "      <td>Private</td>\n",
       "      <td>7.0</td>\n",
       "      <td>Married-civ-spouse</td>\n",
       "      <td>...</td>\n",
       "      <td>0.0</td>\n",
       "      <td>0.0</td>\n",
       "      <td>40.0</td>\n",
       "      <td>United-States</td>\n",
       "    </tr>\n",
       "    <tr>\n",
       "      <th>4</th>\n",
       "      <td>28.0</td>\n",
       "      <td>Private</td>\n",
       "      <td>13.0</td>\n",
       "      <td>Married-civ-spouse</td>\n",
       "      <td>...</td>\n",
       "      <td>0.0</td>\n",
       "      <td>0.0</td>\n",
       "      <td>40.0</td>\n",
       "      <td>Cuba</td>\n",
       "    </tr>\n",
       "    <tr>\n",
       "      <th>...</th>\n",
       "      <td>...</td>\n",
       "      <td>...</td>\n",
       "      <td>...</td>\n",
       "      <td>...</td>\n",
       "      <td>...</td>\n",
       "      <td>...</td>\n",
       "      <td>...</td>\n",
       "      <td>...</td>\n",
       "      <td>...</td>\n",
       "    </tr>\n",
       "    <tr>\n",
       "      <th>32556</th>\n",
       "      <td>27.0</td>\n",
       "      <td>Private</td>\n",
       "      <td>12.0</td>\n",
       "      <td>Married-civ-spouse</td>\n",
       "      <td>...</td>\n",
       "      <td>0.0</td>\n",
       "      <td>0.0</td>\n",
       "      <td>38.0</td>\n",
       "      <td>United-States</td>\n",
       "    </tr>\n",
       "    <tr>\n",
       "      <th>32557</th>\n",
       "      <td>40.0</td>\n",
       "      <td>Private</td>\n",
       "      <td>9.0</td>\n",
       "      <td>Married-civ-spouse</td>\n",
       "      <td>...</td>\n",
       "      <td>0.0</td>\n",
       "      <td>0.0</td>\n",
       "      <td>40.0</td>\n",
       "      <td>United-States</td>\n",
       "    </tr>\n",
       "    <tr>\n",
       "      <th>32558</th>\n",
       "      <td>58.0</td>\n",
       "      <td>Private</td>\n",
       "      <td>9.0</td>\n",
       "      <td>Widowed</td>\n",
       "      <td>...</td>\n",
       "      <td>0.0</td>\n",
       "      <td>0.0</td>\n",
       "      <td>40.0</td>\n",
       "      <td>United-States</td>\n",
       "    </tr>\n",
       "    <tr>\n",
       "      <th>32559</th>\n",
       "      <td>22.0</td>\n",
       "      <td>Private</td>\n",
       "      <td>9.0</td>\n",
       "      <td>Never-married</td>\n",
       "      <td>...</td>\n",
       "      <td>0.0</td>\n",
       "      <td>0.0</td>\n",
       "      <td>20.0</td>\n",
       "      <td>United-States</td>\n",
       "    </tr>\n",
       "    <tr>\n",
       "      <th>32560</th>\n",
       "      <td>52.0</td>\n",
       "      <td>Self-emp-inc</td>\n",
       "      <td>9.0</td>\n",
       "      <td>Married-civ-spouse</td>\n",
       "      <td>...</td>\n",
       "      <td>15024.0</td>\n",
       "      <td>0.0</td>\n",
       "      <td>40.0</td>\n",
       "      <td>United-States</td>\n",
       "    </tr>\n",
       "  </tbody>\n",
       "</table>\n",
       "<p>32561 rows × 12 columns</p>\n",
       "</div>"
      ],
      "text/plain": [
       "        Age          Workclass  Education-Num       Marital Status  ...  \\\n",
       "0      39.0          State-gov           13.0        Never-married  ...   \n",
       "1      50.0   Self-emp-not-inc           13.0   Married-civ-spouse  ...   \n",
       "2      38.0            Private            9.0             Divorced  ...   \n",
       "3      53.0            Private            7.0   Married-civ-spouse  ...   \n",
       "4      28.0            Private           13.0   Married-civ-spouse  ...   \n",
       "...     ...                ...            ...                  ...  ...   \n",
       "32556  27.0            Private           12.0   Married-civ-spouse  ...   \n",
       "32557  40.0            Private            9.0   Married-civ-spouse  ...   \n",
       "32558  58.0            Private            9.0              Widowed  ...   \n",
       "32559  22.0            Private            9.0        Never-married  ...   \n",
       "32560  52.0       Self-emp-inc            9.0   Married-civ-spouse  ...   \n",
       "\n",
       "      Capital Gain Capital Loss Hours per week         Country  \n",
       "0           2174.0          0.0           40.0   United-States  \n",
       "1              0.0          0.0           13.0   United-States  \n",
       "2              0.0          0.0           40.0   United-States  \n",
       "3              0.0          0.0           40.0   United-States  \n",
       "4              0.0          0.0           40.0            Cuba  \n",
       "...            ...          ...            ...             ...  \n",
       "32556          0.0          0.0           38.0   United-States  \n",
       "32557          0.0          0.0           40.0   United-States  \n",
       "32558          0.0          0.0           40.0   United-States  \n",
       "32559          0.0          0.0           20.0   United-States  \n",
       "32560      15024.0          0.0           40.0   United-States  \n",
       "\n",
       "[32561 rows x 12 columns]"
      ]
     },
     "execution_count": 139,
     "metadata": {},
     "output_type": "execute_result"
    }
   ],
   "source": [
    "X_display"
   ]
  },
  {
   "cell_type": "code",
   "execution_count": 140,
   "id": "b6e44a1a",
   "metadata": {},
   "outputs": [
    {
     "data": {
      "text/plain": [
       "array([False, False, False, ..., False, False,  True])"
      ]
     },
     "execution_count": 140,
     "metadata": {},
     "output_type": "execute_result"
    }
   ],
   "source": [
    "y_display"
   ]
  },
  {
   "cell_type": "code",
   "execution_count": null,
   "id": "16258012",
   "metadata": {},
   "outputs": [],
   "source": []
  }
 ],
 "metadata": {
  "environment": {
   "kernel": "python3",
   "name": "tf2-cpu.2-11.m119",
   "type": "gcloud",
   "uri": "us-docker.pkg.dev/deeplearning-platform-release/gcr.io/tf2-cpu.2-11:m119"
  },
  "kernelspec": {
   "display_name": "Python 3 (Local)",
   "language": "python",
   "name": "python3"
  },
  "language_info": {
   "codemirror_mode": {
    "name": "ipython",
    "version": 3
   },
   "file_extension": ".py",
   "mimetype": "text/x-python",
   "name": "python",
   "nbconvert_exporter": "python",
   "pygments_lexer": "ipython3",
   "version": "3.8.19"
  }
 },
 "nbformat": 4,
 "nbformat_minor": 5
}
