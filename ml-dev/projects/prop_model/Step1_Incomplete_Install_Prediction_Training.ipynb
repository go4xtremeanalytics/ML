{
 "cells": [
  {
   "cell_type": "markdown",
   "id": "7062e484-defb-4668-b0f7-2a769cabf9fb",
   "metadata": {},
   "source": [
    "# Incomplete Installation Prediction: Model Training"
   ]
  },
  {
   "cell_type": "markdown",
   "id": "25485852-f001-4187-ac21-54505096486e",
   "metadata": {},
   "source": [
    "**Package Versions Required** \\\n",
    "`numpy` v. 1.18.5 \\\n",
    "`pandas` v. 1.1.1 \\\n",
    "`seaborn` v. 0.10.1\n",
    "\n",
    "`google-cloud-bigquery` v. 1.26.1 \\\n",
    "`google-auth`: 1.21.1 \\\n",
    "`google-cloud-bigquery-storage`: 1.0.0 \\\n",
    "`google-cloud-storage`: 1.30.0 \\\n",
    "`google-cloud-core`: 1.3.0 \\\n",
    "`google-api-core`: 1.22.2 \\\n",
    "`google-resumable-media`: 0.7.1 \\\n",
    "`google-auth-oauthlib`: 0.4.1\n",
    "\n",
    "`scikit-learn` v. 0.23.2 \\\n",
    "`xgboost`: 1.6.1 \\\n",
    "`mlxtend`: 0.19.0"
   ]
  },
  {
   "cell_type": "code",
   "execution_count": 8,
   "id": "f0ee2c43",
   "metadata": {},
   "outputs": [
    {
     "name": "stdout",
     "output_type": "stream",
     "text": [
      "Requirement already satisfied: category_encoders in d:\\xtremeanalytics\\github_ml\\venv\\lib\\site-packages (2.6.3)Note: you may need to restart the kernel to use updated packages.\n"
     ]
    },
    {
     "name": "stderr",
     "output_type": "stream",
     "text": [
      "\n",
      "[notice] A new release of pip is available: 23.0.1 -> 24.2\n",
      "[notice] To update, run: python.exe -m pip install --upgrade pip\n"
     ]
    },
    {
     "name": "stdout",
     "output_type": "stream",
     "text": [
      "\n",
      "Requirement already satisfied: scikit-learn>=0.20.0 in d:\\xtremeanalytics\\github_ml\\venv\\lib\\site-packages (from category_encoders) (1.3.2)\n",
      "Requirement already satisfied: numpy>=1.14.0 in d:\\xtremeanalytics\\github_ml\\venv\\lib\\site-packages (from category_encoders) (1.24.4)\n",
      "Requirement already satisfied: patsy>=0.5.1 in d:\\xtremeanalytics\\github_ml\\venv\\lib\\site-packages (from category_encoders) (0.5.6)\n",
      "Requirement already satisfied: importlib-resources in d:\\xtremeanalytics\\github_ml\\venv\\lib\\site-packages (from category_encoders) (6.4.4)\n",
      "Requirement already satisfied: pandas>=1.0.5 in d:\\xtremeanalytics\\github_ml\\venv\\lib\\site-packages (from category_encoders) (2.0.3)\n",
      "Requirement already satisfied: scipy>=1.0.0 in d:\\xtremeanalytics\\github_ml\\venv\\lib\\site-packages (from category_encoders) (1.10.1)\n",
      "Requirement already satisfied: statsmodels>=0.9.0 in d:\\xtremeanalytics\\github_ml\\venv\\lib\\site-packages (from category_encoders) (0.14.1)\n",
      "Requirement already satisfied: tzdata>=2022.1 in d:\\xtremeanalytics\\github_ml\\venv\\lib\\site-packages (from pandas>=1.0.5->category_encoders) (2024.1)\n",
      "Requirement already satisfied: python-dateutil>=2.8.2 in d:\\xtremeanalytics\\github_ml\\venv\\lib\\site-packages (from pandas>=1.0.5->category_encoders) (2.9.0.post0)\n",
      "Requirement already satisfied: pytz>=2020.1 in d:\\xtremeanalytics\\github_ml\\venv\\lib\\site-packages (from pandas>=1.0.5->category_encoders) (2024.1)\n",
      "Requirement already satisfied: six in d:\\xtremeanalytics\\github_ml\\venv\\lib\\site-packages (from patsy>=0.5.1->category_encoders) (1.16.0)\n",
      "Requirement already satisfied: threadpoolctl>=2.0.0 in d:\\xtremeanalytics\\github_ml\\venv\\lib\\site-packages (from scikit-learn>=0.20.0->category_encoders) (3.5.0)\n",
      "Requirement already satisfied: joblib>=1.1.1 in d:\\xtremeanalytics\\github_ml\\venv\\lib\\site-packages (from scikit-learn>=0.20.0->category_encoders) (1.4.2)\n",
      "Requirement already satisfied: packaging>=21.3 in d:\\xtremeanalytics\\github_ml\\venv\\lib\\site-packages (from statsmodels>=0.9.0->category_encoders) (23.2)\n",
      "Requirement already satisfied: zipp>=3.1.0 in d:\\xtremeanalytics\\github_ml\\venv\\lib\\site-packages (from importlib-resources->category_encoders) (3.20.0)\n"
     ]
    }
   ],
   "source": [
    "pip install category_encoders"
   ]
  },
  {
   "cell_type": "code",
   "execution_count": 95,
   "id": "0a528c17-065d-4d6c-9165-c05db58484c3",
   "metadata": {
    "tags": []
   },
   "outputs": [],
   "source": [
    "# import all the required dependecnies and modules\n",
    "\n",
    "from sklearn.pipeline import Pipeline, make_pipeline, FeatureUnion\n",
    "import pandas as pd\n",
    "pd.options.mode.chained_assignment = None  # default='warn'\n",
    "import numpy as np\n",
    "import matplotlib\n",
    "%matplotlib inline\n",
    "import seaborn as sns\n",
    "import matplotlib.pyplot as plt\n",
    "#sns.set_theme(style=\"whitegrid\")\n",
    "from sklearn.preprocessing import OneHotEncoder\n",
    "from sklearn.preprocessing import MinMaxScaler\n",
    "from sklearn.model_selection import train_test_split\n",
    "import time\n",
    "import pickle\n",
    "from google.cloud import bigquery\n",
    "from google.oauth2 import service_account\n",
    "# from google.cloud import bigquery_storage_v1\n",
    "import string\n",
    "import xgboost as xgb\n",
    "import importlib\n",
    "import utility as pp\n",
    "import category_encoders as ce\n",
    "import warnings\n",
    "warnings.filterwarnings(\"ignore\")"
   ]
  },
  {
   "cell_type": "markdown",
   "id": "fbf4fd27-3f51-4022-a937-5570d1357dba",
   "metadata": {},
   "source": [
    "## Read the training data for specific month from BQ"
   ]
  },
  {
   "cell_type": "code",
   "execution_count": 10,
   "id": "931b2115",
   "metadata": {},
   "outputs": [],
   "source": [
    "import os\n",
    "os.environ['gcp_service_account'] = 'ascendant-epoch-432900-m8-e97fb3b60497.json'"
   ]
  },
  {
   "cell_type": "code",
   "execution_count": 11,
   "id": "a3d5d1e1",
   "metadata": {},
   "outputs": [],
   "source": [
    "import json\n",
    "# service_account_info = json.loads('ascendant-epoch-432900-m8-e97fb3b60497.json')\n",
    "\n",
    "with open('ascendant-epoch-432900-m8-e97fb3b60497.json', 'r') as f:\n",
    "        service_account_info = json.load(f)\n",
    "credentials = service_account.Credentials.from_service_account_info(\n",
    "    service_account_info\n",
    ")\n",
    "client = bigquery.Client(credentials=credentials)"
   ]
  },
  {
   "cell_type": "code",
   "execution_count": 12,
   "id": "434cd6f1-ab96-40c9-9780-b3710c86fc1f",
   "metadata": {
    "tags": []
   },
   "outputs": [],
   "source": [
    "project_id = \"ascendant-epoch-432900-m8\"\n",
    "dataset_id = \"prop_model\"\n",
    "table_id = \"churn_train\""
   ]
  },
  {
   "cell_type": "code",
   "execution_count": 13,
   "id": "2146d3c6",
   "metadata": {},
   "outputs": [
    {
     "name": "stdout",
     "output_type": "stream",
     "text": [
      "DataFrame shape: (7043, 21)\n",
      "   customerID  gender  SeniorCitizen  Partner  Dependents  tenure  \\\n",
      "0  9732-OUYRN  Female              0     True       False      49   \n",
      "1  0661-KQHNK  Female              0     True        True       6   \n",
      "2  4709-LKHYG  Female              0     True        True      29   \n",
      "3  9824-QCJPK    Male              0     True       False      36   \n",
      "4  4716-MRVEN  Female              0    False       False      29   \n",
      "\n",
      "   PhoneService MultipleLines InternetService       OnlineSecurity  ...  \\\n",
      "0          True            No              No  No internet service  ...   \n",
      "1          True            No              No  No internet service  ...   \n",
      "2          True            No              No  No internet service  ...   \n",
      "3          True            No              No  No internet service  ...   \n",
      "4          True            No              No  No internet service  ...   \n",
      "\n",
      "      DeviceProtection          TechSupport          StreamingTV  \\\n",
      "0  No internet service  No internet service  No internet service   \n",
      "1  No internet service  No internet service  No internet service   \n",
      "2  No internet service  No internet service  No internet service   \n",
      "3  No internet service  No internet service  No internet service   \n",
      "4  No internet service  No internet service  No internet service   \n",
      "\n",
      "       StreamingMovies  Contract PaperlessBilling            PaymentMethod  \\\n",
      "0  No internet service  One year            False  Credit card (automatic)   \n",
      "1  No internet service  One year            False  Credit card (automatic)   \n",
      "2  No internet service  One year            False         Electronic check   \n",
      "3  No internet service  One year            False             Mailed check   \n",
      "4  No internet service  One year            False             Mailed check   \n",
      "\n",
      "  MonthlyCharges  TotalCharges  Churn  \n",
      "0           19.0         918.7  False  \n",
      "1           19.0         105.5  False  \n",
      "2           20.0        540.05  False  \n",
      "3           20.0        666.75  False  \n",
      "4           20.0         599.3  False  \n",
      "\n",
      "[5 rows x 21 columns]\n"
     ]
    }
   ],
   "source": [
    "from google.cloud import bigquery\n",
    "import pandas as pd\n",
    "\n",
    "# Set your project ID\n",
    "project_id = \"ascendant-epoch-432900-m8\"\n",
    "\n",
    "# Initialize the BigQuery client\n",
    "# client = bigquery.Client(project=project_id)\n",
    "\n",
    "# Define your query\n",
    "query = \"\"\"\n",
    "    SELECT\n",
    "      *\n",
    "    FROM\n",
    "      `ascendant-epoch-432900-m8.prop_model.churn_train`\n",
    "    \n",
    "\"\"\"\n",
    "\n",
    "# Run the query\n",
    "query_job = client.query(query)\n",
    "\n",
    "# Fetch the results as a pandas DataFrame\n",
    "df = query_job.to_dataframe()\n",
    "\n",
    "# Print the shape of the DataFrame\n",
    "print(f\"DataFrame shape: {df.shape}\")\n",
    "\n",
    "# Display the first few rows\n",
    "print(df.head())"
   ]
  },
  {
   "cell_type": "code",
   "execution_count": 14,
   "id": "0214c40c",
   "metadata": {},
   "outputs": [
    {
     "name": "stdout",
     "output_type": "stream",
     "text": [
      "(7043, 21)\n"
     ]
    }
   ],
   "source": [
    "print(df.shape)"
   ]
  },
  {
   "cell_type": "code",
   "execution_count": 117,
   "id": "1dde02a9",
   "metadata": {},
   "outputs": [
    {
     "name": "stdout",
     "output_type": "stream",
     "text": [
      "Index(['customerID', 'gender', 'SeniorCitizen', 'Partner', 'Dependents',\n",
      "       'tenure', 'PhoneService', 'MultipleLines', 'InternetService',\n",
      "       'OnlineSecurity', 'OnlineBackup', 'DeviceProtection', 'TechSupport',\n",
      "       'StreamingTV', 'StreamingMovies', 'Contract', 'PaperlessBilling',\n",
      "       'PaymentMethod', 'MonthlyCharges', 'TotalCharges', 'Churn'],\n",
      "      dtype='object')\n"
     ]
    }
   ],
   "source": [
    "print(df.columns)"
   ]
  },
  {
   "cell_type": "code",
   "execution_count": 118,
   "id": "d2af8901-782c-4a75-9ca5-f9591be31f8d",
   "metadata": {
    "tags": []
   },
   "outputs": [],
   "source": [
    "raw_data_res = df.copy()"
   ]
  },
  {
   "cell_type": "code",
   "execution_count": 119,
   "id": "0853e882",
   "metadata": {},
   "outputs": [],
   "source": [
    "raw_data_res['Churn'] = raw_data_res['Churn'].astype(int)"
   ]
  },
  {
   "cell_type": "markdown",
   "id": "3b6ce17c",
   "metadata": {},
   "source": [
    "## Defining X and y Columns for Modeling"
   ]
  },
  {
   "cell_type": "code",
   "execution_count": 120,
   "id": "cedb5ffb-d390-4565-a43e-969a6e8893d0",
   "metadata": {
    "tags": []
   },
   "outputs": [
    {
     "name": "stdout",
     "output_type": "stream",
     "text": [
      "Total customers:  7043\n",
      "churners:  1869\n",
      "churn rate rate %:  26.54\n"
     ]
    }
   ],
   "source": [
    "print('Total customers: ', raw_data_res.shape[0])\n",
    "print('churners: ',raw_data_res['Churn'].sum())\n",
    "print('churn rate rate %: ', round(raw_data_res[\"Churn\"].value_counts(normalize = True)[1] * 100,2))"
   ]
  },
  {
   "cell_type": "code",
   "execution_count": 121,
   "id": "a478ec27-4071-49a0-936a-f11ac2c0d8cc",
   "metadata": {
    "tags": []
   },
   "outputs": [
    {
     "data": {
      "text/plain": [
       "Churn\n",
       "0    5174\n",
       "1    1869\n",
       "Name: count, dtype: int64"
      ]
     },
     "execution_count": 121,
     "metadata": {},
     "output_type": "execute_result"
    }
   ],
   "source": [
    "raw_data_res['Churn'].value_counts()"
   ]
  },
  {
   "cell_type": "code",
   "execution_count": 122,
   "id": "2a2689de",
   "metadata": {},
   "outputs": [
    {
     "data": {
      "text/plain": [
       "Churn\n",
       "0    0.73463\n",
       "1    0.26537\n",
       "Name: proportion, dtype: float64"
      ]
     },
     "execution_count": 122,
     "metadata": {},
     "output_type": "execute_result"
    }
   ],
   "source": [
    "raw_data_res['Churn'].value_counts(normalize = True)"
   ]
  },
  {
   "cell_type": "code",
   "execution_count": 123,
   "id": "4e155001",
   "metadata": {},
   "outputs": [
    {
     "data": {
      "text/plain": [
       "(7043, 21)"
      ]
     },
     "execution_count": 123,
     "metadata": {},
     "output_type": "execute_result"
    }
   ],
   "source": [
    "raw_data_res.shape"
   ]
  },
  {
   "cell_type": "code",
   "execution_count": 124,
   "id": "8cdbcfda",
   "metadata": {},
   "outputs": [],
   "source": [
    "import pandas as pd\n",
    "\n",
    "# Assuming 'df' is your DataFrame and 'column_name' is the problematic column\n",
    "raw_data_res['TotalCharges'] = pd.to_numeric(raw_data_res['TotalCharges'], errors='coerce')\n",
    "import numpy as np\n",
    "\n",
    "raw_data_res['TotalCharges'] = raw_data_res['TotalCharges'].replace('', np.nan)\n",
    "raw_data_res['TotalCharges'] = raw_data_res['TotalCharges'].astype(float)"
   ]
  },
  {
   "cell_type": "code",
   "execution_count": 125,
   "id": "72217576",
   "metadata": {},
   "outputs": [],
   "source": [
    "not_use = ['customerID', 'Churn']\n",
    "id = ['customerID']\n",
    "target = ['Churn']"
   ]
  },
  {
   "cell_type": "code",
   "execution_count": 126,
   "id": "fec93422",
   "metadata": {},
   "outputs": [],
   "source": [
    "cat_col = []\n",
    "num_col = []\n",
    "\n",
    "for col in raw_data_res.columns:\n",
    "    if raw_data_res[col].dtypes == 'object':\n",
    "        cat_col.append(col)\n",
    "    elif col not in target:\n",
    "        num_col.append(col)"
   ]
  },
  {
   "cell_type": "code",
   "execution_count": 128,
   "id": "5e8f2077",
   "metadata": {},
   "outputs": [
    {
     "name": "stdout",
     "output_type": "stream",
     "text": [
      "total cat cols:  12\n",
      "total num cols:  8\n"
     ]
    }
   ],
   "source": [
    "print(\"total cat cols: \", len(cat_col))\n",
    "print(\"total num cols: \", len(num_col))"
   ]
  },
  {
   "cell_type": "code",
   "execution_count": 129,
   "id": "26826d09",
   "metadata": {},
   "outputs": [
    {
     "name": "stdout",
     "output_type": "stream",
     "text": [
      "Column: gender\n",
      "Number of unique values: 2\n",
      "Unique values: ['Female' 'Male']\n",
      "Value counts:\n",
      "gender\n",
      "Male      3555\n",
      "Female    3488\n",
      "Name: count, dtype: int64\n",
      "Value counts normalized:\n",
      "gender\n",
      "Male      0.504756\n",
      "Female    0.495244\n",
      "Name: proportion, dtype: float64\n",
      "--------------------------------------------------\n",
      "Column: MultipleLines\n",
      "Number of unique values: 3\n",
      "Unique values: ['No' 'Yes' 'No phone service']\n",
      "Value counts:\n",
      "MultipleLines\n",
      "No                  3390\n",
      "Yes                 2971\n",
      "No phone service     682\n",
      "Name: count, dtype: int64\n",
      "Value counts normalized:\n",
      "MultipleLines\n",
      "No                  0.481329\n",
      "Yes                 0.421837\n",
      "No phone service    0.096834\n",
      "Name: proportion, dtype: float64\n",
      "--------------------------------------------------\n",
      "Column: InternetService\n",
      "Number of unique values: 3\n",
      "Unique values: ['No' 'DSL' 'Fiber optic']\n",
      "Value counts:\n",
      "InternetService\n",
      "Fiber optic    3096\n",
      "DSL            2421\n",
      "No             1526\n",
      "Name: count, dtype: int64\n",
      "Value counts normalized:\n",
      "InternetService\n",
      "Fiber optic    0.439585\n",
      "DSL            0.343746\n",
      "No             0.216669\n",
      "Name: proportion, dtype: float64\n",
      "--------------------------------------------------\n",
      "Column: OnlineSecurity\n",
      "Number of unique values: 3\n",
      "Unique values: ['No internet service' 'No' 'Yes']\n",
      "Value counts:\n",
      "OnlineSecurity\n",
      "No                     3498\n",
      "Yes                    2019\n",
      "No internet service    1526\n",
      "Name: count, dtype: int64\n",
      "Value counts normalized:\n",
      "OnlineSecurity\n",
      "No                     0.496663\n",
      "Yes                    0.286668\n",
      "No internet service    0.216669\n",
      "Name: proportion, dtype: float64\n",
      "--------------------------------------------------\n",
      "Column: OnlineBackup\n",
      "Number of unique values: 3\n",
      "Unique values: ['No internet service' 'Yes' 'No']\n",
      "Value counts:\n",
      "OnlineBackup\n",
      "No                     3088\n",
      "Yes                    2429\n",
      "No internet service    1526\n",
      "Name: count, dtype: int64\n",
      "Value counts normalized:\n",
      "OnlineBackup\n",
      "No                     0.438450\n",
      "Yes                    0.344881\n",
      "No internet service    0.216669\n",
      "Name: proportion, dtype: float64\n",
      "--------------------------------------------------\n",
      "Column: DeviceProtection\n",
      "Number of unique values: 3\n",
      "Unique values: ['No internet service' 'No' 'Yes']\n",
      "Value counts:\n",
      "DeviceProtection\n",
      "No                     3095\n",
      "Yes                    2422\n",
      "No internet service    1526\n",
      "Name: count, dtype: int64\n",
      "Value counts normalized:\n",
      "DeviceProtection\n",
      "No                     0.439443\n",
      "Yes                    0.343888\n",
      "No internet service    0.216669\n",
      "Name: proportion, dtype: float64\n",
      "--------------------------------------------------\n",
      "Column: TechSupport\n",
      "Number of unique values: 3\n",
      "Unique values: ['No internet service' 'Yes' 'No']\n",
      "Value counts:\n",
      "TechSupport\n",
      "No                     3473\n",
      "Yes                    2044\n",
      "No internet service    1526\n",
      "Name: count, dtype: int64\n",
      "Value counts normalized:\n",
      "TechSupport\n",
      "No                     0.493114\n",
      "Yes                    0.290217\n",
      "No internet service    0.216669\n",
      "Name: proportion, dtype: float64\n",
      "--------------------------------------------------\n",
      "Column: StreamingTV\n",
      "Number of unique values: 3\n",
      "Unique values: ['No internet service' 'No' 'Yes']\n",
      "Value counts:\n",
      "StreamingTV\n",
      "No                     2810\n",
      "Yes                    2707\n",
      "No internet service    1526\n",
      "Name: count, dtype: int64\n",
      "Value counts normalized:\n",
      "StreamingTV\n",
      "No                     0.398978\n",
      "Yes                    0.384353\n",
      "No internet service    0.216669\n",
      "Name: proportion, dtype: float64\n",
      "--------------------------------------------------\n",
      "Column: StreamingMovies\n",
      "Number of unique values: 3\n",
      "Unique values: ['No internet service' 'No' 'Yes']\n",
      "Value counts:\n",
      "StreamingMovies\n",
      "No                     2785\n",
      "Yes                    2732\n",
      "No internet service    1526\n",
      "Name: count, dtype: int64\n",
      "Value counts normalized:\n",
      "StreamingMovies\n",
      "No                     0.395428\n",
      "Yes                    0.387903\n",
      "No internet service    0.216669\n",
      "Name: proportion, dtype: float64\n",
      "--------------------------------------------------\n",
      "Column: Contract\n",
      "Number of unique values: 3\n",
      "Unique values: ['One year' 'Two year' 'Month-to-month']\n",
      "Value counts:\n",
      "Contract\n",
      "Month-to-month    3875\n",
      "Two year          1695\n",
      "One year          1473\n",
      "Name: count, dtype: int64\n",
      "Value counts normalized:\n",
      "Contract\n",
      "Month-to-month    0.550192\n",
      "Two year          0.240664\n",
      "One year          0.209144\n",
      "Name: proportion, dtype: float64\n",
      "--------------------------------------------------\n",
      "Column: PaymentMethod\n",
      "Number of unique values: 4\n",
      "Unique values: ['Credit card (automatic)' 'Electronic check' 'Mailed check'\n",
      " 'Bank transfer (automatic)']\n",
      "Value counts:\n",
      "PaymentMethod\n",
      "Electronic check             2365\n",
      "Mailed check                 1612\n",
      "Bank transfer (automatic)    1544\n",
      "Credit card (automatic)      1522\n",
      "Name: count, dtype: int64\n",
      "Value counts normalized:\n",
      "PaymentMethod\n",
      "Electronic check             0.335794\n",
      "Mailed check                 0.228880\n",
      "Bank transfer (automatic)    0.219225\n",
      "Credit card (automatic)      0.216101\n",
      "Name: proportion, dtype: float64\n",
      "--------------------------------------------------\n"
     ]
    }
   ],
   "source": [
    "for col in cat_col:\n",
    "    if (col not in not_use) and (col not in target):\n",
    "        unique_values = raw_data_res[col].unique()\n",
    "        print(f\"Column: {col}\")\n",
    "        print(f\"Number of unique values: {len(unique_values)}\")\n",
    "        print(f\"Unique values: {unique_values}\")\n",
    "        print(f\"Value counts:\\n{raw_data_res[col].value_counts()}\")\n",
    "        print(f\"Value counts normalized:\\n{raw_data_res[col].value_counts(normalize = True)}\")\n",
    "        print(\"-\" * 50)  # Separator for readability"
   ]
  },
  {
   "cell_type": "code",
   "execution_count": 130,
   "id": "5a44c72b",
   "metadata": {},
   "outputs": [
    {
     "data": {
      "text/plain": [
       "True"
      ]
     },
     "execution_count": 130,
     "metadata": {},
     "output_type": "execute_result"
    }
   ],
   "source": [
    "raw_data_res['TotalCharges'].isna().any()"
   ]
  },
  {
   "cell_type": "code",
   "execution_count": 131,
   "id": "6c636525",
   "metadata": {},
   "outputs": [],
   "source": [
    "all_col = cat_col + num_col"
   ]
  },
  {
   "cell_type": "code",
   "execution_count": 132,
   "id": "e065e9ba",
   "metadata": {},
   "outputs": [
    {
     "data": {
      "text/plain": [
       "['SeniorCitizen',\n",
       " 'Partner',\n",
       " 'Dependents',\n",
       " 'tenure',\n",
       " 'PhoneService',\n",
       " 'PaperlessBilling',\n",
       " 'MonthlyCharges',\n",
       " 'TotalCharges']"
      ]
     },
     "execution_count": 132,
     "metadata": {},
     "output_type": "execute_result"
    }
   ],
   "source": [
    "num_col"
   ]
  },
  {
   "cell_type": "markdown",
   "id": "b032dc68",
   "metadata": {},
   "source": [
    "## Preprocessing"
   ]
  },
  {
   "cell_type": "code",
   "execution_count": 133,
   "id": "21bd7151",
   "metadata": {},
   "outputs": [
    {
     "data": {
      "text/plain": [
       "(7043, 20)"
      ]
     },
     "execution_count": 133,
     "metadata": {},
     "output_type": "execute_result"
    }
   ],
   "source": [
    "raw_data_res_v1 = raw_data_res[all_col]\n",
    "raw_data_res_v1.shape"
   ]
  },
  {
   "cell_type": "code",
   "execution_count": 134,
   "id": "916213ee",
   "metadata": {},
   "outputs": [],
   "source": [
    "# Defining independent and target features\n",
    "X = raw_data_res_v1.copy()\n",
    "y = raw_data_res['Churn']"
   ]
  },
  {
   "cell_type": "code",
   "execution_count": 135,
   "id": "b659e9fc",
   "metadata": {},
   "outputs": [
    {
     "name": "stdout",
     "output_type": "stream",
     "text": [
      "**************************************************\n",
      "Pre-Processing: SimpleImputer\n",
      "**************************************************\n",
      "**************************************************\n",
      "Pre-Processing: SimpleImputer\n",
      "**************************************************\n",
      "**************************************************\n",
      "Feature Engineering: Remove_ConstantFeatures\n",
      "**************************************************\n",
      "- It will remove features with 1 unique value(s).\n",
      "\n",
      "[] []\n",
      "0 features with 1 or fewer unique value(s)\n",
      "(7043, 20)\n"
     ]
    },
    {
     "data": {
      "text/html": [
       "<div>\n",
       "<style scoped>\n",
       "    .dataframe tbody tr th:only-of-type {\n",
       "        vertical-align: middle;\n",
       "    }\n",
       "\n",
       "    .dataframe tbody tr th {\n",
       "        vertical-align: top;\n",
       "    }\n",
       "\n",
       "    .dataframe thead th {\n",
       "        text-align: right;\n",
       "    }\n",
       "</style>\n",
       "<table border=\"1\" class=\"dataframe\">\n",
       "  <thead>\n",
       "    <tr style=\"text-align: right;\">\n",
       "      <th></th>\n",
       "      <th>Contract</th>\n",
       "      <th>Dependents</th>\n",
       "      <th>DeviceProtection</th>\n",
       "      <th>InternetService</th>\n",
       "      <th>...</th>\n",
       "      <th>TotalCharges</th>\n",
       "      <th>customerID</th>\n",
       "      <th>gender</th>\n",
       "      <th>tenure</th>\n",
       "    </tr>\n",
       "  </thead>\n",
       "  <tbody>\n",
       "    <tr>\n",
       "      <th>0</th>\n",
       "      <td>One year</td>\n",
       "      <td>0</td>\n",
       "      <td>No internet service</td>\n",
       "      <td>No</td>\n",
       "      <td>...</td>\n",
       "      <td>918</td>\n",
       "      <td>9732-OUYRN</td>\n",
       "      <td>Female</td>\n",
       "      <td>49</td>\n",
       "    </tr>\n",
       "    <tr>\n",
       "      <th>1</th>\n",
       "      <td>One year</td>\n",
       "      <td>1</td>\n",
       "      <td>No internet service</td>\n",
       "      <td>No</td>\n",
       "      <td>...</td>\n",
       "      <td>105</td>\n",
       "      <td>0661-KQHNK</td>\n",
       "      <td>Female</td>\n",
       "      <td>6</td>\n",
       "    </tr>\n",
       "    <tr>\n",
       "      <th>2</th>\n",
       "      <td>One year</td>\n",
       "      <td>1</td>\n",
       "      <td>No internet service</td>\n",
       "      <td>No</td>\n",
       "      <td>...</td>\n",
       "      <td>540</td>\n",
       "      <td>4709-LKHYG</td>\n",
       "      <td>Female</td>\n",
       "      <td>29</td>\n",
       "    </tr>\n",
       "    <tr>\n",
       "      <th>3</th>\n",
       "      <td>One year</td>\n",
       "      <td>0</td>\n",
       "      <td>No internet service</td>\n",
       "      <td>No</td>\n",
       "      <td>...</td>\n",
       "      <td>666</td>\n",
       "      <td>9824-QCJPK</td>\n",
       "      <td>Male</td>\n",
       "      <td>36</td>\n",
       "    </tr>\n",
       "    <tr>\n",
       "      <th>4</th>\n",
       "      <td>One year</td>\n",
       "      <td>0</td>\n",
       "      <td>No internet service</td>\n",
       "      <td>No</td>\n",
       "      <td>...</td>\n",
       "      <td>599</td>\n",
       "      <td>4716-MRVEN</td>\n",
       "      <td>Female</td>\n",
       "      <td>29</td>\n",
       "    </tr>\n",
       "  </tbody>\n",
       "</table>\n",
       "<p>5 rows × 20 columns</p>\n",
       "</div>"
      ],
      "text/plain": [
       "   Contract  Dependents     DeviceProtection InternetService  ...  \\\n",
       "0  One year           0  No internet service              No  ...   \n",
       "1  One year           1  No internet service              No  ...   \n",
       "2  One year           1  No internet service              No  ...   \n",
       "3  One year           0  No internet service              No  ...   \n",
       "4  One year           0  No internet service              No  ...   \n",
       "\n",
       "   TotalCharges  customerID  gender tenure  \n",
       "0           918  9732-OUYRN  Female     49  \n",
       "1           105  0661-KQHNK  Female      6  \n",
       "2           540  4709-LKHYG  Female     29  \n",
       "3           666  9824-QCJPK    Male     36  \n",
       "4           599  4716-MRVEN  Female     29  \n",
       "\n",
       "[5 rows x 20 columns]"
      ]
     },
     "execution_count": 135,
     "metadata": {},
     "output_type": "execute_result"
    }
   ],
   "source": [
    "importlib.reload(pp)\n",
    "Pipe_PP = Pipeline([\n",
    "                    \n",
    "                    # Demo Data\n",
    "                    ('Imputation_demo_col', pp.SimpleImputer(features = cat_col, strategy='constant', missing_values=np.nan,fill_value= 'None')),\n",
    "                    \n",
    "                    # Comp and Sevices Col\n",
    "                    ('Imputation_comp_col', pp.SimpleImputer(features = num_col, strategy='constant', missing_values=np.nan,fill_value= 0)),\n",
    "#                     ('Imputation_comp_service_col', pp.SimpleImputer(features = comp_service_col, strategy='constant', missing_values=np.nan,fill_value= 'None')),\n",
    "                    \n",
    "#                     # other_col\n",
    "#                     ('Imputation_other_cat_col', pp.SimpleImputer(features = other_cat_col, strategy='constant', missing_values=np.nan,fill_value= 'None')),\n",
    "#                     ('Imputation_other_num_col', pp.SimpleImputer(features = other_num_col, strategy='constant', missing_values=np.nan,fill_value= 0)),\n",
    "                    \n",
    "                    \n",
    "#                     # All Columns \n",
    "#                     ('RareCategory', pp.RareCategoryEncoder(features_CAT_ = rare_col, category_min_pct=0.001, category_max_count=10)), #Droping levels that has very low proportion\n",
    "                    ('Constant1', pp.Remove_ConstantFeatures(unique_threshold=1, missing_threshold=0.00)), # \n",
    "                    # ('Num_Col_Covar', pp.Num_Col_Covar(X=X,  y = y, outcome_field = 'incomplete_flag'))\n",
    "                  ])\n",
    "# fit_transform()\n",
    "X_PP = Pipe_PP.fit_transform(X)\n",
    "print(X_PP.shape)\n",
    "X_PP.head()"
   ]
  },
  {
   "cell_type": "markdown",
   "id": "71efc243",
   "metadata": {},
   "source": [
    "## Feature Engineering"
   ]
  },
  {
   "cell_type": "code",
   "execution_count": 137,
   "id": "0927865b",
   "metadata": {},
   "outputs": [
    {
     "data": {
      "text/plain": [
       "Index(['Contract', 'Dependents', 'DeviceProtection', 'InternetService',\n",
       "       'MonthlyCharges', 'MultipleLines', 'OnlineBackup', 'OnlineSecurity',\n",
       "       'PaperlessBilling', 'Partner', 'PaymentMethod', 'PhoneService',\n",
       "       'SeniorCitizen', 'StreamingMovies', 'StreamingTV', 'TechSupport',\n",
       "       'TotalCharges', 'customerID', 'gender', 'tenure'],\n",
       "      dtype='object')"
      ]
     },
     "execution_count": 137,
     "metadata": {},
     "output_type": "execute_result"
    }
   ],
   "source": [
    "X_PP.columns"
   ]
  },
  {
   "cell_type": "code",
   "execution_count": 138,
   "id": "da8d1eda",
   "metadata": {},
   "outputs": [
    {
     "name": "stdout",
     "output_type": "stream",
     "text": [
      "**************************************************\n",
      "Feature Engineering: OHE Encoding for categorical features\n",
      "**************************************************\n",
      "Before OHE encoding: (7043, 20)\n",
      "(7043, 39)\n"
     ]
    },
    {
     "data": {
      "text/html": [
       "<div>\n",
       "<style scoped>\n",
       "    .dataframe tbody tr th:only-of-type {\n",
       "        vertical-align: middle;\n",
       "    }\n",
       "\n",
       "    .dataframe tbody tr th {\n",
       "        vertical-align: top;\n",
       "    }\n",
       "\n",
       "    .dataframe thead th {\n",
       "        text-align: right;\n",
       "    }\n",
       "</style>\n",
       "<table border=\"1\" class=\"dataframe\">\n",
       "  <thead>\n",
       "    <tr style=\"text-align: right;\">\n",
       "      <th></th>\n",
       "      <th>Dependents</th>\n",
       "      <th>MonthlyCharges</th>\n",
       "      <th>PaperlessBilling</th>\n",
       "      <th>Partner</th>\n",
       "      <th>...</th>\n",
       "      <th>customerID_9993-LHIEB</th>\n",
       "      <th>customerID_9995-HOTOH</th>\n",
       "      <th>customerID_infrequent_sklearn</th>\n",
       "      <th>gender_Male</th>\n",
       "    </tr>\n",
       "  </thead>\n",
       "  <tbody>\n",
       "    <tr>\n",
       "      <th>0</th>\n",
       "      <td>0</td>\n",
       "      <td>19</td>\n",
       "      <td>0</td>\n",
       "      <td>1</td>\n",
       "      <td>...</td>\n",
       "      <td>0.0</td>\n",
       "      <td>0.0</td>\n",
       "      <td>1.0</td>\n",
       "      <td>0.0</td>\n",
       "    </tr>\n",
       "    <tr>\n",
       "      <th>1</th>\n",
       "      <td>1</td>\n",
       "      <td>19</td>\n",
       "      <td>0</td>\n",
       "      <td>1</td>\n",
       "      <td>...</td>\n",
       "      <td>0.0</td>\n",
       "      <td>0.0</td>\n",
       "      <td>1.0</td>\n",
       "      <td>0.0</td>\n",
       "    </tr>\n",
       "    <tr>\n",
       "      <th>2</th>\n",
       "      <td>1</td>\n",
       "      <td>20</td>\n",
       "      <td>0</td>\n",
       "      <td>1</td>\n",
       "      <td>...</td>\n",
       "      <td>0.0</td>\n",
       "      <td>0.0</td>\n",
       "      <td>1.0</td>\n",
       "      <td>0.0</td>\n",
       "    </tr>\n",
       "    <tr>\n",
       "      <th>3</th>\n",
       "      <td>0</td>\n",
       "      <td>20</td>\n",
       "      <td>0</td>\n",
       "      <td>1</td>\n",
       "      <td>...</td>\n",
       "      <td>0.0</td>\n",
       "      <td>0.0</td>\n",
       "      <td>1.0</td>\n",
       "      <td>1.0</td>\n",
       "    </tr>\n",
       "    <tr>\n",
       "      <th>4</th>\n",
       "      <td>0</td>\n",
       "      <td>20</td>\n",
       "      <td>0</td>\n",
       "      <td>0</td>\n",
       "      <td>...</td>\n",
       "      <td>0.0</td>\n",
       "      <td>0.0</td>\n",
       "      <td>1.0</td>\n",
       "      <td>0.0</td>\n",
       "    </tr>\n",
       "  </tbody>\n",
       "</table>\n",
       "<p>5 rows × 39 columns</p>\n",
       "</div>"
      ],
      "text/plain": [
       "   Dependents  MonthlyCharges  PaperlessBilling  Partner  ...  \\\n",
       "0           0              19                 0        1  ...   \n",
       "1           1              19                 0        1  ...   \n",
       "2           1              20                 0        1  ...   \n",
       "3           0              20                 0        1  ...   \n",
       "4           0              20                 0        0  ...   \n",
       "\n",
       "   customerID_9993-LHIEB  customerID_9995-HOTOH  \\\n",
       "0                    0.0                    0.0   \n",
       "1                    0.0                    0.0   \n",
       "2                    0.0                    0.0   \n",
       "3                    0.0                    0.0   \n",
       "4                    0.0                    0.0   \n",
       "\n",
       "   customerID_infrequent_sklearn  gender_Male  \n",
       "0                            1.0          0.0  \n",
       "1                            1.0          0.0  \n",
       "2                            1.0          0.0  \n",
       "3                            1.0          1.0  \n",
       "4                            1.0          0.0  \n",
       "\n",
       "[5 rows x 39 columns]"
      ]
     },
     "execution_count": 138,
     "metadata": {},
     "output_type": "execute_result"
    }
   ],
   "source": [
    "import importlib\n",
    "importlib.reload(pp)\n",
    "Pipe_FE = Pipeline([\n",
    "                   # ('Num_Col_Covar', pp.Num_Col_Covar(X=X_PP,  y = y, outcome_field = 'incomplete_instal')),\n",
    "                   ('OHE_Encoding', pp.OHE_Encoding(X=X_PP, model_type = 'Train')),# Removing correlated Numerical Features\n",
    "                   # ('WOE_Encoding', pp.WOE_Encoding( y = y)), #Weight Of Evidence Encoding for all Cat Columns - may change this to PCA\n",
    "                   # ('Vif_Feature_Select', pp.Vif_Feature_Select(VIF_threshold = 3)), # Variance Inflation Factor for Feature Selection\n",
    "                   \n",
    "                  ])\n",
    "\n",
    "\n",
    "# fit_transform()\n",
    "X_FE = Pipe_FE.fit_transform(X_PP, y)\n",
    "print(X_FE.shape)\n",
    "X_FE.head()"
   ]
  },
  {
   "cell_type": "markdown",
   "id": "25f78418",
   "metadata": {},
   "source": [
    "## Test-Train Split"
   ]
  },
  {
   "cell_type": "code",
   "execution_count": 139,
   "id": "03691256",
   "metadata": {},
   "outputs": [
    {
     "data": {
      "text/plain": [
       "Index(['Dependents', 'MonthlyCharges', 'PaperlessBilling', 'Partner',\n",
       "       'PhoneService', 'SeniorCitizen', 'TotalCharges', 'tenure',\n",
       "       'Contract_One year', 'Contract_Two year',\n",
       "       'DeviceProtection_No internet service', 'DeviceProtection_Yes',\n",
       "       'InternetService_Fiber optic', 'InternetService_No',\n",
       "       'MultipleLines_No phone service', 'MultipleLines_Yes',\n",
       "       'OnlineBackup_No internet service', 'OnlineBackup_Yes',\n",
       "       'OnlineSecurity_No internet service', 'OnlineSecurity_Yes',\n",
       "       'PaymentMethod_Credit card (automatic)',\n",
       "       'PaymentMethod_Electronic check', 'PaymentMethod_Mailed check',\n",
       "       'StreamingMovies_No internet service', 'StreamingMovies_Yes',\n",
       "       'StreamingTV_No internet service', 'StreamingTV_Yes',\n",
       "       'TechSupport_No internet service', 'TechSupport_Yes',\n",
       "       'customerID_9979-RGMZT', 'customerID_9985-MWVIX',\n",
       "       'customerID_9986-BONCE', 'customerID_9987-LUTYD',\n",
       "       'customerID_9992-RRAMN', 'customerID_9992-UJOEL',\n",
       "       'customerID_9993-LHIEB', 'customerID_9995-HOTOH',\n",
       "       'customerID_infrequent_sklearn', 'gender_Male'],\n",
       "      dtype='object')"
      ]
     },
     "execution_count": 139,
     "metadata": {},
     "output_type": "execute_result"
    }
   ],
   "source": [
    "X_FE.columns"
   ]
  },
  {
   "cell_type": "code",
   "execution_count": 140,
   "id": "47f77f0c",
   "metadata": {},
   "outputs": [
    {
     "name": "stdout",
     "output_type": "stream",
     "text": [
      "X_train shape :  (5282, 39)\n",
      "y_train shape :  (5282,)\n",
      "X_test shape  :  (1761, 39)\n",
      "y_test shape  :  (1761,)\n",
      "Disconnects in y_test :  467\n"
     ]
    }
   ],
   "source": [
    "X_train, X_test, y_train, y_test = train_test_split(X_FE, y, test_size=0.25, stratify = y, random_state=24)\n",
    "\n",
    "print('X_train shape : ', X_train.shape)\n",
    "print('y_train shape : ', y_train.shape)\n",
    "\n",
    "print('X_test shape  : ', X_test.shape)\n",
    "print('y_test shape  : ', y_test.shape)\n",
    "\n",
    "print('Disconnects in y_test : ', y_test.sum())"
   ]
  },
  {
   "cell_type": "code",
   "execution_count": 141,
   "id": "654c7289-c646-4cfb-a1a8-4e19ceb4bf3b",
   "metadata": {
    "tags": []
   },
   "outputs": [],
   "source": [
    "# Converting all columns to float type, for compatibility with XGBoost\n",
    "for i in X_train:\n",
    "    X_train[i] = X_train[i].astype('float')\n",
    "for i in X_test:\n",
    "    X_test[i] = X_test[i].astype('float')\n",
    "# for i in X_PP_woe:\n",
    "#     X_PP_woe[i] = X_PP_woe[i].astype('float')"
   ]
  },
  {
   "cell_type": "markdown",
   "id": "00eeb29a-b468-476d-a690-a2c9611152ac",
   "metadata": {},
   "source": [
    "## XGBoost Feature Importance"
   ]
  },
  {
   "cell_type": "code",
   "execution_count": 142,
   "id": "b475637e-d303-44cc-85d1-1976e5f62864",
   "metadata": {
    "tags": []
   },
   "outputs": [
    {
     "data": {
      "text/plain": [
       "2.767475035663338"
      ]
     },
     "execution_count": 142,
     "metadata": {},
     "output_type": "execute_result"
    }
   ],
   "source": [
    "# Calculate the ratio of negative class to positive class\n",
    "ratio = float(y_train.value_counts()[0] / y_train.value_counts()[1])\n",
    "ratio"
   ]
  },
  {
   "cell_type": "code",
   "execution_count": 143,
   "id": "214bb733-be8d-4709-8706-9dcdf526087b",
   "metadata": {
    "tags": []
   },
   "outputs": [
    {
     "name": "stdout",
     "output_type": "stream",
     "text": [
      "**************************************************\n",
      "get best hyper parameters\n",
      "\n",
      "time_spend: 16.32535719871521\n"
     ]
    }
   ],
   "source": [
    "### get important fetures\n",
    "start=time.time()\n",
    "### get best hyper parameters\n",
    "best_model = pp.grid_search(X_train, y_train, cv =  3, ratio = ratio)\n",
    "end=time.time()\n",
    "print (\"time_spend: \"+str(end-start))"
   ]
  },
  {
   "cell_type": "code",
   "execution_count": 144,
   "id": "133c0278-7e9a-428d-bee2-4f300d6b9f38",
   "metadata": {
    "tags": []
   },
   "outputs": [
    {
     "data": {
      "image/png": "[encoded data removed]",
      "text/plain": [
       "<Figure size 1500x600 with 1 Axes>"
      ]
     },
     "metadata": {},
     "output_type": "display_data"
    }
   ],
   "source": [
    "feature_importances_df = pd.DataFrame()\n",
    "feature_importances_df['feature'] = X_train.columns\n",
    "feature_importances_df['Importance'] = best_model.feature_importances_\n",
    "feature_importances_df  = feature_importances_df.sort_values('Importance', ascending=False)\n",
    "feature_importances_df['ranking_importance'] = np.arange(1, feature_importances_df.shape[0]+1, 1)\n",
    "\n",
    "plt.figure(figsize = (15,6))\n",
    "sns.lineplot(data = feature_importances_df, x = 'ranking_importance', y = 'Importance')\n",
    "plt.show()"
   ]
  },
  {
   "cell_type": "code",
   "execution_count": 145,
   "id": "27c3f728-e02f-4c08-afdb-bff870c0ff47",
   "metadata": {
    "tags": []
   },
   "outputs": [
    {
     "data": {
      "text/html": [
       "<div>\n",
       "<style scoped>\n",
       "    .dataframe tbody tr th:only-of-type {\n",
       "        vertical-align: middle;\n",
       "    }\n",
       "\n",
       "    .dataframe tbody tr th {\n",
       "        vertical-align: top;\n",
       "    }\n",
       "\n",
       "    .dataframe thead th {\n",
       "        text-align: right;\n",
       "    }\n",
       "</style>\n",
       "<table border=\"1\" class=\"dataframe\">\n",
       "  <thead>\n",
       "    <tr style=\"text-align: right;\">\n",
       "      <th></th>\n",
       "      <th>feature</th>\n",
       "      <th>Importance</th>\n",
       "      <th>ranking_importance</th>\n",
       "    </tr>\n",
       "  </thead>\n",
       "  <tbody>\n",
       "    <tr>\n",
       "      <th>9</th>\n",
       "      <td>Contract_Two year</td>\n",
       "      <td>0.164966</td>\n",
       "      <td>1</td>\n",
       "    </tr>\n",
       "    <tr>\n",
       "      <th>16</th>\n",
       "      <td>OnlineBackup_No internet service</td>\n",
       "      <td>0.084112</td>\n",
       "      <td>2</td>\n",
       "    </tr>\n",
       "    <tr>\n",
       "      <th>12</th>\n",
       "      <td>InternetService_Fiber optic</td>\n",
       "      <td>0.078045</td>\n",
       "      <td>3</td>\n",
       "    </tr>\n",
       "    <tr>\n",
       "      <th>23</th>\n",
       "      <td>StreamingMovies_No internet service</td>\n",
       "      <td>0.070815</td>\n",
       "      <td>4</td>\n",
       "    </tr>\n",
       "    <tr>\n",
       "      <th>28</th>\n",
       "      <td>TechSupport_Yes</td>\n",
       "      <td>0.060244</td>\n",
       "      <td>5</td>\n",
       "    </tr>\n",
       "    <tr>\n",
       "      <th>7</th>\n",
       "      <td>tenure</td>\n",
       "      <td>0.056643</td>\n",
       "      <td>6</td>\n",
       "    </tr>\n",
       "    <tr>\n",
       "      <th>21</th>\n",
       "      <td>PaymentMethod_Electronic check</td>\n",
       "      <td>0.054687</td>\n",
       "      <td>7</td>\n",
       "    </tr>\n",
       "    <tr>\n",
       "      <th>10</th>\n",
       "      <td>DeviceProtection_No internet service</td>\n",
       "      <td>0.051689</td>\n",
       "      <td>8</td>\n",
       "    </tr>\n",
       "    <tr>\n",
       "      <th>13</th>\n",
       "      <td>InternetService_No</td>\n",
       "      <td>0.049344</td>\n",
       "      <td>9</td>\n",
       "    </tr>\n",
       "    <tr>\n",
       "      <th>8</th>\n",
       "      <td>Contract_One year</td>\n",
       "      <td>0.047957</td>\n",
       "      <td>10</td>\n",
       "    </tr>\n",
       "    <tr>\n",
       "      <th>18</th>\n",
       "      <td>OnlineSecurity_No internet service</td>\n",
       "      <td>0.039160</td>\n",
       "      <td>11</td>\n",
       "    </tr>\n",
       "    <tr>\n",
       "      <th>27</th>\n",
       "      <td>TechSupport_No internet service</td>\n",
       "      <td>0.038914</td>\n",
       "      <td>12</td>\n",
       "    </tr>\n",
       "    <tr>\n",
       "      <th>6</th>\n",
       "      <td>TotalCharges</td>\n",
       "      <td>0.032545</td>\n",
       "      <td>13</td>\n",
       "    </tr>\n",
       "    <tr>\n",
       "      <th>1</th>\n",
       "      <td>MonthlyCharges</td>\n",
       "      <td>0.024037</td>\n",
       "      <td>14</td>\n",
       "    </tr>\n",
       "    <tr>\n",
       "      <th>19</th>\n",
       "      <td>OnlineSecurity_Yes</td>\n",
       "      <td>0.020047</td>\n",
       "      <td>15</td>\n",
       "    </tr>\n",
       "    <tr>\n",
       "      <th>24</th>\n",
       "      <td>StreamingMovies_Yes</td>\n",
       "      <td>0.018216</td>\n",
       "      <td>16</td>\n",
       "    </tr>\n",
       "    <tr>\n",
       "      <th>2</th>\n",
       "      <td>PaperlessBilling</td>\n",
       "      <td>0.016180</td>\n",
       "      <td>17</td>\n",
       "    </tr>\n",
       "    <tr>\n",
       "      <th>17</th>\n",
       "      <td>OnlineBackup_Yes</td>\n",
       "      <td>0.015221</td>\n",
       "      <td>18</td>\n",
       "    </tr>\n",
       "    <tr>\n",
       "      <th>14</th>\n",
       "      <td>MultipleLines_No phone service</td>\n",
       "      <td>0.011315</td>\n",
       "      <td>19</td>\n",
       "    </tr>\n",
       "    <tr>\n",
       "      <th>5</th>\n",
       "      <td>SeniorCitizen</td>\n",
       "      <td>0.010877</td>\n",
       "      <td>20</td>\n",
       "    </tr>\n",
       "    <tr>\n",
       "      <th>0</th>\n",
       "      <td>Dependents</td>\n",
       "      <td>0.010744</td>\n",
       "      <td>21</td>\n",
       "    </tr>\n",
       "    <tr>\n",
       "      <th>20</th>\n",
       "      <td>PaymentMethod_Credit card (automatic)</td>\n",
       "      <td>0.009604</td>\n",
       "      <td>22</td>\n",
       "    </tr>\n",
       "    <tr>\n",
       "      <th>26</th>\n",
       "      <td>StreamingTV_Yes</td>\n",
       "      <td>0.008374</td>\n",
       "      <td>23</td>\n",
       "    </tr>\n",
       "    <tr>\n",
       "      <th>15</th>\n",
       "      <td>MultipleLines_Yes</td>\n",
       "      <td>0.006982</td>\n",
       "      <td>24</td>\n",
       "    </tr>\n",
       "    <tr>\n",
       "      <th>22</th>\n",
       "      <td>PaymentMethod_Mailed check</td>\n",
       "      <td>0.004456</td>\n",
       "      <td>25</td>\n",
       "    </tr>\n",
       "    <tr>\n",
       "      <th>3</th>\n",
       "      <td>Partner</td>\n",
       "      <td>0.003886</td>\n",
       "      <td>26</td>\n",
       "    </tr>\n",
       "    <tr>\n",
       "      <th>11</th>\n",
       "      <td>DeviceProtection_Yes</td>\n",
       "      <td>0.003504</td>\n",
       "      <td>27</td>\n",
       "    </tr>\n",
       "    <tr>\n",
       "      <th>4</th>\n",
       "      <td>PhoneService</td>\n",
       "      <td>0.003486</td>\n",
       "      <td>28</td>\n",
       "    </tr>\n",
       "    <tr>\n",
       "      <th>25</th>\n",
       "      <td>StreamingTV_No internet service</td>\n",
       "      <td>0.002180</td>\n",
       "      <td>29</td>\n",
       "    </tr>\n",
       "    <tr>\n",
       "      <th>38</th>\n",
       "      <td>gender_Male</td>\n",
       "      <td>0.001772</td>\n",
       "      <td>30</td>\n",
       "    </tr>\n",
       "    <tr>\n",
       "      <th>29</th>\n",
       "      <td>customerID_9979-RGMZT</td>\n",
       "      <td>0.000000</td>\n",
       "      <td>31</td>\n",
       "    </tr>\n",
       "    <tr>\n",
       "      <th>31</th>\n",
       "      <td>customerID_9986-BONCE</td>\n",
       "      <td>0.000000</td>\n",
       "      <td>32</td>\n",
       "    </tr>\n",
       "    <tr>\n",
       "      <th>32</th>\n",
       "      <td>customerID_9987-LUTYD</td>\n",
       "      <td>0.000000</td>\n",
       "      <td>33</td>\n",
       "    </tr>\n",
       "    <tr>\n",
       "      <th>33</th>\n",
       "      <td>customerID_9992-RRAMN</td>\n",
       "      <td>0.000000</td>\n",
       "      <td>34</td>\n",
       "    </tr>\n",
       "    <tr>\n",
       "      <th>34</th>\n",
       "      <td>customerID_9992-UJOEL</td>\n",
       "      <td>0.000000</td>\n",
       "      <td>35</td>\n",
       "    </tr>\n",
       "    <tr>\n",
       "      <th>35</th>\n",
       "      <td>customerID_9993-LHIEB</td>\n",
       "      <td>0.000000</td>\n",
       "      <td>36</td>\n",
       "    </tr>\n",
       "    <tr>\n",
       "      <th>36</th>\n",
       "      <td>customerID_9995-HOTOH</td>\n",
       "      <td>0.000000</td>\n",
       "      <td>37</td>\n",
       "    </tr>\n",
       "    <tr>\n",
       "      <th>37</th>\n",
       "      <td>customerID_infrequent_sklearn</td>\n",
       "      <td>0.000000</td>\n",
       "      <td>38</td>\n",
       "    </tr>\n",
       "    <tr>\n",
       "      <th>30</th>\n",
       "      <td>customerID_9985-MWVIX</td>\n",
       "      <td>0.000000</td>\n",
       "      <td>39</td>\n",
       "    </tr>\n",
       "  </tbody>\n",
       "</table>\n",
       "</div>"
      ],
      "text/plain": [
       "                                  feature  Importance  ranking_importance\n",
       "9                       Contract_Two year    0.164966                   1\n",
       "16       OnlineBackup_No internet service    0.084112                   2\n",
       "12            InternetService_Fiber optic    0.078045                   3\n",
       "23    StreamingMovies_No internet service    0.070815                   4\n",
       "28                        TechSupport_Yes    0.060244                   5\n",
       "7                                  tenure    0.056643                   6\n",
       "21         PaymentMethod_Electronic check    0.054687                   7\n",
       "10   DeviceProtection_No internet service    0.051689                   8\n",
       "13                     InternetService_No    0.049344                   9\n",
       "8                       Contract_One year    0.047957                  10\n",
       "18     OnlineSecurity_No internet service    0.039160                  11\n",
       "27        TechSupport_No internet service    0.038914                  12\n",
       "6                            TotalCharges    0.032545                  13\n",
       "1                          MonthlyCharges    0.024037                  14\n",
       "19                     OnlineSecurity_Yes    0.020047                  15\n",
       "24                    StreamingMovies_Yes    0.018216                  16\n",
       "2                        PaperlessBilling    0.016180                  17\n",
       "17                       OnlineBackup_Yes    0.015221                  18\n",
       "14         MultipleLines_No phone service    0.011315                  19\n",
       "5                           SeniorCitizen    0.010877                  20\n",
       "0                              Dependents    0.010744                  21\n",
       "20  PaymentMethod_Credit card (automatic)    0.009604                  22\n",
       "26                        StreamingTV_Yes    0.008374                  23\n",
       "15                      MultipleLines_Yes    0.006982                  24\n",
       "22             PaymentMethod_Mailed check    0.004456                  25\n",
       "3                                 Partner    0.003886                  26\n",
       "11                   DeviceProtection_Yes    0.003504                  27\n",
       "4                            PhoneService    0.003486                  28\n",
       "25        StreamingTV_No internet service    0.002180                  29\n",
       "38                            gender_Male    0.001772                  30\n",
       "29                  customerID_9979-RGMZT    0.000000                  31\n",
       "31                  customerID_9986-BONCE    0.000000                  32\n",
       "32                  customerID_9987-LUTYD    0.000000                  33\n",
       "33                  customerID_9992-RRAMN    0.000000                  34\n",
       "34                  customerID_9992-UJOEL    0.000000                  35\n",
       "35                  customerID_9993-LHIEB    0.000000                  36\n",
       "36                  customerID_9995-HOTOH    0.000000                  37\n",
       "37          customerID_infrequent_sklearn    0.000000                  38\n",
       "30                  customerID_9985-MWVIX    0.000000                  39"
      ]
     },
     "execution_count": 145,
     "metadata": {},
     "output_type": "execute_result"
    }
   ],
   "source": [
    "feature_importances_df"
   ]
  },
  {
   "cell_type": "code",
   "execution_count": 170,
   "id": "b2afa1f4-d3e4-4c74-88a9-aba3c80ffb63",
   "metadata": {
    "tags": []
   },
   "outputs": [
    {
     "name": "stdout",
     "output_type": "stream",
     "text": [
      "12 features at or below threshold of 80%\n"
     ]
    },
    {
     "data": {
      "text/html": [
       "<div>\n",
       "<style scoped>\n",
       "    .dataframe tbody tr th:only-of-type {\n",
       "        vertical-align: middle;\n",
       "    }\n",
       "\n",
       "    .dataframe tbody tr th {\n",
       "        vertical-align: top;\n",
       "    }\n",
       "\n",
       "    .dataframe thead th {\n",
       "        text-align: right;\n",
       "    }\n",
       "</style>\n",
       "<table border=\"1\" class=\"dataframe\">\n",
       "  <thead>\n",
       "    <tr style=\"text-align: right;\">\n",
       "      <th></th>\n",
       "      <th>feature</th>\n",
       "      <th>Importance</th>\n",
       "      <th>ranking_importance</th>\n",
       "      <th>Importance_cumsum</th>\n",
       "    </tr>\n",
       "  </thead>\n",
       "  <tbody>\n",
       "    <tr>\n",
       "      <th>9</th>\n",
       "      <td>Contract_Two year</td>\n",
       "      <td>0.164966</td>\n",
       "      <td>1</td>\n",
       "      <td>0.164966</td>\n",
       "    </tr>\n",
       "    <tr>\n",
       "      <th>16</th>\n",
       "      <td>OnlineBackup_No internet service</td>\n",
       "      <td>0.084112</td>\n",
       "      <td>2</td>\n",
       "      <td>0.249079</td>\n",
       "    </tr>\n",
       "    <tr>\n",
       "      <th>12</th>\n",
       "      <td>InternetService_Fiber optic</td>\n",
       "      <td>0.078045</td>\n",
       "      <td>3</td>\n",
       "      <td>0.327123</td>\n",
       "    </tr>\n",
       "    <tr>\n",
       "      <th>23</th>\n",
       "      <td>StreamingMovies_No internet service</td>\n",
       "      <td>0.070815</td>\n",
       "      <td>4</td>\n",
       "      <td>0.397939</td>\n",
       "    </tr>\n",
       "    <tr>\n",
       "      <th>28</th>\n",
       "      <td>TechSupport_Yes</td>\n",
       "      <td>0.060244</td>\n",
       "      <td>5</td>\n",
       "      <td>0.458183</td>\n",
       "    </tr>\n",
       "  </tbody>\n",
       "</table>\n",
       "</div>"
      ],
      "text/plain": [
       "                                feature  Importance  ranking_importance  \\\n",
       "9                     Contract_Two year    0.164966                   1   \n",
       "16     OnlineBackup_No internet service    0.084112                   2   \n",
       "12          InternetService_Fiber optic    0.078045                   3   \n",
       "23  StreamingMovies_No internet service    0.070815                   4   \n",
       "28                      TechSupport_Yes    0.060244                   5   \n",
       "\n",
       "    Importance_cumsum  \n",
       "9            0.164966  \n",
       "16           0.249079  \n",
       "12           0.327123  \n",
       "23           0.397939  \n",
       "28           0.458183  "
      ]
     },
     "metadata": {},
     "output_type": "display_data"
    },
    {
     "data": {
      "text/html": [
       "<div>\n",
       "<style scoped>\n",
       "    .dataframe tbody tr th:only-of-type {\n",
       "        vertical-align: middle;\n",
       "    }\n",
       "\n",
       "    .dataframe tbody tr th {\n",
       "        vertical-align: top;\n",
       "    }\n",
       "\n",
       "    .dataframe thead th {\n",
       "        text-align: right;\n",
       "    }\n",
       "</style>\n",
       "<table border=\"1\" class=\"dataframe\">\n",
       "  <thead>\n",
       "    <tr style=\"text-align: right;\">\n",
       "      <th></th>\n",
       "      <th>feature</th>\n",
       "      <th>Importance</th>\n",
       "      <th>ranking_importance</th>\n",
       "      <th>Importance_cumsum</th>\n",
       "    </tr>\n",
       "  </thead>\n",
       "  <tbody>\n",
       "    <tr>\n",
       "      <th>10</th>\n",
       "      <td>DeviceProtection_No internet service</td>\n",
       "      <td>0.051689</td>\n",
       "      <td>8</td>\n",
       "      <td>0.621202</td>\n",
       "    </tr>\n",
       "    <tr>\n",
       "      <th>13</th>\n",
       "      <td>InternetService_No</td>\n",
       "      <td>0.049344</td>\n",
       "      <td>9</td>\n",
       "      <td>0.670545</td>\n",
       "    </tr>\n",
       "    <tr>\n",
       "      <th>8</th>\n",
       "      <td>Contract_One year</td>\n",
       "      <td>0.047957</td>\n",
       "      <td>10</td>\n",
       "      <td>0.718502</td>\n",
       "    </tr>\n",
       "    <tr>\n",
       "      <th>18</th>\n",
       "      <td>OnlineSecurity_No internet service</td>\n",
       "      <td>0.039160</td>\n",
       "      <td>11</td>\n",
       "      <td>0.757662</td>\n",
       "    </tr>\n",
       "    <tr>\n",
       "      <th>27</th>\n",
       "      <td>TechSupport_No internet service</td>\n",
       "      <td>0.038914</td>\n",
       "      <td>12</td>\n",
       "      <td>0.796576</td>\n",
       "    </tr>\n",
       "  </tbody>\n",
       "</table>\n",
       "</div>"
      ],
      "text/plain": [
       "                                 feature  Importance  ranking_importance  \\\n",
       "10  DeviceProtection_No internet service    0.051689                   8   \n",
       "13                    InternetService_No    0.049344                   9   \n",
       "8                      Contract_One year    0.047957                  10   \n",
       "18    OnlineSecurity_No internet service    0.039160                  11   \n",
       "27       TechSupport_No internet service    0.038914                  12   \n",
       "\n",
       "    Importance_cumsum  \n",
       "10           0.621202  \n",
       "13           0.670545  \n",
       "8            0.718502  \n",
       "18           0.757662  \n",
       "27           0.796576  "
      ]
     },
     "execution_count": 170,
     "metadata": {},
     "output_type": "execute_result"
    }
   ],
   "source": [
    "feature_importances_df['Importance_cumsum'] = feature_importances_df['Importance'].cumsum()\n",
    "\n",
    "# can set importance_threshold to appropriate percentage of cumulative Importance that you want to cutoff features at\n",
    "importance_threshold = 0.80\n",
    "print(len(feature_importances_df[round(feature_importances_df['Importance_cumsum'], 2) <= importance_threshold]), 'features at or below threshold of', str(int(round(importance_threshold * 100, 0))) + '%')\n",
    "display(feature_importances_df[round(feature_importances_df['Importance_cumsum'], 2) <= importance_threshold].head(5))\n",
    "feature_importances_df[round(feature_importances_df['Importance_cumsum'], 2) <= importance_threshold].tail(5)"
   ]
  },
  {
   "cell_type": "code",
   "execution_count": 171,
   "id": "657ba41b-0ea7-4a2b-9206-dbaf4053f063",
   "metadata": {
    "tags": []
   },
   "outputs": [
    {
     "data": {
      "text/plain": [
       "12"
      ]
     },
     "execution_count": 171,
     "metadata": {},
     "output_type": "execute_result"
    }
   ],
   "source": [
    "best_nb = len(feature_importances_df[round(feature_importances_df['Importance_cumsum'], 2) <= importance_threshold]) \n",
    "best_features = list(feature_importances_df[0:best_nb]['feature'])\n",
    "len(best_features)"
   ]
  },
  {
   "cell_type": "markdown",
   "id": "10dce934",
   "metadata": {},
   "source": [
    "## Down Sampling"
   ]
  },
  {
   "cell_type": "code",
   "execution_count": 172,
   "id": "8b653e51",
   "metadata": {},
   "outputs": [],
   "source": [
    "X_FE.columns = X_FE.columns.str.split('.').str[0]\n",
    "import importlib\n",
    "Pipe_Mod = Pipeline([\n",
    "            ('Down Sampling', pp.Down_Sampling(target='Churn'))\n",
    "            ])"
   ]
  },
  {
   "cell_type": "code",
   "execution_count": 173,
   "id": "5538df7b",
   "metadata": {},
   "outputs": [
    {
     "name": "stdout",
     "output_type": "stream",
     "text": [
      "**************************************************\n",
      "Down Sampling**************************************************\n"
     ]
    }
   ],
   "source": [
    "X_train_down, y_train_down = Pipe_Mod.fit_transform(pd.concat([X_train, y_train], axis = 1), y = None)"
   ]
  },
  {
   "cell_type": "markdown",
   "id": "88c1a0c0-34d3-49f2-aa30-64a32d042e21",
   "metadata": {},
   "source": [
    "## Model Training"
   ]
  },
  {
   "cell_type": "code",
   "execution_count": 174,
   "id": "0befc0ae-469c-4a0d-8166-c1d2b860780d",
   "metadata": {
    "tags": []
   },
   "outputs": [
    {
     "data": {
      "text/plain": [
       "2.767475035663338"
      ]
     },
     "execution_count": 174,
     "metadata": {},
     "output_type": "execute_result"
    }
   ],
   "source": [
    "# Calculate the ratio of negative class to positive class\n",
    "ratio = float(y_train.value_counts()[0] / y_train.value_counts()[1])\n",
    "ratio"
   ]
  },
  {
   "cell_type": "code",
   "execution_count": 175,
   "id": "46ac878d-7ccf-4c73-a7c7-e698b2dda3bf",
   "metadata": {
    "tags": []
   },
   "outputs": [
    {
     "data": {
      "text/plain": [
       "False"
      ]
     },
     "execution_count": 175,
     "metadata": {},
     "output_type": "execute_result"
    }
   ],
   "source": [
    "'Churn' in best_features # Making sure that target is not among the independent feature's list"
   ]
  },
  {
   "cell_type": "code",
   "execution_count": 176,
   "id": "b4d26602-4146-4156-b2a5-d9ab578f03a8",
   "metadata": {
    "tags": []
   },
   "outputs": [
    {
     "name": "stdout",
     "output_type": "stream",
     "text": [
      "**************************************************\n",
      "get best hyper parameters\n",
      "\n",
      "time_spend: 8.8706214427948\n"
     ]
    }
   ],
   "source": [
    "importlib.reload(pp)\n",
    "start=time.time()\n",
    "### get best hyper parameters\n",
    "best_model_after_fs = pp.grid_search(X_train[best_features], y_train, cv =  3, ratio = ratio)\n",
    "end=time.time()\n",
    "print (\"time_spend: \"+str(end-start))"
   ]
  },
  {
   "cell_type": "code",
   "execution_count": 177,
   "id": "bca6679c-c918-4d41-8cf8-eadfcd61d803",
   "metadata": {
    "tags": []
   },
   "outputs": [
    {
     "data": {
      "text/html": [
       "<style>#sk-container-id-5 {color: black;}#sk-container-id-5 pre{padding: 0;}#sk-container-id-5 div.sk-toggleable {background-color: white;}#sk-container-id-5 label.sk-toggleable__label {cursor: pointer;display: block;width: 100%;margin-bottom: 0;padding: 0.3em;box-sizing: border-box;text-align: center;}#sk-container-id-5 label.sk-toggleable__label-arrow:before {content: \"▸\";float: left;margin-right: 0.25em;color: #696969;}#sk-container-id-5 label.sk-toggleable__label-arrow:hover:before {color: black;}#sk-container-id-5 div.sk-estimator:hover label.sk-toggleable__label-arrow:before {color: black;}#sk-container-id-5 div.sk-toggleable__content {max-height: 0;max-width: 0;overflow: hidden;text-align: left;background-color: #f0f8ff;}#sk-container-id-5 div.sk-toggleable__content pre {margin: 0.2em;color: black;border-radius: 0.25em;background-color: #f0f8ff;}#sk-container-id-5 input.sk-toggleable__control:checked~div.sk-toggleable__content {max-height: 200px;max-width: 100%;overflow: auto;}#sk-container-id-5 input.sk-toggleable__control:checked~label.sk-toggleable__label-arrow:before {content: \"▾\";}#sk-container-id-5 div.sk-estimator input.sk-toggleable__control:checked~label.sk-toggleable__label {background-color: #d4ebff;}#sk-container-id-5 div.sk-label input.sk-toggleable__control:checked~label.sk-toggleable__label {background-color: #d4ebff;}#sk-container-id-5 input.sk-hidden--visually {border: 0;clip: rect(1px 1px 1px 1px);clip: rect(1px, 1px, 1px, 1px);height: 1px;margin: -1px;overflow: hidden;padding: 0;position: absolute;width: 1px;}#sk-container-id-5 div.sk-estimator {font-family: monospace;background-color: #f0f8ff;border: 1px dotted black;border-radius: 0.25em;box-sizing: border-box;margin-bottom: 0.5em;}#sk-container-id-5 div.sk-estimator:hover {background-color: #d4ebff;}#sk-container-id-5 div.sk-parallel-item::after {content: \"\";width: 100%;border-bottom: 1px solid gray;flex-grow: 1;}#sk-container-id-5 div.sk-label:hover label.sk-toggleable__label {background-color: #d4ebff;}#sk-container-id-5 div.sk-serial::before {content: \"\";position: absolute;border-left: 1px solid gray;box-sizing: border-box;top: 0;bottom: 0;left: 50%;z-index: 0;}#sk-container-id-5 div.sk-serial {display: flex;flex-direction: column;align-items: center;background-color: white;padding-right: 0.2em;padding-left: 0.2em;position: relative;}#sk-container-id-5 div.sk-item {position: relative;z-index: 1;}#sk-container-id-5 div.sk-parallel {display: flex;align-items: stretch;justify-content: center;background-color: white;position: relative;}#sk-container-id-5 div.sk-item::before, #sk-container-id-5 div.sk-parallel-item::before {content: \"\";position: absolute;border-left: 1px solid gray;box-sizing: border-box;top: 0;bottom: 0;left: 50%;z-index: -1;}#sk-container-id-5 div.sk-parallel-item {display: flex;flex-direction: column;z-index: 1;position: relative;background-color: white;}#sk-container-id-5 div.sk-parallel-item:first-child::after {align-self: flex-end;width: 50%;}#sk-container-id-5 div.sk-parallel-item:last-child::after {align-self: flex-start;width: 50%;}#sk-container-id-5 div.sk-parallel-item:only-child::after {width: 0;}#sk-container-id-5 div.sk-dashed-wrapped {border: 1px dashed gray;margin: 0 0.4em 0.5em 0.4em;box-sizing: border-box;padding-bottom: 0.4em;background-color: white;}#sk-container-id-5 div.sk-label label {font-family: monospace;font-weight: bold;display: inline-block;line-height: 1.2em;}#sk-container-id-5 div.sk-label-container {text-align: center;}#sk-container-id-5 div.sk-container {/* jupyter's `normalize.less` sets `[hidden] { display: none; }` but bootstrap.min.css set `[hidden] { display: none !important; }` so we also need the `!important` here to be able to override the default hidden behavior on the sphinx rendered scikit-learn.org. See: https://github.com/scikit-learn/scikit-learn/issues/21755 */display: inline-block !important;position: relative;}#sk-container-id-5 div.sk-text-repr-fallback {display: none;}</style><div id=\"sk-container-id-5\" class=\"sk-top-container\"><div class=\"sk-text-repr-fallback\"><pre>XGBClassifier(base_score=0.5, booster=&#x27;gbtree&#x27;, callbacks=None,\n",
       "              colsample_bylevel=1, colsample_bynode=1, colsample_bytree=0.7,\n",
       "              early_stopping_rounds=None, enable_categorical=False, eta=0.05,\n",
       "              eval_metric=None, gamma=0.3, gpu_id=-1, grow_policy=&#x27;depthwise&#x27;,\n",
       "              importance_type=None, interaction_constraints=&#x27;&#x27;,\n",
       "              learning_rate=0.0500000007, max_bin=256, max_cat_to_onehot=4,\n",
       "              max_delta_step=0, max_depth=3, max_leaves=0, min_child_weight=1,\n",
       "              missing=nan, monotone_constraints=&#x27;()&#x27;, n_estimators=100,\n",
       "              n_jobs=-1, num_parallel_tree=1, predictor=&#x27;auto&#x27;,\n",
       "              random_state=500, reg_alpha=0, ...)</pre><b>In a Jupyter environment, please rerun this cell to show the HTML representation or trust the notebook. <br />On GitHub, the HTML representation is unable to render, please try loading this page with nbviewer.org.</b></div><div class=\"sk-container\" hidden><div class=\"sk-item\"><div class=\"sk-estimator sk-toggleable\"><input class=\"sk-toggleable__control sk-hidden--visually\" id=\"sk-estimator-id-5\" type=\"checkbox\" checked><label for=\"sk-estimator-id-5\" class=\"sk-toggleable__label sk-toggleable__label-arrow\">XGBClassifier</label><div class=\"sk-toggleable__content\"><pre>XGBClassifier(base_score=0.5, booster=&#x27;gbtree&#x27;, callbacks=None,\n",
       "              colsample_bylevel=1, colsample_bynode=1, colsample_bytree=0.7,\n",
       "              early_stopping_rounds=None, enable_categorical=False, eta=0.05,\n",
       "              eval_metric=None, gamma=0.3, gpu_id=-1, grow_policy=&#x27;depthwise&#x27;,\n",
       "              importance_type=None, interaction_constraints=&#x27;&#x27;,\n",
       "              learning_rate=0.0500000007, max_bin=256, max_cat_to_onehot=4,\n",
       "              max_delta_step=0, max_depth=3, max_leaves=0, min_child_weight=1,\n",
       "              missing=nan, monotone_constraints=&#x27;()&#x27;, n_estimators=100,\n",
       "              n_jobs=-1, num_parallel_tree=1, predictor=&#x27;auto&#x27;,\n",
       "              random_state=500, reg_alpha=0, ...)</pre></div></div></div></div></div>"
      ],
      "text/plain": [
       "XGBClassifier(base_score=0.5, booster='gbtree', callbacks=None,\n",
       "              colsample_bylevel=1, colsample_bynode=1, colsample_bytree=0.7,\n",
       "              early_stopping_rounds=None, enable_categorical=False, eta=0.05,\n",
       "              eval_metric=None, gamma=0.3, gpu_id=-1, grow_policy='depthwise',\n",
       "              importance_type=None, interaction_constraints='',\n",
       "              learning_rate=0.0500000007, max_bin=256, max_cat_to_onehot=4,\n",
       "              max_delta_step=0, max_depth=3, max_leaves=0, min_child_weight=1,\n",
       "              missing=nan, monotone_constraints='()', n_estimators=100,\n",
       "              n_jobs=-1, num_parallel_tree=1, predictor='auto',\n",
       "              random_state=500, reg_alpha=0, ...)"
      ]
     },
     "execution_count": 177,
     "metadata": {},
     "output_type": "execute_result"
    }
   ],
   "source": [
    "best_model_after_fs"
   ]
  },
  {
   "cell_type": "code",
   "execution_count": 178,
   "id": "522c07e2-bc22-47bd-afc2-2a4b54b3939c",
   "metadata": {
    "tags": []
   },
   "outputs": [],
   "source": [
    "filename = 'Outputs/telecom_churn_model_v1.sav'\n",
    "pickle.dump(best_model_after_fs, open(filename,'wb'))"
   ]
  },
  {
   "cell_type": "code",
   "execution_count": 179,
   "id": "36e13c90-df71-47ae-abf0-ea5aba221b1b",
   "metadata": {
    "tags": []
   },
   "outputs": [
    {
     "name": "stdout",
     "output_type": "stream",
     "text": [
      "12\n"
     ]
    }
   ],
   "source": [
    "# best_features = list(X_train.columns)\n",
    "\n",
    "filename = 'Outputs/best_features_v1.sav'\n",
    "pickle.dump(best_features, open(filename,'wb'))\n",
    "print(len(best_features))"
   ]
  },
  {
   "cell_type": "code",
   "execution_count": 180,
   "id": "758effca-a746-4e71-a1b6-1342cc9fd266",
   "metadata": {
    "tags": []
   },
   "outputs": [],
   "source": [
    "# filename = 'Outputs/Incomplete_Installation_prediction_best_model_v4.sav'\n",
    "# best_model_after_fs = pickle.load(open(filename, 'rb'))\n",
    "\n",
    "# filename = 'Outputs/best_features_v4.sav'\n",
    "# best_features = pickle.load(open(filename, 'rb'))"
   ]
  },
  {
   "cell_type": "code",
   "execution_count": 181,
   "id": "214b53fa-09a1-4fce-9647-82e583024512",
   "metadata": {
    "tags": []
   },
   "outputs": [],
   "source": [
    "for col in best_features:\n",
    "    if 'Churn' in col:\n",
    "        print(col)"
   ]
  },
  {
   "cell_type": "markdown",
   "id": "075d65d2-8b9c-4039-91dd-067ae5dfd5ea",
   "metadata": {
    "tags": []
   },
   "source": [
    "## Model Evaluations and Lift Analysis"
   ]
  },
  {
   "cell_type": "code",
   "execution_count": 182,
   "id": "6f851412-daff-4016-b69d-8edf3d3969d4",
   "metadata": {
    "tags": []
   },
   "outputs": [
    {
     "data": {
      "text/html": [
       "<style>#sk-container-id-6 {color: black;}#sk-container-id-6 pre{padding: 0;}#sk-container-id-6 div.sk-toggleable {background-color: white;}#sk-container-id-6 label.sk-toggleable__label {cursor: pointer;display: block;width: 100%;margin-bottom: 0;padding: 0.3em;box-sizing: border-box;text-align: center;}#sk-container-id-6 label.sk-toggleable__label-arrow:before {content: \"▸\";float: left;margin-right: 0.25em;color: #696969;}#sk-container-id-6 label.sk-toggleable__label-arrow:hover:before {color: black;}#sk-container-id-6 div.sk-estimator:hover label.sk-toggleable__label-arrow:before {color: black;}#sk-container-id-6 div.sk-toggleable__content {max-height: 0;max-width: 0;overflow: hidden;text-align: left;background-color: #f0f8ff;}#sk-container-id-6 div.sk-toggleable__content pre {margin: 0.2em;color: black;border-radius: 0.25em;background-color: #f0f8ff;}#sk-container-id-6 input.sk-toggleable__control:checked~div.sk-toggleable__content {max-height: 200px;max-width: 100%;overflow: auto;}#sk-container-id-6 input.sk-toggleable__control:checked~label.sk-toggleable__label-arrow:before {content: \"▾\";}#sk-container-id-6 div.sk-estimator input.sk-toggleable__control:checked~label.sk-toggleable__label {background-color: #d4ebff;}#sk-container-id-6 div.sk-label input.sk-toggleable__control:checked~label.sk-toggleable__label {background-color: #d4ebff;}#sk-container-id-6 input.sk-hidden--visually {border: 0;clip: rect(1px 1px 1px 1px);clip: rect(1px, 1px, 1px, 1px);height: 1px;margin: -1px;overflow: hidden;padding: 0;position: absolute;width: 1px;}#sk-container-id-6 div.sk-estimator {font-family: monospace;background-color: #f0f8ff;border: 1px dotted black;border-radius: 0.25em;box-sizing: border-box;margin-bottom: 0.5em;}#sk-container-id-6 div.sk-estimator:hover {background-color: #d4ebff;}#sk-container-id-6 div.sk-parallel-item::after {content: \"\";width: 100%;border-bottom: 1px solid gray;flex-grow: 1;}#sk-container-id-6 div.sk-label:hover label.sk-toggleable__label {background-color: #d4ebff;}#sk-container-id-6 div.sk-serial::before {content: \"\";position: absolute;border-left: 1px solid gray;box-sizing: border-box;top: 0;bottom: 0;left: 50%;z-index: 0;}#sk-container-id-6 div.sk-serial {display: flex;flex-direction: column;align-items: center;background-color: white;padding-right: 0.2em;padding-left: 0.2em;position: relative;}#sk-container-id-6 div.sk-item {position: relative;z-index: 1;}#sk-container-id-6 div.sk-parallel {display: flex;align-items: stretch;justify-content: center;background-color: white;position: relative;}#sk-container-id-6 div.sk-item::before, #sk-container-id-6 div.sk-parallel-item::before {content: \"\";position: absolute;border-left: 1px solid gray;box-sizing: border-box;top: 0;bottom: 0;left: 50%;z-index: -1;}#sk-container-id-6 div.sk-parallel-item {display: flex;flex-direction: column;z-index: 1;position: relative;background-color: white;}#sk-container-id-6 div.sk-parallel-item:first-child::after {align-self: flex-end;width: 50%;}#sk-container-id-6 div.sk-parallel-item:last-child::after {align-self: flex-start;width: 50%;}#sk-container-id-6 div.sk-parallel-item:only-child::after {width: 0;}#sk-container-id-6 div.sk-dashed-wrapped {border: 1px dashed gray;margin: 0 0.4em 0.5em 0.4em;box-sizing: border-box;padding-bottom: 0.4em;background-color: white;}#sk-container-id-6 div.sk-label label {font-family: monospace;font-weight: bold;display: inline-block;line-height: 1.2em;}#sk-container-id-6 div.sk-label-container {text-align: center;}#sk-container-id-6 div.sk-container {/* jupyter's `normalize.less` sets `[hidden] { display: none; }` but bootstrap.min.css set `[hidden] { display: none !important; }` so we also need the `!important` here to be able to override the default hidden behavior on the sphinx rendered scikit-learn.org. See: https://github.com/scikit-learn/scikit-learn/issues/21755 */display: inline-block !important;position: relative;}#sk-container-id-6 div.sk-text-repr-fallback {display: none;}</style><div id=\"sk-container-id-6\" class=\"sk-top-container\"><div class=\"sk-text-repr-fallback\"><pre>XGBClassifier(base_score=0.5, booster=&#x27;gbtree&#x27;, callbacks=None,\n",
       "              colsample_bylevel=1, colsample_bynode=1, colsample_bytree=0.7,\n",
       "              early_stopping_rounds=None, enable_categorical=False, eta=0.05,\n",
       "              eval_metric=None, gamma=0.3, gpu_id=-1, grow_policy=&#x27;depthwise&#x27;,\n",
       "              importance_type=None, interaction_constraints=&#x27;&#x27;,\n",
       "              learning_rate=0.0500000007, max_bin=256, max_cat_to_onehot=4,\n",
       "              max_delta_step=0, max_depth=3, max_leaves=0, min_child_weight=1,\n",
       "              missing=nan, monotone_constraints=&#x27;()&#x27;, n_estimators=100,\n",
       "              n_jobs=-1, num_parallel_tree=1, predictor=&#x27;auto&#x27;,\n",
       "              random_state=500, reg_alpha=0, ...)</pre><b>In a Jupyter environment, please rerun this cell to show the HTML representation or trust the notebook. <br />On GitHub, the HTML representation is unable to render, please try loading this page with nbviewer.org.</b></div><div class=\"sk-container\" hidden><div class=\"sk-item\"><div class=\"sk-estimator sk-toggleable\"><input class=\"sk-toggleable__control sk-hidden--visually\" id=\"sk-estimator-id-6\" type=\"checkbox\" checked><label for=\"sk-estimator-id-6\" class=\"sk-toggleable__label sk-toggleable__label-arrow\">XGBClassifier</label><div class=\"sk-toggleable__content\"><pre>XGBClassifier(base_score=0.5, booster=&#x27;gbtree&#x27;, callbacks=None,\n",
       "              colsample_bylevel=1, colsample_bynode=1, colsample_bytree=0.7,\n",
       "              early_stopping_rounds=None, enable_categorical=False, eta=0.05,\n",
       "              eval_metric=None, gamma=0.3, gpu_id=-1, grow_policy=&#x27;depthwise&#x27;,\n",
       "              importance_type=None, interaction_constraints=&#x27;&#x27;,\n",
       "              learning_rate=0.0500000007, max_bin=256, max_cat_to_onehot=4,\n",
       "              max_delta_step=0, max_depth=3, max_leaves=0, min_child_weight=1,\n",
       "              missing=nan, monotone_constraints=&#x27;()&#x27;, n_estimators=100,\n",
       "              n_jobs=-1, num_parallel_tree=1, predictor=&#x27;auto&#x27;,\n",
       "              random_state=500, reg_alpha=0, ...)</pre></div></div></div></div></div>"
      ],
      "text/plain": [
       "XGBClassifier(base_score=0.5, booster='gbtree', callbacks=None,\n",
       "              colsample_bylevel=1, colsample_bynode=1, colsample_bytree=0.7,\n",
       "              early_stopping_rounds=None, enable_categorical=False, eta=0.05,\n",
       "              eval_metric=None, gamma=0.3, gpu_id=-1, grow_policy='depthwise',\n",
       "              importance_type=None, interaction_constraints='',\n",
       "              learning_rate=0.0500000007, max_bin=256, max_cat_to_onehot=4,\n",
       "              max_delta_step=0, max_depth=3, max_leaves=0, min_child_weight=1,\n",
       "              missing=nan, monotone_constraints='()', n_estimators=100,\n",
       "              n_jobs=-1, num_parallel_tree=1, predictor='auto',\n",
       "              random_state=500, reg_alpha=0, ...)"
      ]
     },
     "execution_count": 182,
     "metadata": {},
     "output_type": "execute_result"
    }
   ],
   "source": [
    "best_model_after_fs"
   ]
  },
  {
   "cell_type": "code",
   "execution_count": 183,
   "id": "cb20ea2b-2a40-44b1-8537-7849b1a5a112",
   "metadata": {
    "tags": []
   },
   "outputs": [
    {
     "data": {
      "text/html": [
       "<div>\n",
       "<style scoped>\n",
       "    .dataframe tbody tr th:only-of-type {\n",
       "        vertical-align: middle;\n",
       "    }\n",
       "\n",
       "    .dataframe tbody tr th {\n",
       "        vertical-align: top;\n",
       "    }\n",
       "\n",
       "    .dataframe thead th {\n",
       "        text-align: right;\n",
       "    }\n",
       "</style>\n",
       "<table border=\"1\" class=\"dataframe\">\n",
       "  <thead>\n",
       "    <tr style=\"text-align: right;\">\n",
       "      <th></th>\n",
       "      <th>Contract_Two year</th>\n",
       "      <th>OnlineBackup_No internet service</th>\n",
       "      <th>InternetService_Fiber optic</th>\n",
       "      <th>StreamingMovies_No internet service</th>\n",
       "      <th>...</th>\n",
       "      <th>InternetService_No</th>\n",
       "      <th>Contract_One year</th>\n",
       "      <th>OnlineSecurity_No internet service</th>\n",
       "      <th>TechSupport_No internet service</th>\n",
       "    </tr>\n",
       "  </thead>\n",
       "  <tbody>\n",
       "    <tr>\n",
       "      <th>1687</th>\n",
       "      <td>1.0</td>\n",
       "      <td>0.0</td>\n",
       "      <td>0.0</td>\n",
       "      <td>0.0</td>\n",
       "      <td>...</td>\n",
       "      <td>0.0</td>\n",
       "      <td>0.0</td>\n",
       "      <td>0.0</td>\n",
       "      <td>0.0</td>\n",
       "    </tr>\n",
       "    <tr>\n",
       "      <th>4506</th>\n",
       "      <td>0.0</td>\n",
       "      <td>1.0</td>\n",
       "      <td>0.0</td>\n",
       "      <td>1.0</td>\n",
       "      <td>...</td>\n",
       "      <td>1.0</td>\n",
       "      <td>0.0</td>\n",
       "      <td>1.0</td>\n",
       "      <td>1.0</td>\n",
       "    </tr>\n",
       "    <tr>\n",
       "      <th>4916</th>\n",
       "      <td>0.0</td>\n",
       "      <td>0.0</td>\n",
       "      <td>1.0</td>\n",
       "      <td>0.0</td>\n",
       "      <td>...</td>\n",
       "      <td>0.0</td>\n",
       "      <td>0.0</td>\n",
       "      <td>0.0</td>\n",
       "      <td>0.0</td>\n",
       "    </tr>\n",
       "    <tr>\n",
       "      <th>1564</th>\n",
       "      <td>1.0</td>\n",
       "      <td>1.0</td>\n",
       "      <td>0.0</td>\n",
       "      <td>1.0</td>\n",
       "      <td>...</td>\n",
       "      <td>1.0</td>\n",
       "      <td>0.0</td>\n",
       "      <td>1.0</td>\n",
       "      <td>1.0</td>\n",
       "    </tr>\n",
       "    <tr>\n",
       "      <th>3378</th>\n",
       "      <td>0.0</td>\n",
       "      <td>1.0</td>\n",
       "      <td>0.0</td>\n",
       "      <td>1.0</td>\n",
       "      <td>...</td>\n",
       "      <td>1.0</td>\n",
       "      <td>0.0</td>\n",
       "      <td>1.0</td>\n",
       "      <td>1.0</td>\n",
       "    </tr>\n",
       "    <tr>\n",
       "      <th>...</th>\n",
       "      <td>...</td>\n",
       "      <td>...</td>\n",
       "      <td>...</td>\n",
       "      <td>...</td>\n",
       "      <td>...</td>\n",
       "      <td>...</td>\n",
       "      <td>...</td>\n",
       "      <td>...</td>\n",
       "      <td>...</td>\n",
       "    </tr>\n",
       "    <tr>\n",
       "      <th>1451</th>\n",
       "      <td>0.0</td>\n",
       "      <td>0.0</td>\n",
       "      <td>0.0</td>\n",
       "      <td>0.0</td>\n",
       "      <td>...</td>\n",
       "      <td>0.0</td>\n",
       "      <td>1.0</td>\n",
       "      <td>0.0</td>\n",
       "      <td>0.0</td>\n",
       "    </tr>\n",
       "    <tr>\n",
       "      <th>3154</th>\n",
       "      <td>1.0</td>\n",
       "      <td>0.0</td>\n",
       "      <td>1.0</td>\n",
       "      <td>0.0</td>\n",
       "      <td>...</td>\n",
       "      <td>0.0</td>\n",
       "      <td>0.0</td>\n",
       "      <td>0.0</td>\n",
       "      <td>0.0</td>\n",
       "    </tr>\n",
       "    <tr>\n",
       "      <th>3689</th>\n",
       "      <td>0.0</td>\n",
       "      <td>0.0</td>\n",
       "      <td>1.0</td>\n",
       "      <td>0.0</td>\n",
       "      <td>...</td>\n",
       "      <td>0.0</td>\n",
       "      <td>0.0</td>\n",
       "      <td>0.0</td>\n",
       "      <td>0.0</td>\n",
       "    </tr>\n",
       "    <tr>\n",
       "      <th>3251</th>\n",
       "      <td>0.0</td>\n",
       "      <td>0.0</td>\n",
       "      <td>1.0</td>\n",
       "      <td>0.0</td>\n",
       "      <td>...</td>\n",
       "      <td>0.0</td>\n",
       "      <td>0.0</td>\n",
       "      <td>0.0</td>\n",
       "      <td>0.0</td>\n",
       "    </tr>\n",
       "    <tr>\n",
       "      <th>5506</th>\n",
       "      <td>0.0</td>\n",
       "      <td>0.0</td>\n",
       "      <td>0.0</td>\n",
       "      <td>0.0</td>\n",
       "      <td>...</td>\n",
       "      <td>0.0</td>\n",
       "      <td>0.0</td>\n",
       "      <td>0.0</td>\n",
       "      <td>0.0</td>\n",
       "    </tr>\n",
       "  </tbody>\n",
       "</table>\n",
       "<p>1761 rows × 12 columns</p>\n",
       "</div>"
      ],
      "text/plain": [
       "      Contract_Two year  OnlineBackup_No internet service  \\\n",
       "1687                1.0                               0.0   \n",
       "4506                0.0                               1.0   \n",
       "4916                0.0                               0.0   \n",
       "1564                1.0                               1.0   \n",
       "3378                0.0                               1.0   \n",
       "...                 ...                               ...   \n",
       "1451                0.0                               0.0   \n",
       "3154                1.0                               0.0   \n",
       "3689                0.0                               0.0   \n",
       "3251                0.0                               0.0   \n",
       "5506                0.0                               0.0   \n",
       "\n",
       "      InternetService_Fiber optic  StreamingMovies_No internet service  ...  \\\n",
       "1687                          0.0                                  0.0  ...   \n",
       "4506                          0.0                                  1.0  ...   \n",
       "4916                          1.0                                  0.0  ...   \n",
       "1564                          0.0                                  1.0  ...   \n",
       "3378                          0.0                                  1.0  ...   \n",
       "...                           ...                                  ...  ...   \n",
       "1451                          0.0                                  0.0  ...   \n",
       "3154                          1.0                                  0.0  ...   \n",
       "3689                          1.0                                  0.0  ...   \n",
       "3251                          1.0                                  0.0  ...   \n",
       "5506                          0.0                                  0.0  ...   \n",
       "\n",
       "      InternetService_No  Contract_One year  \\\n",
       "1687                 0.0                0.0   \n",
       "4506                 1.0                0.0   \n",
       "4916                 0.0                0.0   \n",
       "1564                 1.0                0.0   \n",
       "3378                 1.0                0.0   \n",
       "...                  ...                ...   \n",
       "1451                 0.0                1.0   \n",
       "3154                 0.0                0.0   \n",
       "3689                 0.0                0.0   \n",
       "3251                 0.0                0.0   \n",
       "5506                 0.0                0.0   \n",
       "\n",
       "      OnlineSecurity_No internet service  TechSupport_No internet service  \n",
       "1687                                 0.0                              0.0  \n",
       "4506                                 1.0                              1.0  \n",
       "4916                                 0.0                              0.0  \n",
       "1564                                 1.0                              1.0  \n",
       "3378                                 1.0                              1.0  \n",
       "...                                  ...                              ...  \n",
       "1451                                 0.0                              0.0  \n",
       "3154                                 0.0                              0.0  \n",
       "3689                                 0.0                              0.0  \n",
       "3251                                 0.0                              0.0  \n",
       "5506                                 0.0                              0.0  \n",
       "\n",
       "[1761 rows x 12 columns]"
      ]
     },
     "execution_count": 183,
     "metadata": {},
     "output_type": "execute_result"
    }
   ],
   "source": [
    "X_test[best_features]"
   ]
  },
  {
   "cell_type": "code",
   "execution_count": 184,
   "id": "2c7f9ce2-62fe-45e3-8d97-5382e1390b78",
   "metadata": {
    "tags": []
   },
   "outputs": [
    {
     "data": {
      "image/png": "[encoded data removed]",
      "text/plain": [
       "<Figure size 1500x1000 with 1 Axes>"
      ]
     },
     "metadata": {},
     "output_type": "display_data"
    },
    {
     "data": {
      "text/plain": [
       "<Figure size 640x480 with 0 Axes>"
      ]
     },
     "metadata": {},
     "output_type": "display_data"
    }
   ],
   "source": [
    "importlib.reload(pp)\n",
    "[metrics_summary, y_test_pred, y_test_proba, y_train_proba,y_proba,y_pred] = pp.model_evaluation (best_model_after_fs,X_train[best_features], y_train, X_train[best_features], y_train, X_test[best_features], y_test, X_FE[best_features], y)"
   ]
  },
  {
   "cell_type": "code",
   "execution_count": 185,
   "id": "21b02912-5c0a-4d4a-97b0-c3a462af0ba3",
   "metadata": {
    "tags": []
   },
   "outputs": [
    {
     "data": {
      "text/html": [
       "<div>\n",
       "<style scoped>\n",
       "    .dataframe tbody tr th:only-of-type {\n",
       "        vertical-align: middle;\n",
       "    }\n",
       "\n",
       "    .dataframe tbody tr th {\n",
       "        vertical-align: top;\n",
       "    }\n",
       "\n",
       "    .dataframe thead th {\n",
       "        text-align: right;\n",
       "    }\n",
       "</style>\n",
       "<table border=\"1\" class=\"dataframe\">\n",
       "  <thead>\n",
       "    <tr style=\"text-align: right;\">\n",
       "      <th></th>\n",
       "      <th>Training down_sample</th>\n",
       "      <th>Training</th>\n",
       "      <th>Testing</th>\n",
       "    </tr>\n",
       "  </thead>\n",
       "  <tbody>\n",
       "    <tr>\n",
       "      <th>Accuracy</th>\n",
       "      <td>0.754638</td>\n",
       "      <td>0.754638</td>\n",
       "      <td>0.736513</td>\n",
       "    </tr>\n",
       "    <tr>\n",
       "      <th>Recall</th>\n",
       "      <td>0.825250</td>\n",
       "      <td>0.825250</td>\n",
       "      <td>0.798715</td>\n",
       "    </tr>\n",
       "    <tr>\n",
       "      <th>Precision</th>\n",
       "      <td>0.524004</td>\n",
       "      <td>0.524004</td>\n",
       "      <td>0.502019</td>\n",
       "    </tr>\n",
       "    <tr>\n",
       "      <th>F1-Score</th>\n",
       "      <td>0.640997</td>\n",
       "      <td>0.640997</td>\n",
       "      <td>0.616529</td>\n",
       "    </tr>\n",
       "  </tbody>\n",
       "</table>\n",
       "</div>"
      ],
      "text/plain": [
       "           Training down_sample  Training   Testing\n",
       "Accuracy               0.754638  0.754638  0.736513\n",
       "Recall                 0.825250  0.825250  0.798715\n",
       "Precision              0.524004  0.524004  0.502019\n",
       "F1-Score               0.640997  0.640997  0.616529"
      ]
     },
     "execution_count": 185,
     "metadata": {},
     "output_type": "execute_result"
    }
   ],
   "source": [
    "metrics_summary"
   ]
  },
  {
   "cell_type": "code",
   "execution_count": 160,
   "id": "8edd45ed-0c56-49b0-bd78-c4a3a74e447e",
   "metadata": {
    "tags": []
   },
   "outputs": [
    {
     "name": "stdout",
     "output_type": "stream",
     "text": [
      "0.8234960234851018\n"
     ]
    }
   ],
   "source": [
    "from sklearn import metrics\n",
    "#calculate AUC of model\n",
    "auc = metrics.roc_auc_score(y_test, y_test_proba)\n",
    "\n",
    "#print AUC score\n",
    "print(auc)"
   ]
  },
  {
   "cell_type": "code",
   "execution_count": 161,
   "id": "baf715bd",
   "metadata": {},
   "outputs": [
    {
     "data": {
      "text/plain": [
       "['customerID']"
      ]
     },
     "execution_count": 161,
     "metadata": {},
     "output_type": "execute_result"
    }
   ],
   "source": [
    "id"
   ]
  },
  {
   "cell_type": "code",
   "execution_count": 162,
   "id": "6d53989d-52ec-4077-8595-5014d01e957a",
   "metadata": {
    "tags": []
   },
   "outputs": [
    {
     "data": {
      "text/html": [
       "<div>\n",
       "<style scoped>\n",
       "    .dataframe tbody tr th:only-of-type {\n",
       "        vertical-align: middle;\n",
       "    }\n",
       "\n",
       "    .dataframe tbody tr th {\n",
       "        vertical-align: top;\n",
       "    }\n",
       "\n",
       "    .dataframe thead th {\n",
       "        text-align: right;\n",
       "    }\n",
       "</style>\n",
       "<table border=\"1\" class=\"dataframe\">\n",
       "  <thead>\n",
       "    <tr style=\"text-align: right;\">\n",
       "      <th></th>\n",
       "      <th>predict</th>\n",
       "      <th>predict_prob</th>\n",
       "      <th>customerID</th>\n",
       "    </tr>\n",
       "  </thead>\n",
       "  <tbody>\n",
       "    <tr>\n",
       "      <th>0</th>\n",
       "      <td>0</td>\n",
       "      <td>0.096066</td>\n",
       "      <td>9732-OUYRN</td>\n",
       "    </tr>\n",
       "    <tr>\n",
       "      <th>1</th>\n",
       "      <td>0</td>\n",
       "      <td>0.209173</td>\n",
       "      <td>0661-KQHNK</td>\n",
       "    </tr>\n",
       "    <tr>\n",
       "      <th>2</th>\n",
       "      <td>0</td>\n",
       "      <td>0.110941</td>\n",
       "      <td>4709-LKHYG</td>\n",
       "    </tr>\n",
       "    <tr>\n",
       "      <th>3</th>\n",
       "      <td>0</td>\n",
       "      <td>0.098841</td>\n",
       "      <td>9824-QCJPK</td>\n",
       "    </tr>\n",
       "    <tr>\n",
       "      <th>4</th>\n",
       "      <td>0</td>\n",
       "      <td>0.097681</td>\n",
       "      <td>4716-MRVEN</td>\n",
       "    </tr>\n",
       "  </tbody>\n",
       "</table>\n",
       "</div>"
      ],
      "text/plain": [
       "   predict  predict_prob  customerID\n",
       "0        0      0.096066  9732-OUYRN\n",
       "1        0      0.209173  0661-KQHNK\n",
       "2        0      0.110941  4709-LKHYG\n",
       "3        0      0.098841  9824-QCJPK\n",
       "4        0      0.097681  4716-MRVEN"
      ]
     },
     "execution_count": 162,
     "metadata": {},
     "output_type": "execute_result"
    }
   ],
   "source": [
    "## Build final data\n",
    "df_predict_actual                   = pd.DataFrame()\n",
    "df_predict_actual['predict']        = y_pred\n",
    "df_predict_actual['predict_prob']   = y_proba\n",
    "df_predict_actual['customerID']         = raw_data_res['customerID']\n",
    "\n",
    "df_predict_actual.head()"
   ]
  },
  {
   "cell_type": "code",
   "execution_count": 163,
   "id": "c500418d-bfa1-498b-bcf2-3a2c4bcfa220",
   "metadata": {
    "tags": []
   },
   "outputs": [
    {
     "data": {
      "text/html": [
       "<div>\n",
       "<style scoped>\n",
       "    .dataframe tbody tr th:only-of-type {\n",
       "        vertical-align: middle;\n",
       "    }\n",
       "\n",
       "    .dataframe tbody tr th {\n",
       "        vertical-align: top;\n",
       "    }\n",
       "\n",
       "    .dataframe thead th {\n",
       "        text-align: right;\n",
       "    }\n",
       "</style>\n",
       "<table border=\"1\" class=\"dataframe\">\n",
       "  <thead>\n",
       "    <tr style=\"text-align: right;\">\n",
       "      <th></th>\n",
       "      <th>customerID</th>\n",
       "      <th>Rank</th>\n",
       "    </tr>\n",
       "  </thead>\n",
       "  <tbody>\n",
       "    <tr>\n",
       "      <th>0</th>\n",
       "      <td>2514-GINMM</td>\n",
       "      <td>1</td>\n",
       "    </tr>\n",
       "    <tr>\n",
       "      <th>1</th>\n",
       "      <td>7254-IQWOZ</td>\n",
       "      <td>1</td>\n",
       "    </tr>\n",
       "    <tr>\n",
       "      <th>2</th>\n",
       "      <td>1761-AEZZR</td>\n",
       "      <td>1</td>\n",
       "    </tr>\n",
       "    <tr>\n",
       "      <th>3</th>\n",
       "      <td>6996-KNSML</td>\n",
       "      <td>1</td>\n",
       "    </tr>\n",
       "    <tr>\n",
       "      <th>4</th>\n",
       "      <td>9019-QVLZD</td>\n",
       "      <td>1</td>\n",
       "    </tr>\n",
       "  </tbody>\n",
       "</table>\n",
       "</div>"
      ],
      "text/plain": [
       "   customerID  Rank\n",
       "0  2514-GINMM     1\n",
       "1  7254-IQWOZ     1\n",
       "2  1761-AEZZR     1\n",
       "3  6996-KNSML     1\n",
       "4  9019-QVLZD     1"
      ]
     },
     "execution_count": 163,
     "metadata": {},
     "output_type": "execute_result"
    }
   ],
   "source": [
    "df_fixed    = df_predict_actual.sort_values(by = 'predict_prob', ascending = False).reset_index()\n",
    "sample_size = df_predict_actual.shape[0]\n",
    "\n",
    "# Segment the data into Decile size of 1\n",
    "decile_size = sample_size/100 \n",
    "df_fixed['Rank'] = ((df_predict_actual.index//decile_size)*1+1).astype('int64')\n",
    "\n",
    "# df_fixed2 = df_fixed[df_fixed['Rank'] <= 20][['chc_id', 'Rank']]\n",
    "df_fixed2 = df_fixed[['customerID', 'Rank']]\n",
    "df_fixed2.head()"
   ]
  },
  {
   "cell_type": "markdown",
   "id": "79786da0-b5e0-425c-8e52-552fc2f7ae62",
   "metadata": {},
   "source": [
    "## KS "
   ]
  },
  {
   "cell_type": "code",
   "execution_count": 164,
   "id": "bb696fd0-2aba-41d8-a2fa-711f0849cd63",
   "metadata": {
    "tags": []
   },
   "outputs": [],
   "source": [
    "test_df = pd.concat([X_test[best_features], y_test], axis = 1)\n",
    "test_df['Churn_probability'] = y_test_proba\n",
    "test_df['y_pred'] = y_test_pred"
   ]
  },
  {
   "cell_type": "code",
   "execution_count": 165,
   "id": "f1e6f63a-8adc-4b58-ba2e-24ebc29f6f25",
   "metadata": {
    "tags": []
   },
   "outputs": [
    {
     "data": {
      "text/plain": [
       "467"
      ]
     },
     "execution_count": 165,
     "metadata": {},
     "output_type": "execute_result"
    }
   ],
   "source": [
    "y_test.sum()"
   ]
  },
  {
   "cell_type": "code",
   "execution_count": 166,
   "id": "594a222b-abde-4d8d-abd9-eb057cae0669",
   "metadata": {
    "tags": []
   },
   "outputs": [
    {
     "data": {
      "text/plain": [
       "(1761, 12)"
      ]
     },
     "execution_count": 166,
     "metadata": {},
     "output_type": "execute_result"
    }
   ],
   "source": [
    "test_df.shape"
   ]
  },
  {
   "cell_type": "code",
   "execution_count": 167,
   "id": "b0062c0a",
   "metadata": {},
   "outputs": [
    {
     "data": {
      "text/plain": [
       "Churn\n",
       "0    1294\n",
       "1     467\n",
       "Name: count, dtype: int64"
      ]
     },
     "execution_count": 167,
     "metadata": {},
     "output_type": "execute_result"
    }
   ],
   "source": [
    "test_df.Churn.value_counts()"
   ]
  },
  {
   "cell_type": "code",
   "execution_count": 168,
   "id": "d6e93d7c-92e3-43fd-b825-51bc898e882e",
   "metadata": {
    "tags": []
   },
   "outputs": [],
   "source": [
    "importlib.reload(pp)\n",
    "ks_df = pp.ks(data=test_df,target=\"Churn\", prob= \"Churn_probability\")"
   ]
  },
  {
   "cell_type": "code",
   "execution_count": 169,
   "id": "885027ee",
   "metadata": {},
   "outputs": [
    {
     "data": {
      "text/html": [
       "<div>\n",
       "<style scoped>\n",
       "    .dataframe tbody tr th:only-of-type {\n",
       "        vertical-align: middle;\n",
       "    }\n",
       "\n",
       "    .dataframe tbody tr th {\n",
       "        vertical-align: top;\n",
       "    }\n",
       "\n",
       "    .dataframe thead th {\n",
       "        text-align: right;\n",
       "    }\n",
       "</style>\n",
       "<table border=\"1\" class=\"dataframe\">\n",
       "  <thead>\n",
       "    <tr style=\"text-align: right;\">\n",
       "      <th></th>\n",
       "      <th>min_prob</th>\n",
       "      <th>max_prob</th>\n",
       "      <th>events</th>\n",
       "      <th>nonevents</th>\n",
       "      <th>event_rate</th>\n",
       "      <th>nonevent_rate</th>\n",
       "      <th>cum_eventrate</th>\n",
       "      <th>cum_noneventrate</th>\n",
       "      <th>KS</th>\n",
       "    </tr>\n",
       "    <tr>\n",
       "      <th>Decile</th>\n",
       "      <th></th>\n",
       "      <th></th>\n",
       "      <th></th>\n",
       "      <th></th>\n",
       "      <th></th>\n",
       "      <th></th>\n",
       "      <th></th>\n",
       "      <th></th>\n",
       "      <th></th>\n",
       "    </tr>\n",
       "  </thead>\n",
       "  <tbody>\n",
       "    <tr>\n",
       "      <th>1</th>\n",
       "      <td>0.825280</td>\n",
       "      <td>0.927880</td>\n",
       "      <td>102</td>\n",
       "      <td>41</td>\n",
       "      <td>21.84%</td>\n",
       "      <td>3.17%</td>\n",
       "      <td>21.84%</td>\n",
       "      <td>3.17%</td>\n",
       "      <td>0.186731</td>\n",
       "    </tr>\n",
       "    <tr>\n",
       "      <th>2</th>\n",
       "      <td>0.734383</td>\n",
       "      <td>0.824004</td>\n",
       "      <td>110</td>\n",
       "      <td>78</td>\n",
       "      <td>23.55%</td>\n",
       "      <td>6.03%</td>\n",
       "      <td>45.40%</td>\n",
       "      <td>9.20%</td>\n",
       "      <td>0.361999</td>\n",
       "    </tr>\n",
       "    <tr>\n",
       "      <th>3</th>\n",
       "      <td>0.584765</td>\n",
       "      <td>0.733673</td>\n",
       "      <td>86</td>\n",
       "      <td>111</td>\n",
       "      <td>18.42%</td>\n",
       "      <td>8.58%</td>\n",
       "      <td>63.81%</td>\n",
       "      <td>17.77%</td>\n",
       "      <td>0.460372</td>\n",
       "    </tr>\n",
       "    <tr>\n",
       "      <th>4</th>\n",
       "      <td>0.542595</td>\n",
       "      <td>0.583505</td>\n",
       "      <td>61</td>\n",
       "      <td>113</td>\n",
       "      <td>13.06%</td>\n",
       "      <td>8.73%</td>\n",
       "      <td>76.87%</td>\n",
       "      <td>26.51%</td>\n",
       "      <td>0.503667</td>\n",
       "    </tr>\n",
       "    <tr>\n",
       "      <th>5</th>\n",
       "      <td>0.402946</td>\n",
       "      <td>0.535621</td>\n",
       "      <td>40</td>\n",
       "      <td>134</td>\n",
       "      <td>8.57%</td>\n",
       "      <td>10.36%</td>\n",
       "      <td>85.44%</td>\n",
       "      <td>36.86%</td>\n",
       "      <td>0.485765</td>\n",
       "    </tr>\n",
       "    <tr>\n",
       "      <th>6</th>\n",
       "      <td>0.293485</td>\n",
       "      <td>0.399784</td>\n",
       "      <td>23</td>\n",
       "      <td>150</td>\n",
       "      <td>4.93%</td>\n",
       "      <td>11.59%</td>\n",
       "      <td>90.36%</td>\n",
       "      <td>48.45%</td>\n",
       "      <td>0.419096</td>\n",
       "    </tr>\n",
       "    <tr>\n",
       "      <th>7</th>\n",
       "      <td>0.200314</td>\n",
       "      <td>0.289195</td>\n",
       "      <td>23</td>\n",
       "      <td>158</td>\n",
       "      <td>4.93%</td>\n",
       "      <td>12.21%</td>\n",
       "      <td>95.29%</td>\n",
       "      <td>60.66%</td>\n",
       "      <td>0.346245</td>\n",
       "    </tr>\n",
       "    <tr>\n",
       "      <th>8</th>\n",
       "      <td>0.099624</td>\n",
       "      <td>0.197161</td>\n",
       "      <td>19</td>\n",
       "      <td>159</td>\n",
       "      <td>4.07%</td>\n",
       "      <td>12.29%</td>\n",
       "      <td>99.36%</td>\n",
       "      <td>72.95%</td>\n",
       "      <td>0.264055</td>\n",
       "    </tr>\n",
       "    <tr>\n",
       "      <th>9</th>\n",
       "      <td>0.060692</td>\n",
       "      <td>0.098841</td>\n",
       "      <td>1</td>\n",
       "      <td>165</td>\n",
       "      <td>0.21%</td>\n",
       "      <td>12.75%</td>\n",
       "      <td>99.57%</td>\n",
       "      <td>85.70%</td>\n",
       "      <td>0.138685</td>\n",
       "    </tr>\n",
       "    <tr>\n",
       "      <th>10</th>\n",
       "      <td>0.019027</td>\n",
       "      <td>0.058904</td>\n",
       "      <td>2</td>\n",
       "      <td>185</td>\n",
       "      <td>0.43%</td>\n",
       "      <td>14.30%</td>\n",
       "      <td>100.00%</td>\n",
       "      <td>100.00%</td>\n",
       "      <td>0.000000</td>\n",
       "    </tr>\n",
       "  </tbody>\n",
       "</table>\n",
       "</div>"
      ],
      "text/plain": [
       "        min_prob  max_prob  events  nonevents event_rate nonevent_rate  \\\n",
       "Decile                                                                   \n",
       "1       0.825280  0.927880     102         41     21.84%         3.17%   \n",
       "2       0.734383  0.824004     110         78     23.55%         6.03%   \n",
       "3       0.584765  0.733673      86        111     18.42%         8.58%   \n",
       "4       0.542595  0.583505      61        113     13.06%         8.73%   \n",
       "5       0.402946  0.535621      40        134      8.57%        10.36%   \n",
       "6       0.293485  0.399784      23        150      4.93%        11.59%   \n",
       "7       0.200314  0.289195      23        158      4.93%        12.21%   \n",
       "8       0.099624  0.197161      19        159      4.07%        12.29%   \n",
       "9       0.060692  0.098841       1        165      0.21%        12.75%   \n",
       "10      0.019027  0.058904       2        185      0.43%        14.30%   \n",
       "\n",
       "       cum_eventrate cum_noneventrate        KS  \n",
       "Decile                                           \n",
       "1             21.84%            3.17%  0.186731  \n",
       "2             45.40%            9.20%  0.361999  \n",
       "3             63.81%           17.77%  0.460372  \n",
       "4             76.87%           26.51%  0.503667  \n",
       "5             85.44%           36.86%  0.485765  \n",
       "6             90.36%           48.45%  0.419096  \n",
       "7             95.29%           60.66%  0.346245  \n",
       "8             99.36%           72.95%  0.264055  \n",
       "9             99.57%           85.70%  0.138685  \n",
       "10           100.00%          100.00%  0.000000  "
      ]
     },
     "execution_count": 169,
     "metadata": {},
     "output_type": "execute_result"
    }
   ],
   "source": [
    "ks_df"
   ]
  },
  {
   "cell_type": "code",
   "execution_count": null,
   "id": "ec0cdf3c-b81e-4374-aab9-7ec3ad6bdd4d",
   "metadata": {
    "tags": []
   },
   "outputs": [
    {
     "data": {
      "text/html": [
       "<div>\n",
       "<style scoped>\n",
       "    .dataframe tbody tr th:only-of-type {\n",
       "        vertical-align: middle;\n",
       "    }\n",
       "\n",
       "    .dataframe tbody tr th {\n",
       "        vertical-align: top;\n",
       "    }\n",
       "\n",
       "    .dataframe thead th {\n",
       "        text-align: right;\n",
       "    }\n",
       "</style>\n",
       "<table border=\"1\" class=\"dataframe\">\n",
       "  <thead>\n",
       "    <tr style=\"text-align: right;\">\n",
       "      <th></th>\n",
       "      <th>min_prob</th>\n",
       "      <th>max_prob</th>\n",
       "      <th>events</th>\n",
       "      <th>nonevents</th>\n",
       "      <th>event_rate</th>\n",
       "      <th>nonevent_rate</th>\n",
       "      <th>cum_eventrate</th>\n",
       "      <th>cum_noneventrate</th>\n",
       "      <th>KS</th>\n",
       "    </tr>\n",
       "    <tr>\n",
       "      <th>Decile</th>\n",
       "      <th></th>\n",
       "      <th></th>\n",
       "      <th></th>\n",
       "      <th></th>\n",
       "      <th></th>\n",
       "      <th></th>\n",
       "      <th></th>\n",
       "      <th></th>\n",
       "      <th></th>\n",
       "    </tr>\n",
       "  </thead>\n",
       "  <tbody>\n",
       "    <tr>\n",
       "      <th>1</th>\n",
       "      <td>0.702077</td>\n",
       "      <td>0.985995</td>\n",
       "      <td>82</td>\n",
       "      <td>334</td>\n",
       "      <td>65.08%</td>\n",
       "      <td>8.24%</td>\n",
       "      <td>65.08%</td>\n",
       "      <td>8.24%</td>\n",
       "      <td>0.568406</td>\n",
       "    </tr>\n",
       "    <tr>\n",
       "      <th>2</th>\n",
       "      <td>0.573361</td>\n",
       "      <td>0.699667</td>\n",
       "      <td>18</td>\n",
       "      <td>400</td>\n",
       "      <td>14.29%</td>\n",
       "      <td>9.87%</td>\n",
       "      <td>79.37%</td>\n",
       "      <td>18.11%</td>\n",
       "      <td>0.612595</td>\n",
       "    </tr>\n",
       "    <tr>\n",
       "      <th>3</th>\n",
       "      <td>0.503984</td>\n",
       "      <td>0.573209</td>\n",
       "      <td>15</td>\n",
       "      <td>393</td>\n",
       "      <td>11.90%</td>\n",
       "      <td>9.69%</td>\n",
       "      <td>91.27%</td>\n",
       "      <td>27.80%</td>\n",
       "      <td>0.634701</td>\n",
       "    </tr>\n",
       "    <tr>\n",
       "      <th>4</th>\n",
       "      <td>0.145940</td>\n",
       "      <td>0.503301</td>\n",
       "      <td>4</td>\n",
       "      <td>426</td>\n",
       "      <td>3.17%</td>\n",
       "      <td>10.51%</td>\n",
       "      <td>94.44%</td>\n",
       "      <td>38.31%</td>\n",
       "      <td>0.561366</td>\n",
       "    </tr>\n",
       "    <tr>\n",
       "      <th>5</th>\n",
       "      <td>0.076579</td>\n",
       "      <td>0.145418</td>\n",
       "      <td>2</td>\n",
       "      <td>412</td>\n",
       "      <td>1.59%</td>\n",
       "      <td>10.16%</td>\n",
       "      <td>96.03%</td>\n",
       "      <td>48.47%</td>\n",
       "      <td>0.475611</td>\n",
       "    </tr>\n",
       "    <tr>\n",
       "      <th>6</th>\n",
       "      <td>0.056283</td>\n",
       "      <td>0.076036</td>\n",
       "      <td>0</td>\n",
       "      <td>398</td>\n",
       "      <td>0.00%</td>\n",
       "      <td>9.82%</td>\n",
       "      <td>96.03%</td>\n",
       "      <td>58.29%</td>\n",
       "      <td>0.377436</td>\n",
       "    </tr>\n",
       "    <tr>\n",
       "      <th>7</th>\n",
       "      <td>0.044192</td>\n",
       "      <td>0.056267</td>\n",
       "      <td>1</td>\n",
       "      <td>435</td>\n",
       "      <td>0.79%</td>\n",
       "      <td>10.73%</td>\n",
       "      <td>96.83%</td>\n",
       "      <td>69.02%</td>\n",
       "      <td>0.278071</td>\n",
       "    </tr>\n",
       "    <tr>\n",
       "      <th>8</th>\n",
       "      <td>0.034204</td>\n",
       "      <td>0.044162</td>\n",
       "      <td>1</td>\n",
       "      <td>419</td>\n",
       "      <td>0.79%</td>\n",
       "      <td>10.34%</td>\n",
       "      <td>97.62%</td>\n",
       "      <td>79.35%</td>\n",
       "      <td>0.182653</td>\n",
       "    </tr>\n",
       "    <tr>\n",
       "      <th>9</th>\n",
       "      <td>0.028435</td>\n",
       "      <td>0.034155</td>\n",
       "      <td>1</td>\n",
       "      <td>393</td>\n",
       "      <td>0.79%</td>\n",
       "      <td>9.69%</td>\n",
       "      <td>98.41%</td>\n",
       "      <td>89.05%</td>\n",
       "      <td>0.093648</td>\n",
       "    </tr>\n",
       "    <tr>\n",
       "      <th>10</th>\n",
       "      <td>0.014959</td>\n",
       "      <td>0.028423</td>\n",
       "      <td>2</td>\n",
       "      <td>444</td>\n",
       "      <td>1.59%</td>\n",
       "      <td>10.95%</td>\n",
       "      <td>100.00%</td>\n",
       "      <td>100.00%</td>\n",
       "      <td>0.0</td>\n",
       "    </tr>\n",
       "  </tbody>\n",
       "</table>\n",
       "</div>"
      ],
      "text/plain": [
       "        min_prob  max_prob  events  nonevents event_rate nonevent_rate  \\\n",
       "Decile                                                                   \n",
       "1       0.702077  0.985995      82        334     65.08%         8.24%   \n",
       "2       0.573361  0.699667      18        400     14.29%         9.87%   \n",
       "3       0.503984  0.573209      15        393     11.90%         9.69%   \n",
       "4       0.145940  0.503301       4        426      3.17%        10.51%   \n",
       "5       0.076579  0.145418       2        412      1.59%        10.16%   \n",
       "6       0.056283  0.076036       0        398      0.00%         9.82%   \n",
       "7       0.044192  0.056267       1        435      0.79%        10.73%   \n",
       "8       0.034204  0.044162       1        419      0.79%        10.34%   \n",
       "9       0.028435  0.034155       1        393      0.79%         9.69%   \n",
       "10      0.014959  0.028423       2        444      1.59%        10.95%   \n",
       "\n",
       "       cum_eventrate cum_noneventrate        KS  \n",
       "Decile                                           \n",
       "1             65.08%            8.24%  0.568406  \n",
       "2             79.37%           18.11%  0.612595  \n",
       "3             91.27%           27.80%  0.634701  \n",
       "4             94.44%           38.31%  0.561366  \n",
       "5             96.03%           48.47%  0.475611  \n",
       "6             96.03%           58.29%  0.377436  \n",
       "7             96.83%           69.02%  0.278071  \n",
       "8             97.62%           79.35%  0.182653  \n",
       "9             98.41%           89.05%  0.093648  \n",
       "10           100.00%          100.00%       0.0  "
      ]
     },
     "execution_count": 63,
     "metadata": {},
     "output_type": "execute_result"
    }
   ],
   "source": [
    "ks_df"
   ]
  },
  {
   "cell_type": "markdown",
   "id": "b40b8165-8735-4ca1-9257-bd7503023c6a",
   "metadata": {},
   "source": [
    "## SHAP Feature Importance"
   ]
  },
  {
   "cell_type": "code",
   "execution_count": null,
   "id": "c94aa200-7846-4b30-9235-68952e77db6c",
   "metadata": {
    "tags": []
   },
   "outputs": [],
   "source": [
    "import shap\n",
    "explainer = shap.Explainer(best_model_after_fs, X_test[best_features])\n",
    "shap_values = explainer(X_test[best_features])"
   ]
  },
  {
   "cell_type": "code",
   "execution_count": null,
   "id": "2e67f13e-657b-4720-866b-cfcfea30e2f6",
   "metadata": {
    "tags": []
   },
   "outputs": [
    {
     "data": {
      "image/png": "[encoded data removed]",
      "text/plain": [
       "<Figure size 800x510 with 1 Axes>"
      ]
     },
     "metadata": {},
     "output_type": "display_data"
    }
   ],
   "source": [
    "shap.summary_plot(shap_values, X_test[best_features], plot_type= 'bar')"
   ]
  },
  {
   "cell_type": "code",
   "execution_count": null,
   "id": "5fdd0935-8138-498d-9e39-3de5a173f5dd",
   "metadata": {
    "tags": []
   },
   "outputs": [
    {
     "data": {
      "image/png": "[encoded data removed]",
      "text/plain": [
       "<Figure size 800x510 with 2 Axes>"
      ]
     },
     "metadata": {},
     "output_type": "display_data"
    }
   ],
   "source": [
    "shap.plots.beeswarm(shap_values, max_display = 20)"
   ]
  }
 ],
 "metadata": {
  "environment": {
   "kernel": "python3",
   "name": "tf2-cpu.2-11.m119",
   "type": "gcloud",
   "uri": "us-docker.pkg.dev/deeplearning-platform-release/gcr.io/tf2-cpu.2-11:m119"
  },
  "kernelspec": {
   "display_name": "Python 3 (Local)",
   "language": "python",
   "name": "python3"
  },
  "language_info": {
   "codemirror_mode": {
    "name": "ipython",
    "version": 3
   },
   "file_extension": ".py",
   "mimetype": "text/x-python",
   "name": "python",
   "nbconvert_exporter": "python",
   "pygments_lexer": "ipython3",
   "version": "3.8.19"
  }
 },
 "nbformat": 4,
 "nbformat_minor": 5
}
